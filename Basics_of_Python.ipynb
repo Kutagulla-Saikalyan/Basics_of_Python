{
  "nbformat": 4,
  "nbformat_minor": 0,
  "metadata": {
    "colab": {
      "provenance": [],
      "collapsed_sections": [
        "eDDx88v9jvGS",
        "oyLkYsbAkKuM",
        "K562mcnflqnA",
        "fAAqo7flmSZW",
        "8gUbSvGLmwr0",
        "GjW4Ha9Sncx8",
        "bz4q7Xl7zAqy",
        "DTJnC4xUzAlH",
        "JBATiqOq1Bu6",
        "dAGU97B4LBal",
        "B8Xz_DO-8-3s",
        "OgHCCDzK1PXR",
        "l0-ezc-m5JA8",
        "anXpLhZ67EMW",
        "r4pGQNKJPfJy",
        "n29oD_AVe7QP",
        "DrbnUxZjSjw1",
        "_QWTCXSESjPP",
        "u9VhDbCU983I",
        "QN3uiIAK9-4k",
        "s8gqA2eC-F5f",
        "nM6noCAI_TjI",
        "HIYXQ98J_v7Y",
        "XgtWSs3d_2Vj",
        "aPUIodm8pQ-v",
        "LIor4Z5_pQw8",
        "2s1dH7N4pQlD",
        "EyYlPHyLqBBA",
        "KLwsrwUHqAjF"
      ]
    },
    "kernelspec": {
      "name": "python3",
      "display_name": "Python 3"
    },
    "language_info": {
      "name": "python"
    }
  },
  "cells": [
    {
      "cell_type": "markdown",
      "source": [
        "## Prerequisite topics should be learned:"
      ],
      "metadata": {
        "id": "bBZhN8TwLMaZ"
      }
    },
    {
      "cell_type": "markdown",
      "source": [
        "* Basic programming knowledge and understanding of syntax.\n",
        "* Familiarity with Python's structure and syntax.\n",
        "* Knowledge of variables and how to assign values to them.\n",
        "* An overview of Python data types including integers, floats, strings, lists, and dictionaries, and \n",
        "* Operators including arithmetic, comparison, and logical operators."
      ],
      "metadata": {
        "id": "qQJ8zVwLRhZX"
      }
    },
    {
      "cell_type": "markdown",
      "source": [
        "## Agenda"
      ],
      "metadata": {
        "id": "EILrHzuTLWnh"
      }
    },
    {
      "cell_type": "markdown",
      "source": [
        "* Introduction to Python programming language syntax and conventions.\n",
        "* Overview of data types in Python and how to work with them.\n",
        "* Working with variables in Python and how to assign and manipulate their values.\n",
        "* Introduction to operators in Python and how to use them to perform calculations and comparisons.\n",
        "* Practice exercises to reinforce understanding of the above topics."
      ],
      "metadata": {
        "id": "NousfoB-SImm"
      }
    },
    {
      "cell_type": "markdown",
      "source": [
        "## Introduction to Python Programming"
      ],
      "metadata": {
        "id": "nij0X2ZnHBHF"
      }
    },
    {
      "cell_type": "markdown",
      "source": [
        "* Python is a free, versatile, and widely used programming language for web development, data analysis, AI, and ML. \n",
        "* It has an easy-to-learn syntax and a large active community of developers who provide support and resources. \n",
        "* This makes Python a popular choice for beginners and professionals alike."
      ],
      "metadata": {
        "id": "wDrrizUuXVKg"
      }
    },
    {
      "cell_type": "markdown",
      "source": [
        "**Example:**\n",
        "\n",
        "Let's say you want to analyze a large dataset. Here Python's powerful data science libraries like NumPy, Pandas, and Matplotlib allow you to easily clean and analyze large datasets, create informative visualizations, and work with various data types and formats."
      ],
      "metadata": {
        "id": "FK5cTJ_b3y6O"
      }
    },
    {
      "cell_type": "markdown",
      "source": [
        "* **Introducing Data Science as a field:** \n",
        " * Data Science uses statistical and computational methods to extract insights from data. \n",
        " * Enabling informed decision-making across different fields.\n",
        "\n",
        "* **Explaining how Python is used in Data Science:**\n",
        " * Python is a high-level programming language that is widely used in data science. \n",
        " * It is preferred over other programming languages like C++, Java, and R for several reasons:\n",
        " \n",
        " * Easy to learn and use. \n",
        " * Large community and ecosystem.\n",
        " * Powerful libraries.\n",
        " * Compatibility with other languages."
      ],
      "metadata": {
        "id": "8iTjEJWjDZ8U"
      }
    },
    {
      "cell_type": "markdown",
      "source": [
        "Some real-world examples of how Python is used in data science include:\n",
        "\n",
        "* **Predictive modeling:** Python can forecast stock prices for a financial services company based on historical data.\n",
        "\n",
        "* **Natural language processing:** Python can analyze user comments and sentiments on a social media platform.\n",
        "\n",
        "* **Data visualization:** Python can create dashboards for businesses to display key performance indicators and metrics."
      ],
      "metadata": {
        "id": "Mc5mJ4zAJHQc"
      }
    },
    {
      "cell_type": "markdown",
      "source": [
        "### Basic Python Syntax"
      ],
      "metadata": {
        "id": "uBpewyfwc2XF"
      }
    },
    {
      "cell_type": "markdown",
      "source": [
        "The Python language has a syntax, which is a set of rules that dictate how code should be written.\n",
        "* **Print statement:**\n",
        " * The print statement in Python is used to display text on the screen.\n",
        "* **Comments:**\n",
        " * Comments are used to explain code or disable lines temporarily. \n",
        " * They are not executed by the interpreter and do not affect the output.\n",
        "* **Indentation:**\n",
        " * Python uses indentation to define code blocks instead of curly braces. \n",
        " * This makes the code more readable and understandable.\n",
        " "
      ],
      "metadata": {
        "id": "ccQh0QTYf35g"
      }
    },
    {
      "cell_type": "markdown",
      "source": [
        "### Let's explore the story that integrates the topics of Basic Python Syntax:"
      ],
      "metadata": {
        "id": "Rtv_AxT9TmmI"
      }
    },
    {
      "cell_type": "markdown",
      "source": [
        "Once upon a time, in a faraway land, there lived a young wizard named Lily. Lily loved to experiment with different spells, and one day she decided to create a spell that would make her favorite flower, the rose, grow even more beautiful.\n",
        "\n",
        "Lily knew that in order to cast a spell, she needed to write some code. She had learned some basic Python syntax from her magic school, so she opened up her laptop and started writing her code."
      ],
      "metadata": {
        "id": "xTZtjPetTmi-"
      }
    },
    {
      "cell_type": "markdown",
      "source": [
        "First she used the print statement to make sure that her code was working properly. She typed:"
      ],
      "metadata": {
        "id": "hy-scv3bTRKi"
      }
    },
    {
      "cell_type": "code",
      "source": [
        "print(\"Let's make this rose bloom!\")"
      ],
      "metadata": {
        "colab": {
          "base_uri": "https://localhost:8080/"
        },
        "id": "LoPOau_AXs19",
        "outputId": "56319d6c-0a6e-4786-ca5f-24feb3c9dacb"
      },
      "execution_count": null,
      "outputs": [
        {
          "output_type": "stream",
          "name": "stdout",
          "text": [
            "Let's make this rose bloom!\n"
          ]
        }
      ]
    },
    {
      "cell_type": "markdown",
      "source": [
        "This code would simply print out the message \"Let's make this rose bloom!\" to the console when she ran her program. It was a simple way for her to check if her code was running correctly."
      ],
      "metadata": {
        "id": "enBS7xxcTQ3G"
      }
    },
    {
      "cell_type": "markdown",
      "source": [
        "Next she added a comment to explain what her code was doing. She wrote:"
      ],
      "metadata": {
        "id": "WkekH0HdX6bD"
      }
    },
    {
      "cell_type": "code",
      "source": [
        "# This code will make the rose bloom more beautifully.\n",
        "\n",
        "\"\"\"\n",
        "This comment helped her remember what her code was supposed to do and also helped anyone else who might read her code understand it better.\n",
        "\n",
        "\"\"\""
      ],
      "metadata": {
        "id": "EuLqashkYFJU"
      },
      "execution_count": null,
      "outputs": []
    },
    {
      "cell_type": "markdown",
      "source": [
        " After she added some indentation <mark>**:**</mark> to her code. This was important because Python uses indentation to define blocks of code. She wrote:"
      ],
      "metadata": {
        "id": "Pd1LgW_TX6MZ"
      }
    },
    {
      "cell_type": "code",
      "source": [
        "time_of_day = input(\"Enter a time of day (morning, afternoon, or evening): \")\n",
        "\n",
        "if time_of_day == \"morning\":\n",
        "    print(\"The rose is waking up!\")\n",
        "elif time_of_day == \"afternoon\":\n",
        "    print(\"The rose is soaking up the sun!\")\n",
        "else:\n",
        "    print(\"The rose is resting for the night.\")"
      ],
      "metadata": {
        "colab": {
          "base_uri": "https://localhost:8080/"
        },
        "id": "cFpr1LsxYoHN",
        "outputId": "1e14a3c8-f232-4d40-9273-d2f727f5da19"
      },
      "execution_count": null,
      "outputs": [
        {
          "output_type": "stream",
          "name": "stdout",
          "text": [
            "Enter a time of day (morning, afternoon, or evening): morning\n",
            "The rose is waking up!\n"
          ]
        }
      ]
    },
    {
      "cell_type": "markdown",
      "source": [
        "This code would check the time of day and print out a message depending on whether it was morning, afternoon, or night."
      ],
      "metadata": {
        "id": "SRbOT3vQX6JL"
      }
    },
    {
      "cell_type": "markdown",
      "source": [
        "Lily finished writing her code, she cast her spell and watched as her rose bloomed more beautifully than ever before. She was thrilled with the results and couldn't wait to try more spells using Python!\n",
        "\n",
        "\n",
        "---\n",
        "\n"
      ],
      "metadata": {
        "id": "dIeqzERWZ7KE"
      }
    },
    {
      "cell_type": "markdown",
      "source": [
        "### Here are 6 questions from Introduction to Python Programming and Basic Python Syntax.\n",
        "* **Note:** The first two demo questions will be demonstrated by the lab mentor, after which there will be practice time for learners. \n",
        "* Each question must be solved within 2 minute."
      ],
      "metadata": {
        "id": "DfegTN4AZurD"
      }
    },
    {
      "cell_type": "markdown",
      "source": [
        "### <mark>**Demo question 1**</mark>\n",
        "Create two variables called \"price\" and \"currency\" and assign them the values 10.99 and \"$\". Print a message that says \"The price is [currency][price].\""
      ],
      "metadata": {
        "id": "eDDx88v9jvGS"
      }
    },
    {
      "cell_type": "code",
      "source": [
        "# Answer\n",
        "price = 10.99\n",
        "currency = \"$\"\n",
        "print(\"The price is \" + currency + str(price))"
      ],
      "metadata": {
        "colab": {
          "base_uri": "https://localhost:8080/"
        },
        "id": "mxRihKb4k_lw",
        "outputId": "64859865-317d-4c8e-a224-9a623eec2e4b"
      },
      "execution_count": null,
      "outputs": [
        {
          "output_type": "stream",
          "name": "stdout",
          "text": [
            "The price is $10.99\n"
          ]
        }
      ]
    },
    {
      "cell_type": "markdown",
      "source": [
        "### <mark>**Demo question 2**</mark>\n",
        "Create a variable called \"subtotal\" and assign it the value of 50.99. Create another variable called \"discount\" and assign it the value of 0.10. Calculate the discounted total by subtracting the discount amount from the subtotal, and print a message that says \"The discounted total is $[total].\""
      ],
      "metadata": {
        "id": "oyLkYsbAkKuM"
      }
    },
    {
      "cell_type": "code",
      "source": [
        "# Answer\n",
        "subtotal = 50.99\n",
        "discount = 0.10\n",
        "total = subtotal - (subtotal * discount)\n",
        "print(\"The discounted total is $\" + str(total))"
      ],
      "metadata": {
        "colab": {
          "base_uri": "https://localhost:8080/"
        },
        "id": "495ZkcRikd-L",
        "outputId": "8a2260e3-6ae6-4afc-9516-b41f8e0ff8cd"
      },
      "execution_count": null,
      "outputs": [
        {
          "output_type": "stream",
          "name": "stdout",
          "text": [
            "The discounted total is $45.891000000000005\n"
          ]
        }
      ]
    },
    {
      "cell_type": "markdown",
      "source": [
        "---\n",
        "### <mark>**Practice Time for learners**</mark>"
      ],
      "metadata": {
        "id": "WFnjvBnmlGHa"
      }
    },
    {
      "cell_type": "markdown",
      "source": [
        "#### **Question 1 (2 minute):**\n",
        "Create three variables called \"price\", \"tax_rate\", and \"total\". Assign the values 25, 0.08, and the result of adding price and the product of price and tax_rate, respectively. Print a message that says \"The total price including tax is [total].\""
      ],
      "metadata": {
        "id": "K562mcnflqnA"
      }
    },
    {
      "cell_type": "code",
      "source": [
        "# Answer\n",
        "price = 25\n",
        "tax_rate = 0.08\n",
        "total = price + (price * tax_rate)\n",
        "print(\"The total price including tax is \" + str(total))"
      ],
      "metadata": {
        "colab": {
          "base_uri": "https://localhost:8080/"
        },
        "id": "weA9bEcqmFX8",
        "outputId": "77afa3d3-e9c8-45f3-a465-344e69193378"
      },
      "execution_count": null,
      "outputs": [
        {
          "output_type": "stream",
          "name": "stdout",
          "text": [
            "The total price including tax is 27.0\n"
          ]
        }
      ]
    },
    {
      "cell_type": "markdown",
      "source": [
        "#### **Question 2 (2 minute):**\n",
        "Write a comment explaining why the following line of code is important: \"total = price + (price * tax_rate) # calculates the total price including tax\""
      ],
      "metadata": {
        "id": "fAAqo7flmSZW"
      }
    },
    {
      "cell_type": "code",
      "source": [
        "# Answer\n",
        "price = 25\n",
        "tax_rate = 0.08\n",
        "total = price + (price * tax_rate) # calculates the total price including tax"
      ],
      "metadata": {
        "id": "hkmuxWxWmaQa"
      },
      "execution_count": null,
      "outputs": []
    },
    {
      "cell_type": "markdown",
      "source": [
        "#### **Question 3 (2 minute):**\n",
        "Create five variables called \"item1\", \"item2\", \"item3\", \"item4\", and \"item5\". Assign them the names of five different products. Use concatenation to print each item in the list with a \" - \" between them."
      ],
      "metadata": {
        "id": "8gUbSvGLmwr0"
      }
    },
    {
      "cell_type": "code",
      "source": [
        "# Answer\n",
        "item1 = \"apple\"\n",
        "item2 = \"orange\"\n",
        "item3 = \"banana\"\n",
        "item4 = \"mango\"\n",
        "item5 = \"pear\"\n",
        "print(item1 + \" - \" + item2 + \" - \" + item3 + \" - \" + item4 + \" - \" + item5)"
      ],
      "metadata": {
        "colab": {
          "base_uri": "https://localhost:8080/"
        },
        "id": "yjgfV67Lm6i7",
        "outputId": "c38f6751-8579-4df5-88a2-0e7113d10141"
      },
      "execution_count": null,
      "outputs": [
        {
          "output_type": "stream",
          "name": "stdout",
          "text": [
            "apple - orange - banana - mango - pear\n"
          ]
        }
      ]
    },
    {
      "cell_type": "markdown",
      "source": [
        "#### **Question 4 (2 minute):**\n",
        "Create three variables called \"name\", \"email\", and \"phone\". Assign them the values \"John Smith\", \"johnsmith@gmail.com\", and \"555-1234\", respectively. Use concatenation to print the message \"Customer Name: [name], Email: [email], Phone: [phone].\""
      ],
      "metadata": {
        "id": "GjW4Ha9Sncx8"
      }
    },
    {
      "cell_type": "code",
      "source": [
        "#Answer\n",
        "name = \"John Smith\"\n",
        "email = \"johnsmith@gmail.com\"\n",
        "phone = \"555-1234\"\n",
        "print(\"Customer Name: \" + name + \", Email: \" + email + \", Phone: \" + phone + \".\")"
      ],
      "metadata": {
        "colab": {
          "base_uri": "https://localhost:8080/"
        },
        "id": "QKTwjm_BnmAS",
        "outputId": "8b393bbe-2476-485a-c210-deba863460f1"
      },
      "execution_count": null,
      "outputs": [
        {
          "output_type": "stream",
          "name": "stdout",
          "text": [
            "Customer Name: John Smith, Email: johnsmith@gmail.com, Phone: 555-1234.\n"
          ]
        }
      ]
    },
    {
      "cell_type": "markdown",
      "source": [
        "---\n",
        "---\n",
        "\n",
        "## Variables and Overview of Data Types"
      ],
      "metadata": {
        "id": "jejKD3YOHA1m"
      }
    },
    {
      "cell_type": "markdown",
      "source": [
        "### Variables"
      ],
      "metadata": {
        "id": "FpCFLlCTHAx_"
      }
    },
    {
      "cell_type": "markdown",
      "source": [
        "* In programming a variable holds a value like a label. \n",
        "* **Example** To keep track of your age, you can create a variable called \"age\" and assign it a value of 15."
      ],
      "metadata": {
        "id": "PTaRSXySqqll"
      }
    },
    {
      "cell_type": "code",
      "source": [
        "# This is how you create a variable in Python\n",
        "# First, choose a name for your variable. Make sure it's descriptive but not too long.\n",
        "age = 15\n",
        "age"
      ],
      "metadata": {
        "colab": {
          "base_uri": "https://localhost:8080/"
        },
        "id": "0V5ivqaGf0TT",
        "outputId": "9ef76ea6-9623-426a-a04c-9a95d947b66d"
      },
      "execution_count": null,
      "outputs": [
        {
          "output_type": "execute_result",
          "data": {
            "text/plain": [
              "15"
            ]
          },
          "metadata": {},
          "execution_count": 6
        }
      ]
    },
    {
      "cell_type": "markdown",
      "source": [
        "#### Variable naming conventions"
      ],
      "metadata": {
        "id": "N6PjJS58W1mP"
      }
    },
    {
      "cell_type": "markdown",
      "source": [
        "* When naming variables use descriptive names that give an idea of what the variable stores. \n",
        "* Avoid starting variable names with a number or using spaces. \n",
        "* Use underscores to separate words instead. For instance instead of <mark>**\"my name,\"**</mark> use <mark>**\"my_name\"**</mark> as a variable name."
      ],
      "metadata": {
        "id": "7tENe8wjsJJR"
      }
    },
    {
      "cell_type": "code",
      "source": [
        "# Define a variable called my_name and assign it the value \"John\"\n",
        "my_name = \"John\"\n",
        "print(my_name)"
      ],
      "metadata": {
        "colab": {
          "base_uri": "https://localhost:8080/"
        },
        "id": "RGFvBKfuhyRU",
        "outputId": "2cd06507-2783-4c1c-f1fe-a10da08b92fc"
      },
      "execution_count": null,
      "outputs": [
        {
          "output_type": "stream",
          "name": "stdout",
          "text": [
            "John\n"
          ]
        }
      ]
    },
    {
      "cell_type": "code",
      "source": [
        "# Define a variable called age and assign it the value 20\n",
        "age = 20\n",
        "print(age)"
      ],
      "metadata": {
        "colab": {
          "base_uri": "https://localhost:8080/"
        },
        "id": "g6ccmXjth_70",
        "outputId": "4b1a930a-9366-4de2-99d3-5ab6aee5dda3"
      },
      "execution_count": null,
      "outputs": [
        {
          "output_type": "stream",
          "name": "stdout",
          "text": [
            "20\n"
          ]
        }
      ]
    },
    {
      "cell_type": "code",
      "source": [
        "# Define a variable called is_student and assign it the value True\n",
        "is_student = True\n",
        "is_student"
      ],
      "metadata": {
        "colab": {
          "base_uri": "https://localhost:8080/"
        },
        "id": "37Wo5HCAiGqL",
        "outputId": "1617bdd4-629d-4f79-9384-da7f1fdf7c25"
      },
      "execution_count": null,
      "outputs": [
        {
          "output_type": "execute_result",
          "data": {
            "text/plain": [
              "True"
            ]
          },
          "metadata": {},
          "execution_count": 5
        }
      ]
    },
    {
      "cell_type": "code",
      "source": [
        "# Note that variable names should not start with a number\n",
        "# This would result in a syntax error\n",
        "1_age = 20"
      ],
      "metadata": {
        "colab": {
          "base_uri": "https://localhost:8080/",
          "height": 130
        },
        "id": "AyX3LxlKiNs5",
        "outputId": "d3766629-8f83-41a4-980f-cac262271dd8"
      },
      "execution_count": null,
      "outputs": [
        {
          "output_type": "error",
          "ename": "SyntaxError",
          "evalue": "ignored",
          "traceback": [
            "\u001b[0;36m  File \u001b[0;32m\"<ipython-input-6-ec12636691cc>\"\u001b[0;36m, line \u001b[0;32m3\u001b[0m\n\u001b[0;31m    1_age = 20\u001b[0m\n\u001b[0m     ^\u001b[0m\n\u001b[0;31mSyntaxError\u001b[0m\u001b[0;31m:\u001b[0m invalid decimal literal\n"
          ]
        }
      ]
    },
    {
      "cell_type": "markdown",
      "source": [
        "This would result in a syntax error, so instead we use a variable name like my_age instead of 1_age."
      ],
      "metadata": {
        "id": "iRd_M1oViskW"
      }
    },
    {
      "cell_type": "code",
      "source": [
        "# Instead use underscores to separate words\n",
        "my_age = 20\n",
        "my_age"
      ],
      "metadata": {
        "colab": {
          "base_uri": "https://localhost:8080/"
        },
        "id": "qM7-lCasiXLl",
        "outputId": "a5ba6753-c1f2-4076-ecfb-d79ff6ff1484"
      },
      "execution_count": null,
      "outputs": [
        {
          "output_type": "execute_result",
          "data": {
            "text/plain": [
              "20"
            ]
          },
          "metadata": {},
          "execution_count": 7
        }
      ]
    },
    {
      "cell_type": "markdown",
      "source": [
        "### Assigning variables"
      ],
      "metadata": {
        "id": "GpUFDv_hW1iu"
      }
    },
    {
      "cell_type": "markdown",
      "source": [
        "* To assign a value to a variable, you use the assignment operator, which is the equals sign <mark>=</mark>. \n",
        "* **Example** To assign the value 15 to the variable age, you would write"
      ],
      "metadata": {
        "id": "hcxKIjQOi9xZ"
      }
    },
    {
      "cell_type": "code",
      "source": [
        "age = 15\n",
        "# The \"=\" sign assigns the value of 15 to the variable \"age\"\n",
        "# Now, whenever we refer to the variable \"age\" in our code, Python will know we mean 15."
      ],
      "metadata": {
        "id": "6eqvjuZLjRTv"
      },
      "execution_count": null,
      "outputs": []
    },
    {
      "cell_type": "markdown",
      "source": [
        "### Using variables in print statements"
      ],
      "metadata": {
        "id": "v8Y_9RW9W1fv"
      }
    },
    {
      "cell_type": "markdown",
      "source": [
        "* You can use variables in print statements to display their values.\n",
        "* Enclose the variable name in curly brackets <mark>{}</mark>.\n",
        "* Use the format method to insert the variable value into the string.\n",
        "\n",
        "* **Example:** If you want to print the value of the variable age you would write"
      ],
      "metadata": {
        "id": "_VlOWwITxzhK"
      }
    },
    {
      "cell_type": "code",
      "source": [
        "print(\"My age is {}.\".format(age))"
      ],
      "metadata": {
        "colab": {
          "base_uri": "https://localhost:8080/"
        },
        "id": "YxrQ_JF3kiAU",
        "outputId": "b984e7a8-058d-467c-e3dc-9bb32fba928d"
      },
      "execution_count": null,
      "outputs": [
        {
          "output_type": "stream",
          "name": "stdout",
          "text": [
            "My age is 15.\n"
          ]
        }
      ]
    },
    {
      "cell_type": "markdown",
      "source": [
        "Once we've created a variable, we can use it in different ways. for example we might want to print the value of the variable to the console:"
      ],
      "metadata": {
        "id": "rBchugiojioy"
      }
    },
    {
      "cell_type": "code",
      "source": [
        "# This is how you print the value of a variable in Python\n",
        "print(\"I am \" + str(age) + \" years old\")\n",
        "# The \"print\" statement outputs text to the console\n",
        "# We can combine the string \"I am\" and the value of the variable \"age\" (converted to a string with \"str()\") to create a sentence that describes our age."
      ],
      "metadata": {
        "colab": {
          "base_uri": "https://localhost:8080/"
        },
        "id": "KLp1WdHfkpkJ",
        "outputId": "aadb28c8-dc59-441a-bf63-d3855bfdfe67"
      },
      "execution_count": null,
      "outputs": [
        {
          "output_type": "stream",
          "name": "stdout",
          "text": [
            "I am 15 years old\n"
          ]
        }
      ]
    },
    {
      "cell_type": "markdown",
      "source": [
        "### Let's explore with Real-life example:"
      ],
      "metadata": {
        "id": "qD-dzmJWlEZm"
      }
    },
    {
      "cell_type": "markdown",
      "source": [
        "Assume you are organizing a charity event to raise money for a local animal shelter. You need to keep track of the donations you receive from different donors. You decide to use Python to create a program that stores the donations in variables."
      ],
      "metadata": {
        "id": "LORaUaNXldsp"
      }
    },
    {
      "cell_type": "code",
      "source": [
        "# Assigning variables to store donations\n",
        "donor1 = 100\n",
        "donor2 = 50\n",
        "donor3 = 200\n",
        "\n",
        "# Printing a summary of donations\n",
        "print(\"Donor 1 donated ${}.\".format(donor1))\n",
        "print(\"Donor 2 donated ${}.\".format(donor2))\n",
        "print(\"Donor 3 donated ${}.\".format(donor3))\n",
        "total_donations = donor1 + donor2 + donor3\n",
        "print(\"Total donations received: ${}.\".format(total_donations))"
      ],
      "metadata": {
        "colab": {
          "base_uri": "https://localhost:8080/"
        },
        "id": "5jFAQdIwmCwA",
        "outputId": "54ab0509-f843-4f67-b693-65dd82331a9d"
      },
      "execution_count": null,
      "outputs": [
        {
          "output_type": "stream",
          "name": "stdout",
          "text": [
            "Donor 1 donated $100.\n",
            "Donor 2 donated $50.\n",
            "Donor 3 donated $200.\n",
            "Total donations received: $350.\n"
          ]
        }
      ]
    },
    {
      "cell_type": "markdown",
      "source": [
        "* Above example we create three variables (donor1, donor2, and donor3) to store the donation amounts from different donors. \n",
        "\n",
        "* Then use the variables in print statements to display the donation amounts. \n",
        "\n",
        "* After we calculate the total donations by adding the values of the variables and store the result in a new variable (total_donations). \n",
        "\n",
        "* We use this variable in a print statement to display the total donations received.\n",
        "\n",
        "This is just one example of how variables can be used in Python to solve real-world problems.\n",
        "\n",
        "---"
      ],
      "metadata": {
        "id": "9sHfCytKmZbB"
      }
    },
    {
      "cell_type": "markdown",
      "source": [
        "#### Here are 6 questions from Variables.\n",
        "* **Note:** The first two demo questions will be demonstrated by the lab mentor, after which there will be practice time for learners. \n",
        "* Each question must be solved within 2 minute."
      ],
      "metadata": {
        "id": "LUL_GypDpXNP"
      }
    },
    {
      "cell_type": "markdown",
      "source": [
        "### <mark>**Demo question 1**</mark>\n",
        "Create three variables called \"quantity\", \"price_per_unit\", and \"discount\". Assign the values 10, 5.5, and 0.1, respectively. Calculate the total price after discount (total_price) and print a message that says \"The total price for 10 units is $[total_price].\""
      ],
      "metadata": {
        "id": "bz4q7Xl7zAqy"
      }
    },
    {
      "cell_type": "code",
      "source": [
        "#Answer\n",
        "quantity = 10\n",
        "price_per_unit = 5.5\n",
        "discount = 0.1\n",
        "total_price = quantity * price_per_unit * (1 - discount)\n",
        "print(f\"The total price for {quantity} units is ${total_price}.\")"
      ],
      "metadata": {
        "colab": {
          "base_uri": "https://localhost:8080/"
        },
        "id": "kEfwixpBzY6v",
        "outputId": "387080fa-7d58-48bb-b4d9-aacacda05ce9"
      },
      "execution_count": null,
      "outputs": [
        {
          "output_type": "stream",
          "name": "stdout",
          "text": [
            "The total price for 10 units is $49.5.\n"
          ]
        }
      ]
    },
    {
      "cell_type": "markdown",
      "source": [
        "### <mark>**Demo question 2**</mark>\n",
        "Create two variables called \"current_year\" and \"birth_year\". Assign the values 2023 and 2000, respectively. Calculate your age (age) and print a message that says \"You are currently [age] years old.\""
      ],
      "metadata": {
        "id": "DTJnC4xUzAlH"
      }
    },
    {
      "cell_type": "code",
      "source": [
        "current_year = 2023\n",
        "birth_year = 2000\n",
        "age = current_year - birth_year\n",
        "print(f\"You are currently {age} years old.\")"
      ],
      "metadata": {
        "colab": {
          "base_uri": "https://localhost:8080/"
        },
        "id": "dM7vngYszoNa",
        "outputId": "e5e2509c-6bf3-4618-c92b-dbcb76d6ab1d"
      },
      "execution_count": null,
      "outputs": [
        {
          "output_type": "stream",
          "name": "stdout",
          "text": [
            "You are currently 23 years old.\n"
          ]
        }
      ]
    },
    {
      "cell_type": "markdown",
      "source": [
        "---\n",
        "### <mark>**Practice Time for learners**</mark>"
      ],
      "metadata": {
        "id": "G6RpwwZSy-71"
      }
    },
    {
      "cell_type": "markdown",
      "source": [
        "#### **Question 1 (2 minute):**\n",
        "Create three variables called \"price\", \"tax_rate\", and \"total\". Assign the values 25, 0.08, and the result of adding price and the product of price and tax_rate, respectively. Print a message that says \"The total price including tax is [total].\""
      ],
      "metadata": {
        "id": "JBATiqOq1Bu6"
      }
    },
    {
      "cell_type": "code",
      "source": [
        "# Answer\n",
        "price = 25\n",
        "tax_rate = 0.08\n",
        "total = price + (price * tax_rate)\n",
        "print(f\"The total price including tax is {total}.\")"
      ],
      "metadata": {
        "colab": {
          "base_uri": "https://localhost:8080/"
        },
        "id": "RU-oD8bT1GSf",
        "outputId": "b074eb40-981f-4005-f4ba-ffc3f67fe98e"
      },
      "execution_count": null,
      "outputs": [
        {
          "output_type": "stream",
          "name": "stdout",
          "text": [
            "The total price including tax is 27.0.\n"
          ]
        }
      ]
    },
    {
      "cell_type": "markdown",
      "source": [
        "#### **Question 2 (2 minute):**\n",
        "Create a variable named \"greeting\" and assign it the value of \"Hello\". Create a variable named \"name\" and assign it the value of your name. Print a statement that says \"[greeting], [name]!\"."
      ],
      "metadata": {
        "id": "dAGU97B4LBal"
      }
    },
    {
      "cell_type": "code",
      "source": [
        "greeting = \"Hello\"\n",
        "name = \"SkilloVilla\"\n",
        "print(\"{}, {}!\".format(greeting, name))"
      ],
      "metadata": {
        "colab": {
          "base_uri": "https://localhost:8080/"
        },
        "id": "2xZb_epDLHVm",
        "outputId": "dc9323a2-44ac-4731-bd06-0e9043536786"
      },
      "execution_count": null,
      "outputs": [
        {
          "output_type": "stream",
          "name": "stdout",
          "text": [
            "Hello, SkilloVilla!\n"
          ]
        }
      ]
    },
    {
      "cell_type": "markdown",
      "source": [
        "#### **Question 3 (2 minute):**\n",
        "Create a variable named \"donor1\" and assign it the value of 100. Print a statement that says \"donor1 donation is 100.\""
      ],
      "metadata": {
        "id": "B8Xz_DO-8-3s"
      }
    },
    {
      "cell_type": "code",
      "source": [
        "donor1 = 100\n",
        "print(\"donor1 donation is {}.\".format(donor1))"
      ],
      "metadata": {
        "colab": {
          "base_uri": "https://localhost:8080/"
        },
        "id": "lkI7Qf6u9jZj",
        "outputId": "713e0996-4c7c-42df-fbec-c98b49e1f1e6"
      },
      "execution_count": null,
      "outputs": [
        {
          "output_type": "stream",
          "name": "stdout",
          "text": [
            "donor1 donation is 100.\n"
          ]
        }
      ]
    },
    {
      "cell_type": "markdown",
      "source": [
        "#### **Question 4 (2 minute):**\n",
        "Create two variables called \"num1\" and \"num2\". Assign the values 10 and 5, respectively. Calculate the sum, difference, product, and quotient of these two numbers, and print them out."
      ],
      "metadata": {
        "id": "OgHCCDzK1PXR"
      }
    },
    {
      "cell_type": "code",
      "source": [
        "#Answer\n",
        "num1 = 10\n",
        "num2 = 5\n",
        "sum = num1 + num2\n",
        "difference = num1 - num2\n",
        "product = num1 * num2\n",
        "quotient = num1 / num2\n",
        "print(f\"The sum is {sum}.\")\n",
        "print(f\"The difference is {difference}.\")\n",
        "print(f\"The product is {product}.\")\n",
        "print(f\"The quotient is {quotient}.\")"
      ],
      "metadata": {
        "colab": {
          "base_uri": "https://localhost:8080/"
        },
        "id": "XUIP6odS1hJU",
        "outputId": "a67aa27a-1172-4287-ca08-5ea73440a562"
      },
      "execution_count": null,
      "outputs": [
        {
          "output_type": "stream",
          "name": "stdout",
          "text": [
            "The sum is 15.\n",
            "The difference is 5.\n",
            "The product is 50.\n",
            "The quotient is 2.0.\n"
          ]
        }
      ]
    },
    {
      "cell_type": "markdown",
      "source": [
        "---\n",
        "---\n",
        "\n",
        "## Overview of Data Types"
      ],
      "metadata": {
        "id": "BRgwJpkMW1Yw"
      }
    },
    {
      "cell_type": "markdown",
      "source": [
        "* In programming a data type is a classification of data into different categories, such as **numbers**, **text**, and **boolean values**. \n",
        "* Each data type has its own set of operations that can be performed on it. \n",
        "* Python has several built-in data types, including **numeric**, **text**, and **boolean**."
      ],
      "metadata": {
        "id": "6mjGd2J_n8v3"
      }
    },
    {
      "cell_type": "markdown",
      "source": [
        "### Numeric Data Types (int, float)"
      ],
      "metadata": {
        "id": "LMSA2ai9W1Ss"
      }
    },
    {
      "cell_type": "markdown",
      "source": [
        "* Numeric data types are used to represent numbers. \n",
        "\n",
        "* There are Three main types of numeric data types in Python: \n",
        " 1. **integers <mark>int()</mark>** \n",
        " 2. **floating-point numbers <mark>float()</mark>** and\n",
        " 3. **Complex numbers**.\n",
        "\n",
        "* Integers are whole numbers **<mark>Example: 1, 2, 3</mark>**, \n",
        "\n",
        "* While floating-point numbers are numbers with a decimal point **<mark>Example: 1.0, 2.5, 3.14</mark>**.\n",
        "\n",
        "* Complex numbers are numbers with a real and imaginary part represented as real_part+imaginary_parti, where real_part and imaginary_part are real numbers, and i is the square root of -1 **<mark>Example: 2+3i is a complex number</mark>**"
      ],
      "metadata": {
        "id": "hpiE_SHez-mC"
      }
    },
    {
      "cell_type": "code",
      "source": [
        "# Assigning an integer value to a variable\n",
        "age = 15\n",
        "print(type(age))"
      ],
      "metadata": {
        "colab": {
          "base_uri": "https://localhost:8080/"
        },
        "id": "yp93tDIT09Ag",
        "outputId": "e0ea57d8-fd96-4db6-c1ed-7056fb1cdffb"
      },
      "execution_count": null,
      "outputs": [
        {
          "output_type": "stream",
          "name": "stdout",
          "text": [
            "<class 'int'>\n"
          ]
        }
      ]
    },
    {
      "cell_type": "code",
      "source": [
        "# Assigning a floating-point value to a variable\n",
        "height = 5.8\n",
        "print(type(height))"
      ],
      "metadata": {
        "colab": {
          "base_uri": "https://localhost:8080/"
        },
        "id": "h0KlpqG3SIxA",
        "outputId": "fe7d3ed9-ccc8-4474-b0ee-a9dc0b62bfb9"
      },
      "execution_count": null,
      "outputs": [
        {
          "output_type": "stream",
          "name": "stdout",
          "text": [
            "<class 'float'>\n"
          ]
        }
      ]
    },
    {
      "cell_type": "code",
      "source": [
        "# Assign a complex number to the variable voltage_signal\n",
        "voltage_signal = 5 + 2j  \n",
        "print(type(voltage_signal))"
      ],
      "metadata": {
        "colab": {
          "base_uri": "https://localhost:8080/"
        },
        "id": "K2LYweWAWcYM",
        "outputId": "e2352180-580a-49a9-9c75-24b9d89099fb"
      },
      "execution_count": null,
      "outputs": [
        {
          "output_type": "stream",
          "name": "stdout",
          "text": [
            "<class 'complex'>\n"
          ]
        }
      ]
    },
    {
      "cell_type": "markdown",
      "source": [
        "### Text Data Type (str)"
      ],
      "metadata": {
        "id": "4w5fSzzJXOEa"
      }
    },
    {
      "cell_type": "markdown",
      "source": [
        "* Text data type or **string (str)**, is used to represent text. \n",
        "\n",
        "* It can include **letters**, **numbers**, **symbols**, and **spaces**. \n",
        "\n",
        "* Strings are enclosed in quotation marks (either single or double quotes). Example **\"Hello\"**, **'SkilloVilla'** is a string."
      ],
      "metadata": {
        "id": "1qcrgz9M1kPT"
      }
    },
    {
      "cell_type": "code",
      "source": [
        "# Assigning a string value to a variable\n",
        "name = 'John'\n",
        "print(name)\n",
        "print(type(name))\n",
        "# Assigning a string value with double quotes to a variable\n",
        "quote = \"I have 1 dream!..\"\n",
        "print(quote)\n",
        "print(type(quote))"
      ],
      "metadata": {
        "colab": {
          "base_uri": "https://localhost:8080/"
        },
        "id": "m3Bow3_d2lnd",
        "outputId": "5259d30f-3d9f-4bcd-e0ef-c09496357392"
      },
      "execution_count": null,
      "outputs": [
        {
          "output_type": "stream",
          "name": "stdout",
          "text": [
            "John\n",
            "<class 'str'>\n",
            "I have 1 dream!..\n",
            "<class 'str'>\n"
          ]
        }
      ]
    },
    {
      "cell_type": "markdown",
      "source": [
        "### Boolean Data Type (bool)"
      ],
      "metadata": {
        "id": "SKBYhOYvXOA5"
      }
    },
    {
      "cell_type": "markdown",
      "source": [
        "* Boolean data type or bool is used to represent **true** or **false** values.\n",
        "\n",
        "* Boolean values are useful for making decisions and controlling the flow of a program. Example \"is the sky blue?\" can be answered with a boolean value of **true** or **false**."
      ],
      "metadata": {
        "id": "_ZiN-qI_4ORq"
      }
    },
    {
      "cell_type": "code",
      "source": [
        "# Assigning boolean values\n",
        "is_sky_blue = True\n",
        "print(is_sky_blue)\n",
        "print(type(is_sky_blue))\n",
        "\n",
        "is_sun_out = False\n",
        "print(is_sun_out)\n",
        "print(type(is_sun_out))"
      ],
      "metadata": {
        "colab": {
          "base_uri": "https://localhost:8080/"
        },
        "id": "2aXd3TP25w4J",
        "outputId": "bf9fd367-f93a-4e9c-eb52-b61f14bde0ba"
      },
      "execution_count": null,
      "outputs": [
        {
          "output_type": "stream",
          "name": "stdout",
          "text": [
            "True\n",
            "<class 'bool'>\n",
            "False\n",
            "<class 'bool'>\n"
          ]
        }
      ]
    },
    {
      "cell_type": "markdown",
      "source": [
        "### Type conversion"
      ],
      "metadata": {
        "id": "dKMnH2QcXN9-"
      }
    },
    {
      "cell_type": "markdown",
      "source": [
        "* Type conversion is the process of converting a value from one data type to another. \n",
        "\n",
        "* This can be useful when performing operations on values of different data types. Example converting a string to a number to perform mathematical operations.\n",
        "\n",
        "* In Python this can be done using built-in functions like **int()**, **float()**, **str()**, and **bool()**."
      ],
      "metadata": {
        "id": "McH5N5A_6p-2"
      }
    },
    {
      "cell_type": "code",
      "source": [
        "# Converting an integer to a float\n",
        "num1 = 10\n",
        "num2 = float(num1)\n",
        "print(num2)\n",
        "print(type(num2))"
      ],
      "metadata": {
        "colab": {
          "base_uri": "https://localhost:8080/"
        },
        "id": "i5VJ5wgICG4d",
        "outputId": "980304d1-9ed8-4740-b108-89c106896a75"
      },
      "execution_count": null,
      "outputs": [
        {
          "output_type": "stream",
          "name": "stdout",
          "text": [
            "10.0\n",
            "<class 'float'>\n"
          ]
        }
      ]
    },
    {
      "cell_type": "code",
      "source": [
        "# Converting a float to an integer\n",
        "num3 = 5.8\n",
        "num4 = int(num3)\n",
        "print(num4)\n",
        "print(type(num4))"
      ],
      "metadata": {
        "colab": {
          "base_uri": "https://localhost:8080/"
        },
        "id": "7_zdvp_MCMYz",
        "outputId": "4bd87c18-cf40-4f89-d704-843e4df177cc"
      },
      "execution_count": null,
      "outputs": [
        {
          "output_type": "stream",
          "name": "stdout",
          "text": [
            "5\n",
            "<class 'int'>\n"
          ]
        }
      ]
    },
    {
      "cell_type": "code",
      "source": [
        "# Converting a string to a boolean\n",
        "str1 = \"True\"\n",
        "bool1 = bool(str1)\n",
        "print(bool1)\n",
        "print(type(bool1))"
      ],
      "metadata": {
        "colab": {
          "base_uri": "https://localhost:8080/"
        },
        "id": "24hjVWbdCOeq",
        "outputId": "6d815233-b3f5-438e-fd19-6125ac8c72c4"
      },
      "execution_count": null,
      "outputs": [
        {
          "output_type": "stream",
          "name": "stdout",
          "text": [
            "True\n",
            "<class 'bool'>\n"
          ]
        }
      ]
    },
    {
      "cell_type": "code",
      "source": [
        "# Converting a boolean to a string\n",
        "bool2 = True\n",
        "str2 = str(bool2)\n",
        "print(str2)\n",
        "print(type(str2))"
      ],
      "metadata": {
        "colab": {
          "base_uri": "https://localhost:8080/"
        },
        "id": "udEGougOCROs",
        "outputId": "2b55c892-fc6b-4fb9-ddec-97a2fdc41c36"
      },
      "execution_count": null,
      "outputs": [
        {
          "output_type": "stream",
          "name": "stdout",
          "text": [
            "True\n",
            "<class 'str'>\n"
          ]
        }
      ]
    },
    {
      "cell_type": "markdown",
      "source": [
        "### Let's explore with the example:"
      ],
      "metadata": {
        "id": "shbVhKTTEZZW"
      }
    },
    {
      "cell_type": "markdown",
      "source": [
        "Assume you are a small business owner who sells handmade crafts online. You have an online store where you sell various items such as jewelry, home decor, and clothing.\n",
        "* In order to track your sales and inventory, you need to use different data types in Python program."
      ],
      "metadata": {
        "id": "PDohlh_8NEbw"
      }
    },
    {
      "cell_type": "code",
      "source": [
        "# Item details\n",
        "product_name = \"Handmade Necklace\"\n",
        "product_description = \"Beautiful necklace made with natural stones\"\n",
        "price = 25.99\n",
        "in_stock = True\n",
        "items_sold = 15\n",
        "\n",
        "# Printing the item details\n",
        "print(\"Product Name: \" + product_name)\n",
        "print(\"Description: \" + product_description)\n",
        "print(\"Price: $\" + str(price))\n",
        "print(\"In Stock: \" + str(in_stock))\n",
        "print(\"Items Sold: \" + str(items_sold))\n",
        "\n",
        "# Updating the inventory\n",
        "if items_sold >= 5:\n",
        "    in_stock = False\n",
        "\n",
        "# Converting a string to a float\n",
        "discount_percentage = \"10.5\"\n",
        "discounted_price = price - (price * (float(discount_percentage) / 100))\n",
        "print(\"Discounted Price: $\" + str(discounted_price))"
      ],
      "metadata": {
        "colab": {
          "base_uri": "https://localhost:8080/"
        },
        "id": "K_HgDP9zMCgn",
        "outputId": "9ff91803-62e3-4822-c670-0354e444eeba"
      },
      "execution_count": null,
      "outputs": [
        {
          "output_type": "stream",
          "name": "stdout",
          "text": [
            "Product Name: Handmade Necklace\n",
            "Description: Beautiful necklace made with natural stones\n",
            "Price: $25.99\n",
            "In Stock: True\n",
            "Items Sold: 15\n",
            "Discounted Price: $23.261049999999997\n"
          ]
        }
      ]
    },
    {
      "cell_type": "markdown",
      "source": [
        "* Above example the integer data type is used to store the number of items sold, \n",
        "* The floating-point data type is used to store the price, \n",
        "* The string data type is used to store the name and description, and \n",
        "* The boolean data type is used to store whether or not the item is in stock.\n",
        "\n",
        "We also see an example of type conversion where we convert the discount percentage (which is a string) to a float in order to calculate the discounted price of the item.\n",
        "\n",
        "\n",
        "---\n"
      ],
      "metadata": {
        "id": "6TSC04MYMtJH"
      }
    },
    {
      "cell_type": "markdown",
      "source": [
        "#### Here are 6 questions from numeric, text, and boolean.\n",
        "* **Note:** The first two demo questions will be demonstrated by the lab mentor, after which there will be practice time for learners. \n",
        "* Each question must be solved within 2 minute."
      ],
      "metadata": {
        "id": "YaLCrRbBPF0A"
      }
    },
    {
      "cell_type": "markdown",
      "source": [
        "### <mark>**Demo question 1**</mark>\n",
        "Create three variables called input as a str \"fruit\", input as a int \"quantity\", and \"price\". Assign the values \"apple\", 5, and 1.5, respectively. Calculate the total price by multiplying the quantity and price, and then round it to two decimal places using the round() function. Print a message that says \"You bought [quantity] fruit for a total of $[total_price].\""
      ],
      "metadata": {
        "id": "l0-ezc-m5JA8"
      }
    },
    {
      "cell_type": "code",
      "source": [
        "#Answer:\n",
        "fruit = \"apple\"\n",
        "quantity = 5\n",
        "price = 1.5\n",
        "total_price = round(quantity * price, 2)\n",
        "print(f\"You bought {quantity} {fruit}(s) for a total of ${total_price}.\")"
      ],
      "metadata": {
        "colab": {
          "base_uri": "https://localhost:8080/"
        },
        "id": "WdoaHJq_69BB",
        "outputId": "61e96d4a-0cc3-4d96-9bf2-60dd2da7836c"
      },
      "execution_count": null,
      "outputs": [
        {
          "output_type": "stream",
          "name": "stdout",
          "text": [
            "You bought 5 apple(s) for a total of $7.5.\n"
          ]
        }
      ]
    },
    {
      "cell_type": "markdown",
      "source": [
        "### <mark>**Demo question 2**</mark>\n",
        "Create two variables called input as a str \"name\" and input as a int \"birth_year\". Assign the values \"John\" and 2000, respectively. Calculate the age of the person by subtracting the birth year from the current year (2023). Print a message that says \"Hello, [name]! You will be [age] years old in 17 years.\""
      ],
      "metadata": {
        "id": "anXpLhZ67EMW"
      }
    },
    {
      "cell_type": "code",
      "source": [
        "#name = \"John\"\n",
        "birth_year = 2000\n",
        "current_year = 2023\n",
        "age = current_year - birth_year\n",
        "future_age = age + 17\n",
        "print(f\"Hello, {name}! You will be {future_age} years old in 17 years.\")"
      ],
      "metadata": {
        "colab": {
          "base_uri": "https://localhost:8080/"
        },
        "id": "PEzZbTe57SJC",
        "outputId": "7e71bd15-069c-44e7-8abb-1c4649ba62b2"
      },
      "execution_count": null,
      "outputs": [
        {
          "output_type": "stream",
          "name": "stdout",
          "text": [
            "Hello, John Smith! You will be 40 years old in 17 years.\n"
          ]
        }
      ]
    },
    {
      "cell_type": "markdown",
      "source": [
        "### <mark>**Practice Time for learners**</mark>"
      ],
      "metadata": {
        "id": "yC93jdXu7LRQ"
      }
    },
    {
      "cell_type": "markdown",
      "source": [
        "#### **Question 2 (2 minute):**\n",
        "Define a variable \"total_sales\" and assign it a float value of 987.65. Print the value of \"total_sales\" and its data type."
      ],
      "metadata": {
        "id": "r4pGQNKJPfJy"
      }
    },
    {
      "cell_type": "code",
      "source": [
        "#Answer\n",
        "total_sales = 987.65\n",
        "print(total_sales)\n",
        "print(type(total_sales))"
      ],
      "metadata": {
        "colab": {
          "base_uri": "https://localhost:8080/"
        },
        "id": "PRHZqcfCSpaQ",
        "outputId": "7eb61743-fd36-4b31-b679-beb5abd53967"
      },
      "execution_count": null,
      "outputs": [
        {
          "output_type": "stream",
          "name": "stdout",
          "text": [
            "987.65\n",
            "<class 'float'>\n"
          ]
        }
      ]
    },
    {
      "cell_type": "markdown",
      "source": [
        "#### **Question 3 (2 minute):**\n",
        "Define a variable \"text\" and assign it a string value of \"123\". Convert \"text\" to an integer and print the result as well as its data type. If the conversion fails, print an error message."
      ],
      "metadata": {
        "id": "n29oD_AVe7QP"
      }
    },
    {
      "cell_type": "code",
      "source": [
        "text = \"123\"\n",
        "try:\n",
        "    text_int = int(text)\n",
        "    print(text_int)\n",
        "    print(type(text_int))\n",
        "except ValueError:\n",
        "    print(\"Conversion to int failed!\")"
      ],
      "metadata": {
        "colab": {
          "base_uri": "https://localhost:8080/"
        },
        "id": "gb1oN_xue9zr",
        "outputId": "203d25e4-79c9-45fd-ae8a-133e90ecc02b"
      },
      "execution_count": null,
      "outputs": [
        {
          "output_type": "stream",
          "name": "stdout",
          "text": [
            "123\n",
            "<class 'int'>\n"
          ]
        }
      ]
    },
    {
      "cell_type": "markdown",
      "source": [
        "#### **Question 3 (2 minute):**\n",
        "Define a variable \"item_name\" and assign it a string value of \"Handmade Necklace\". Print the value of \"item_name\" and its data type."
      ],
      "metadata": {
        "id": "DrbnUxZjSjw1"
      }
    },
    {
      "cell_type": "code",
      "source": [
        "item_name = \"Handmade Necklace\"\n",
        "print(item_name)\n",
        "print(type(item_name))"
      ],
      "metadata": {
        "colab": {
          "base_uri": "https://localhost:8080/"
        },
        "id": "sDbMz-I3SzmF",
        "outputId": "097311d7-4aa5-4cb5-bae1-d0c474b5e82f"
      },
      "execution_count": null,
      "outputs": [
        {
          "output_type": "stream",
          "name": "stdout",
          "text": [
            "Handmade Necklace\n",
            "<class 'str'>\n"
          ]
        }
      ]
    },
    {
      "cell_type": "markdown",
      "source": [
        "#### **Question 4 (2 minute):**\n",
        "Define a variable \"is_in_stock\" and assign it a boolean value of True. Print the value of \"is_in_stock\" and its data type. and Create complex variable \"c_num\" and assign it a value of 2+3j. Print the value of \"c_num\" and its data type."
      ],
      "metadata": {
        "id": "_QWTCXSESjPP"
      }
    },
    {
      "cell_type": "code",
      "source": [
        "is_in_stock = True\n",
        "print(is_in_stock)\n",
        "print(type(is_in_stock))\n",
        "c_num = 2+3j\n",
        "print(c_num)\n",
        "print(type(c_num))"
      ],
      "metadata": {
        "colab": {
          "base_uri": "https://localhost:8080/"
        },
        "id": "1QBheLFLTCum",
        "outputId": "a219b724-602b-4f34-8135-1adbf658a5f4"
      },
      "execution_count": null,
      "outputs": [
        {
          "output_type": "stream",
          "name": "stdout",
          "text": [
            "True\n",
            "<class 'bool'>\n",
            "(2+3j)\n",
            "<class 'complex'>\n"
          ]
        }
      ]
    },
    {
      "cell_type": "markdown",
      "source": [
        "---\n",
        "---\n",
        "## Operators"
      ],
      "metadata": {
        "id": "CUOGzL9udWre"
      }
    },
    {
      "cell_type": "markdown",
      "source": [
        "* In Python operators are symbols or keywords used for performing operations on one or more operands.\n",
        "\n",
        "* The use case of operators in Python is to manipulate and perform computations on values and variables. \n",
        "* Python supports various types of operators like\n",
        " * **Arithmetic**, \n",
        " * **Comparison**, and \n",
        " * **Logical Operators**.\n",
        "\n"
      ],
      "metadata": {
        "id": "awdBaBXRa8Dx"
      }
    },
    {
      "cell_type": "markdown",
      "source": [
        "#### **Arithmetic Operators**\n",
        "Arithmetic Operators are used to perform mathematical operations on operands. \n",
        "\n",
        "* The following are the Arithmetic Operators in Python:\n",
        " * **Addition <mark>+</mark>:** Adds two operands.\n",
        " * **Subtraction <mark>-</mark>:** Subtracts second operand from the first operand.\n",
        " * **Multiplication <mark>*</mark>:** Multiplies two operands.\n",
        " * **Division <mark>/</mark>:** Divides the first operand by the second operand.\n",
        " * **Floor Division <mark>//</mark>:** Divides the first operand by the second operand and returns the floor value of the result.\n",
        " * **Modulus <mark>%</mark>:** Returns the remainder when the first operand is divided by the second operand.\n",
        " * **Exponentiation** <mark>**</mark>: Performs exponential (power) calculation on operands.\n",
        "\n",
        "#### **Comparison Operators**\n",
        "Comparison Operators are used to compare the values of operands. \n",
        "* The following are the Comparison Operators in Python:\n",
        " * **Equality <mark>==</mark>:** Checks if two operands are equal or not.\n",
        " * **Inequality <mark>!=</mark>:** Checks if two operands are not equal.\n",
        " * **Greater than <mark>></mark>:** Checks if the first operand is greater than the second operand.\n",
        " * **Less than <mark><</mark>:** Checks if the first operand is less than the second operand.\n",
        " * **Greater than or equal to <mark>>=</mark>:** Checks if the first operand is greater than or equal to the second operand.\n",
        " * **Less than or equal to <mark><=</mark>:** Checks if the first operand is less than or equal to the second operand.\n",
        "\n",
        "#### **Logical Operators**\n",
        "Logical Operators are used to combine multiple conditions and return a boolean value. \n",
        "* The following are the Logical Operators in Python:\n",
        " * <mark>**and:**</mark> Returns True if both operands are True.\n",
        " * <mark>**or:**</mark> Returns True if any of the operands is True.\n",
        " * <mark>**not:**</mark> Returns True if the operand is False."
      ],
      "metadata": {
        "id": "dGg5MhGGbg2B"
      }
    },
    {
      "cell_type": "markdown",
      "source": [
        "### Let's explore real-time use case to demonstrate the use of all three types of operators in Python:"
      ],
      "metadata": {
        "id": "G4faPFvUeBn4"
      }
    },
    {
      "cell_type": "markdown",
      "source": [
        "**Problem statement:** A company wants to determine whether a new employee is eligible for a promotion based on their performance in the last quarter. The company has set the following criteria for eligibility\n",
        "* The employee must have scored above 80 in at least one category (Sales, Marketing, or Finance).\n",
        "* The employee's average score should be above 75 across all categories.\n",
        "* The employee should not have received any warnings in the last quarter.\n",
        "\n",
        "We will use Python operators to calculate and evaluate the eligibility of an employee based on the above criteria."
      ],
      "metadata": {
        "id": "3pEfZmGbeY7b"
      }
    },
    {
      "cell_type": "code",
      "source": [
        "# Employee performance scores\n",
        "sales_score = 85\n",
        "marketing_score = 70\n",
        "finance_score = 90\n",
        "average_score = (sales_score + marketing_score + finance_score) / 3  # Calculate average score\n",
        "has_warnings = False  # Whether employee has received any warnings or not\n",
        "\n",
        "# Determine eligibility using operators\n",
        "if (sales_score > 80 or marketing_score > 80 or finance_score > 80) and average_score > 75 and not has_warnings:\n",
        "    print(\"Employee is eligible for promotion\")\n",
        "else:\n",
        "    print(\"Employee is not eligible for promotion\")"
      ],
      "metadata": {
        "colab": {
          "base_uri": "https://localhost:8080/"
        },
        "id": "wlXBrJXheyfU",
        "outputId": "3eceff3e-dfc5-4704-b0aa-9e0ca9435a21"
      },
      "execution_count": null,
      "outputs": [
        {
          "output_type": "stream",
          "name": "stdout",
          "text": [
            "Employee is eligible for promotion\n"
          ]
        }
      ]
    },
    {
      "cell_type": "markdown",
      "source": [
        "* We first calculate the average score of the employee using arithmetic operators **<mark>+ & /</mark>**. \n",
        "* We then use logical **<mark>and, or, & not</mark>** \n",
        "* and comparison **<mark>></mark>** operators to evaluate the eligibility criteria. \n",
        "\n",
        "* If the employee meets all three criteria, the program prints \"Employee is eligible for promotion\". \n",
        "\n",
        "* Otherwise it prints \"Employee is not eligible for promotion\".\n",
        "\n",
        "This real-time use case demonstrates the practical application of operators in solving business problems and making decisions based on data.\n",
        "\n",
        "\n",
        "---\n",
        "\n",
        "\n"
      ],
      "metadata": {
        "id": "ujrudANBfJuh"
      }
    },
    {
      "cell_type": "markdown",
      "source": [
        "#### Here are 6 questions from Arithmetic, Comparison, and Logical Operators.\n",
        "* **Note:** The first two demo questions will be demonstrated by the lab mentor, after which there will be practice time for learners. \n",
        "* Each question must be solved within 2 minute."
      ],
      "metadata": {
        "id": "buiuOb23hQPA"
      }
    },
    {
      "cell_type": "markdown",
      "source": [
        "### <mark>**Demo question 1**</mark>\n",
        "Create two variables called input as a int \"num1\" and input as a int \"num2\". Assign the values 10 and 3, respectively. Calculate the quotient and remainder when num1 is divided by num2 using the division (/) and modulo (%) operators. Print a message that says \"The quotient of {num1} divided by {num2} is {quotient}, and the remainder is {remainder}.\""
      ],
      "metadata": {
        "id": "u9VhDbCU983I"
      }
    },
    {
      "cell_type": "code",
      "source": [
        "#Answer:\n",
        "num1 = 10\n",
        "num2 = 3\n",
        "quotient = num1 / num2\n",
        "remainder = num1 % num2\n",
        "print(f\"The quotient of {num1} divided by {num2} is {quotient}, and the remainder is {remainder}.\")"
      ],
      "metadata": {
        "colab": {
          "base_uri": "https://localhost:8080/"
        },
        "id": "nUDJfR-h-awP",
        "outputId": "2fcab86d-cb4c-45bd-8e48-d426a9d9201f"
      },
      "execution_count": null,
      "outputs": [
        {
          "output_type": "stream",
          "name": "stdout",
          "text": [
            "The quotient of 10 divided by 3 is 3.3333333333333335, and the remainder is 1.\n"
          ]
        }
      ]
    },
    {
      "cell_type": "markdown",
      "source": [
        "### <mark>**Demo question 2**</mark>\n",
        "Create two variables called int \"age\" and str \"name\". Assign values to these variables. Then, create a Boolean variable called \"is_adult\" that is true if age is greater than or equal to 18 and false otherwise. Print a message that says \"My name is [name] and I am an adult: [is_adult].\""
      ],
      "metadata": {
        "id": "QN3uiIAK9-4k"
      }
    },
    {
      "cell_type": "code",
      "source": [
        "#Answer:\n",
        "age = 25\n",
        "name = \"John\"\n",
        "is_adult = age >= 18\n",
        "print(\"My name is\", name, \"and I am an adult:\", is_adult)"
      ],
      "metadata": {
        "colab": {
          "base_uri": "https://localhost:8080/"
        },
        "id": "EGZY5-Zw-h6x",
        "outputId": "96ba4568-c95b-4ef1-d185-3f40ec34e0ec"
      },
      "execution_count": null,
      "outputs": [
        {
          "output_type": "stream",
          "name": "stdout",
          "text": [
            "My name is John and I am an adult: True\n"
          ]
        }
      ]
    },
    {
      "cell_type": "markdown",
      "source": [
        "---\n",
        "### <mark>**Practice Time for learners**</mark>"
      ],
      "metadata": {
        "id": "pVuYdtK1-DMJ"
      }
    },
    {
      "cell_type": "markdown",
      "source": [
        "#### **Question 1 (2 minute):**\n",
        "Create two variables called float \"length\" and str \"unit\". Assign values to these variables. Then, create a variable called \"in_inches\" that is equal to length converted to inches if unit is \"inches\" and converted to inches if unit is \"feet\". Print a message that says \"The length in inches is [in_inches].\""
      ],
      "metadata": {
        "id": "s8gqA2eC-F5f"
      }
    },
    {
      "cell_type": "code",
      "source": [
        "#Answer\n",
        "length = 10.5\n",
        "unit = \"feet\"\n",
        "in_inches = length * 12.0 if unit == \"inches\" else length * 12.0\n",
        "print(\"The length in inches is\", in_inches)"
      ],
      "metadata": {
        "colab": {
          "base_uri": "https://localhost:8080/"
        },
        "id": "KDOD4D0o-_Zh",
        "outputId": "7a1f9539-ba68-4f31-e8b3-e6bf4c7525ba"
      },
      "execution_count": null,
      "outputs": [
        {
          "output_type": "stream",
          "name": "stdout",
          "text": [
            "The length in inches is 126.0\n"
          ]
        }
      ]
    },
    {
      "cell_type": "markdown",
      "source": [
        "#### **Question 2 (2 minute):**\n",
        "Create two variables called int \"num1\" and float \"num2\". Assign values to these variables. Then, create a variable called \"is_greater\" that is true if num1 is greater than num2 and false otherwise. Print a message that says \"Is [num1] greater than [num2]? [is_greater]\"."
      ],
      "metadata": {
        "id": "nM6noCAI_TjI"
      }
    },
    {
      "cell_type": "code",
      "source": [
        "#Answer\n",
        "num1 = 20\n",
        "num2 = 15.5\n",
        "is_greater = num1 > num2\n",
        "print(\"Is\", num1, \"greater than\", num2, \"?\", is_greater)"
      ],
      "metadata": {
        "colab": {
          "base_uri": "https://localhost:8080/"
        },
        "id": "tNdi2pca_j0o",
        "outputId": "53238edd-6b74-4672-e50c-e25d1cf883b9"
      },
      "execution_count": null,
      "outputs": [
        {
          "output_type": "stream",
          "name": "stdout",
          "text": [
            "Is 20 greater than 15.5 ? True\n"
          ]
        }
      ]
    },
    {
      "cell_type": "markdown",
      "source": [
        "#### **Question 3 (2 minute):**\n",
        "Create two variables called float \"temperature\" and str \"unit\". Assign values to these variables. Then, create a variable called \"in_fahrenheit\" that is equal to temperature converted to Fahrenheit if unit is \"Celsius\" and converted to Fahrenheit if unit is \"Kelvin\". Print a message that says \"The temperature in Fahrenheit is [in_fahrenheit].\""
      ],
      "metadata": {
        "id": "HIYXQ98J_v7Y"
      }
    },
    {
      "cell_type": "code",
      "source": [
        "#Answer\n",
        "temperature = 25.0\n",
        "unit = \"Celsius\"\n",
        "in_fahrenheit = temperature * 9.0 / 5.0 + 32.0 if unit == \"Celsius\" else (temperature - 273.15) * 9.0 / 5.0 + 32.0\n",
        "print(\"The temperature in Fahrenheit is\", in_fahrenheit)"
      ],
      "metadata": {
        "colab": {
          "base_uri": "https://localhost:8080/"
        },
        "id": "JdWdrW7a_80S",
        "outputId": "70d9b534-3721-4b2a-9b9c-90fad13632c9"
      },
      "execution_count": null,
      "outputs": [
        {
          "output_type": "stream",
          "name": "stdout",
          "text": [
            "The temperature in Fahrenheit is 77.0\n"
          ]
        }
      ]
    },
    {
      "cell_type": "markdown",
      "source": [
        "#### **Question 4 (2 minute):**\n",
        "Create two variables called int \"age\" and float \"height\". Assign values to these variables. Then, create a variable called \"can_ride_rollercoaster\" that is true if age is greater than or equal to 12 and height is greater than or equal to 48 inches and false otherwise. Print a message that says \"Can [age]-year-old who is [height] inches tall ride the rollercoaster? [can_ride_rollercoaster]\""
      ],
      "metadata": {
        "id": "XgtWSs3d_2Vj"
      }
    },
    {
      "cell_type": "code",
      "source": [
        "#Answer\n",
        "age = 16\n",
        "height = 60.0\n",
        "can_ride_rollercoaster = age >= 12 and height >= 48.0\n",
        "print(f\"Can {age}-year-old who is {height} inches tall ride the rollercoaster? {can_ride_rollercoaster}\")"
      ],
      "metadata": {
        "colab": {
          "base_uri": "https://localhost:8080/"
        },
        "id": "jYfjga_gAQh-",
        "outputId": "97a47d53-a5c3-4d5d-8f16-5fef126ea59b"
      },
      "execution_count": null,
      "outputs": [
        {
          "output_type": "stream",
          "name": "stdout",
          "text": [
            "Can 16-year-old who is 60.0 inches tall ride the rollercoaster? True\n"
          ]
        }
      ]
    },
    {
      "cell_type": "markdown",
      "source": [
        "---\n",
        "\n",
        "---\n",
        "\n",
        "\n",
        "## Basic Data Types"
      ],
      "metadata": {
        "id": "4PJoHCPVd2HU"
      }
    },
    {
      "cell_type": "markdown",
      "source": [
        "Python is dynamically typed, meaning variable types are inferred based on their assigned values.\n",
        "* Python has built-in support for several basic data types, which include:\n",
        " * **Integer (int):** represents whole numbers, such as 1, 2, 3, etc.\n",
        " * **Float (float):** represents real numbers, such as 1.0, 3.14, etc.\n",
        " * **complex numbers:** represent a number with a real and imaginary part, denoted as 2 + 5j\n",
        " * **Boolean (bool):** represents True or False.\n",
        " * **String (str):** represents text, such as \"hello\", \"world\", etc.\n",
        "\n",
        "In addition to these basic data types, Python also has several built-in data structures that are used to hold collections of values. \n",
        "* The most commonly used data structures are \n",
        " * **Lists**, \n",
        " * **Tuples**, \n",
        " * **Sets**, \n",
        " * **Dictionaries**, and \n",
        " * **Binary Types.**"
      ],
      "metadata": {
        "id": "biap3J7U27uM"
      }
    },
    {
      "cell_type": "markdown",
      "source": [
        "### Lists"
      ],
      "metadata": {
        "id": "nZtlkDUHd2D4"
      }
    },
    {
      "cell_type": "markdown",
      "source": [
        "* A list is a collection of values that can be of different types. \n",
        "* Lists are created using square brackets and can be modified after creation. \n",
        "* Lists are commonly used for holding sequences of values, such as a list of numbers or a list of strings."
      ],
      "metadata": {
        "id": "TXLvde014e19"
      }
    },
    {
      "cell_type": "markdown",
      "source": [
        "**Creating lists:**"
      ],
      "metadata": {
        "id": "vmQWcGIw4-X9"
      }
    },
    {
      "cell_type": "code",
      "source": [
        "# Creating an empty list\n",
        "my_list = []\n",
        "\n",
        "# Creating a list with values\n",
        "my_list = [1, 2, 3, 4, 5]\n",
        "my_list = [\"apple\", \"banana\", \"cherry\"]\n",
        "my_list = [1, \"apple\", True, 3.14]"
      ],
      "metadata": {
        "id": "SX2k-5FF4dkd"
      },
      "execution_count": null,
      "outputs": []
    },
    {
      "cell_type": "markdown",
      "source": [
        "### <mark>**Demo question 1**</mark>\n",
        "Create two lists called \"list1\" and \"list2\" and assign them the values [1, 2, 3] and [4, 5, 6], respectively. Concatenate the two lists and print the result."
      ],
      "metadata": {
        "id": "17gS8W1TQEma"
      }
    },
    {
      "cell_type": "code",
      "source": [
        "list1 = [1, 2, 3]\n",
        "list2 = [4, 5, 6]\n",
        "result = list1 + list2\n",
        "print(result)"
      ],
      "metadata": {
        "id": "S9Kpis1vQHSJ"
      },
      "execution_count": null,
      "outputs": []
    },
    {
      "cell_type": "markdown",
      "source": [
        "---\n",
        "### <mark>**Practice Time for learners**</mark>"
      ],
      "metadata": {
        "id": "Te-L3APk5toD"
      }
    },
    {
      "cell_type": "markdown",
      "source": [
        "#### **Question 1 (2 minute):**\n",
        "Create a list called \"ages\" and add the following items: 25, 30, 42, 18, and 55. Use the \"max\" and \"min\" functions to print the oldest and youngest age in the list, respectively."
      ],
      "metadata": {
        "id": "eVqVwB81QPKp"
      }
    },
    {
      "cell_type": "code",
      "source": [
        "ages = [25, 30, 42, 18, 55]\n",
        "oldest = max(ages)\n",
        "youngest = min(ages)\n",
        "print(f\"The oldest age is {oldest} and the youngest age is {youngest}.\")"
      ],
      "metadata": {
        "id": "DlyD-0FCQQ2Q"
      },
      "execution_count": null,
      "outputs": []
    },
    {
      "cell_type": "markdown",
      "source": [
        "#### **Question 2 (2 minute):**\n",
        "Create a list called \"grades\" and add the following items: 85, 90, 92, 78, and 87. Calculate the average of the grades and print the result rounded to two decimal places."
      ],
      "metadata": {
        "id": "FYgE2_LBQ0Z8"
      }
    },
    {
      "cell_type": "code",
      "source": [
        "grades = [85, 90, 92, 78, 87]\n",
        "average = sum(grades) / len(grades)\n",
        "print(f\"The average grade is {average:.2f}.\")"
      ],
      "metadata": {
        "id": "hsY4aaQ-Q245"
      },
      "execution_count": null,
      "outputs": []
    },
    {
      "cell_type": "markdown",
      "source": [
        "\n",
        "\n",
        "---\n",
        "\n",
        "\n",
        "**Accessing list elements:**"
      ],
      "metadata": {
        "id": "arBPengm5L9J"
      }
    },
    {
      "cell_type": "code",
      "source": [
        "# Accessing the first element of a list\n",
        "my_list = [1, 2, 3, 4, 5]\n",
        "print(my_list[0])\n",
        "\n",
        "# Accessing the last element of a list\n",
        "my_list = [1, 2, 3, 4, 5]\n",
        "print(my_list[-1]) "
      ],
      "metadata": {
        "colab": {
          "base_uri": "https://localhost:8080/"
        },
        "id": "YGNx4PB-5N_V",
        "outputId": "8be717f7-bd71-48dd-ea8e-3bb0734fef32"
      },
      "execution_count": null,
      "outputs": [
        {
          "output_type": "stream",
          "name": "stdout",
          "text": [
            "1\n",
            "5\n"
          ]
        }
      ]
    },
    {
      "cell_type": "markdown",
      "source": [
        "### <mark>**Demo question 1**</mark>\n",
        "Create a list called \"numbers\" and add the numbers 1, 3, 5, 7, and 9. Use slicing to print only the even numbers."
      ],
      "metadata": {
        "id": "bwZRiin7RdYp"
      }
    },
    {
      "cell_type": "code",
      "source": [
        "numbers = [1, 3, 5, 7, 9]\n",
        "print(numbers[1::2])"
      ],
      "metadata": {
        "id": "ntXqsMbYRfGw"
      },
      "execution_count": null,
      "outputs": []
    },
    {
      "cell_type": "markdown",
      "source": [
        "---\n",
        "### <mark>**Practice Time for learners**</mark>"
      ],
      "metadata": {
        "id": "K2X9UvFm6VQL"
      }
    },
    {
      "cell_type": "markdown",
      "source": [
        "#### **Question 1 (2 minute):**\n",
        "Create a list called \"fruits\" and add the following items: \"apple\", \"banana\", \"orange\", and \"grapefruit\". Access and print the second item in the list."
      ],
      "metadata": {
        "id": "lQJOmBmwRgTk"
      }
    },
    {
      "cell_type": "code",
      "source": [
        "fruits = [\"apple\", \"banana\", \"orange\", \"grapefruit\"]\n",
        "print(fruits[1])"
      ],
      "metadata": {
        "id": "eP4V4lJvRk4i"
      },
      "execution_count": null,
      "outputs": []
    },
    {
      "cell_type": "markdown",
      "source": [
        "#### **Question 2 (2 minute):**\n",
        "Create a list called \"names\" and add the following items: \"John\", \"Jane\", \"Bob\", \"Alice\", and \"Mary\". Use negative indexing to print the last name in the list."
      ],
      "metadata": {
        "id": "ERsdcm7BRmNt"
      }
    },
    {
      "cell_type": "code",
      "source": [
        "names = [\"John\", \"Jane\", \"Bob\", \"Alice\", \"Mary\"]\n",
        "print(names[-1])"
      ],
      "metadata": {
        "id": "b7YebvfWSKQH"
      },
      "execution_count": null,
      "outputs": []
    },
    {
      "cell_type": "markdown",
      "source": [
        "**Modifying list elements:**"
      ],
      "metadata": {
        "id": "TDUGlNuq5b2x"
      }
    },
    {
      "cell_type": "code",
      "source": [
        "# Modifying the first element of a list\n",
        "my_list = [1, 2, 3, 4, 5]\n",
        "my_list[0] = 6\n",
        "\n",
        "print(my_list) "
      ],
      "metadata": {
        "colab": {
          "base_uri": "https://localhost:8080/"
        },
        "id": "a6RgW7--5d3D",
        "outputId": "3bc82bde-479f-4b42-8382-5028ec429108"
      },
      "execution_count": null,
      "outputs": [
        {
          "output_type": "stream",
          "name": "stdout",
          "text": [
            "[6, 2, 3, 4, 5]\n"
          ]
        }
      ]
    },
    {
      "cell_type": "markdown",
      "source": [
        "### <mark>**Demo question 1**</mark>\n",
        "Create a list called \"fruits\" and add the following items: \"apple\", \"banana\", \"orange\", and \"grapefruit\". Use slicing to replace the last two fruits with \"pear\" and \"pineapple\". Print the updated list."
      ],
      "metadata": {
        "id": "Ko7OJcuTSmpB"
      }
    },
    {
      "cell_type": "code",
      "source": [
        "fruits = [\"apple\", \"banana\", \"orange\", \"grapefruit\"]\n",
        "fruits[-2:] = [\"pear\", \"pineapple\"]\n",
        "print(fruits)"
      ],
      "metadata": {
        "id": "nh8AQUS4Sop9"
      },
      "execution_count": null,
      "outputs": []
    },
    {
      "cell_type": "markdown",
      "source": [
        "---\n",
        "### <mark>**Practice Time for learners**</mark>\n"
      ],
      "metadata": {
        "id": "l58UEn_hAmsT"
      }
    },
    {
      "cell_type": "markdown",
      "source": [
        "#### **Question 1 (2 minute):**\n",
        "Create a list called \"names\" and add the following items: \"John\", \"Jane\", \"Bob\", \"Alice\", and \"Mary\". Use indexing to replace the first two names with \"Tom\" and \"Sue\". Print the updated list."
      ],
      "metadata": {
        "id": "1i6zTnmzSukt"
      }
    },
    {
      "cell_type": "code",
      "source": [
        "names = [\"John\", \"Jane\", \"Bob\", \"Alice\", \"Mary\"]\n",
        "names[:2] = [\"Tom\", \"Sue\"]\n",
        "print(names)"
      ],
      "metadata": {
        "id": "P54Y7IjtSwcS"
      },
      "execution_count": null,
      "outputs": []
    },
    {
      "cell_type": "markdown",
      "source": [
        "#### **Question 2 (2 minute):**\n",
        "Create a list called \"numbers\" and add the numbers 1, 2, 3, 4, and 5. Use indexing to change the value of the third element to 6. Print the updated list."
      ],
      "metadata": {
        "id": "_YX7A0NJTELi"
      }
    },
    {
      "cell_type": "code",
      "source": [
        "numbers = [1, 2, 3, 4, 5]\n",
        "numbers[2] = 6\n",
        "print(numbers)"
      ],
      "metadata": {
        "id": "T-iEZ2fOTHrH"
      },
      "execution_count": null,
      "outputs": []
    },
    {
      "cell_type": "markdown",
      "source": [
        "**List slicing:**"
      ],
      "metadata": {
        "id": "Jptnu15L5mo8"
      }
    },
    {
      "cell_type": "code",
      "source": [
        "# Slicing a list\n",
        "my_list = [1, 2, 3, 4, 5]\n",
        "print(my_list[1:3]) # Output: [2, 3]"
      ],
      "metadata": {
        "colab": {
          "base_uri": "https://localhost:8080/"
        },
        "id": "GtkuFWmw5r2p",
        "outputId": "fa3e1886-619d-4ea6-fbcb-2864e9f1c753"
      },
      "execution_count": null,
      "outputs": [
        {
          "output_type": "stream",
          "name": "stdout",
          "text": [
            "[2, 3]\n"
          ]
        }
      ]
    },
    {
      "cell_type": "markdown",
      "source": [
        "### <mark>**Demo question 1**</mark>\n",
        "Create a list called \"ages\" and add the numbers 10 through 20. Use slicing to print only the even numbers (10, 12, 14, 16, 18, 20)."
      ],
      "metadata": {
        "id": "T8PJ_5NPT0TN"
      }
    },
    {
      "cell_type": "code",
      "source": [
        "ages = list(range(10, 21))\n",
        "print(ages[::2])"
      ],
      "metadata": {
        "id": "bgZq2roUT2GX"
      },
      "execution_count": null,
      "outputs": []
    },
    {
      "cell_type": "markdown",
      "source": [
        "---\n",
        "### <mark>**Practice Time for learners**</mark>"
      ],
      "metadata": {
        "id": "73MxYpfaBiDp"
      }
    },
    {
      "cell_type": "markdown",
      "source": [
        "#### **Question 1 (2 minute):**\n",
        "Create a list called \"words\" and add the words \"apple\", \"banana\", \"cherry\", \"date\", and \"elderberry\". Use slicing to print only the last two words."
      ],
      "metadata": {
        "id": "-FoxjFqNTf8m"
      }
    },
    {
      "cell_type": "code",
      "source": [
        "words = [\"apple\", \"banana\", \"cherry\", \"date\", \"elderberry\"]\n",
        "print(words[-2:])"
      ],
      "metadata": {
        "id": "0L78OC5STiSn"
      },
      "execution_count": null,
      "outputs": []
    },
    {
      "cell_type": "markdown",
      "source": [
        "#### **Question 2 (2 minute):**\n",
        "Create a list called \"colors\" and add the colors \"red\", \"green\", \"blue\", \"yellow\", and \"purple\". Use slicing to print only the even-indexed colors (the first, third, and fifth elements)."
      ],
      "metadata": {
        "id": "xdMmfyimTlju"
      }
    },
    {
      "cell_type": "code",
      "source": [
        "colors = [\"red\", \"green\", \"blue\", \"yellow\", \"purple\"]\n",
        "print(colors[::2])"
      ],
      "metadata": {
        "id": "RLZRLv-4TocO"
      },
      "execution_count": null,
      "outputs": []
    },
    {
      "cell_type": "markdown",
      "source": [
        "#### Let's explore Real-time use case hands-on python coding:"
      ],
      "metadata": {
        "id": "jjCSM9h0P9bQ"
      }
    },
    {
      "cell_type": "markdown",
      "source": [
        "Imagine that we are building a web application that allows users to search for books in a library. \n",
        "* We will use Python's built-in list to store information about the books in the library.\n",
        "* Creates a list of book titles containing the following titles: \"The Great Gatsby\", \"To Kill a Mockingbird\", \"1984\", \"Pride and Prejudice\", and \"Animal Farm\".\n",
        "* Accesses the first element of the list and prints it to the console.\n",
        "Modifies the third element of the list to \"Brave New World\".\n",
        "Prints the updated list to the console.\n",
        "* Uses list slicing to extract a sublist containing the second and third elements of the list, and prints it to the console."
      ],
      "metadata": {
        "id": "XepCEc86QEsQ"
      }
    },
    {
      "cell_type": "code",
      "source": [
        "# Let's create a list to hold the titles of the books in the library:\n",
        "# Creating a list of book titles\n",
        "book_titles = ['The Great Gatsby', 'To Kill a Mockingbird', '1984', 'Pride and Prejudice', 'Animal Farm']\n",
        "\n",
        "# Accessing list elements\n",
        "print(book_titles[0])   # Output: The Great Gatsby\n",
        "\n",
        "# Modifying list elements\n",
        "book_titles[2] = 'Brave New World'\n",
        "print(book_titles)      # Output: ['The Great Gatsby', 'To Kill a Mockingbird', 'Brave New World', 'Pride and Prejudice', 'Animal Farm']\n",
        "\n",
        "# List slicing\n",
        "print(book_titles[1:3]) # Output: ['To Kill a Mockingbird', 'Brave New World']"
      ],
      "metadata": {
        "id": "_H_AoSsJQJM3"
      },
      "execution_count": null,
      "outputs": []
    },
    {
      "cell_type": "markdown",
      "source": [
        "##### **Use case of list:**"
      ],
      "metadata": {
        "id": "_QyzOIbX5x-g"
      }
    },
    {
      "cell_type": "markdown",
      "source": [
        "* Lists are widely used in Python programming for holding sequences of values that can be modified. \n",
        "* Lists can be used for a variety of purposes such as representing the scores of students in a class, holding a list of tasks to be completed, and storing a list of user inputs."
      ],
      "metadata": {
        "id": "0TBdgtrX55Xn"
      }
    },
    {
      "cell_type": "markdown",
      "source": [
        "### Tuples"
      ],
      "metadata": {
        "id": "lK4cN6mSd2AJ"
      }
    },
    {
      "cell_type": "markdown",
      "source": [
        "* A tuple is similar to a list in that it is a collection of values. \n",
        "* Tuples are immutable meaning that their values cannot be changed after creation.\n",
        "* Tuples are created using parentheses and can be used to hold sequences of values that should not be modified."
      ],
      "metadata": {
        "id": "P9zLlDIJBGzQ"
      }
    },
    {
      "cell_type": "markdown",
      "source": [
        "**Creating tuples:**"
      ],
      "metadata": {
        "id": "obsiUHatBdgK"
      }
    },
    {
      "cell_type": "code",
      "source": [
        "# Creating a tuple\n",
        "my_tuple = (1, 2, 3, 4, 5)\n",
        "my_tuple = (\"apple\", \"banana\", \"cherry\")\n",
        "my_tuple = (1, \"apple\", True, 3.14)\n",
        "my_tuple"
      ],
      "metadata": {
        "colab": {
          "base_uri": "https://localhost:8080/"
        },
        "id": "7AQ9vjReBfJY",
        "outputId": "805fab80-b7cc-463c-d2ce-c01586769991"
      },
      "execution_count": null,
      "outputs": [
        {
          "output_type": "execute_result",
          "data": {
            "text/plain": [
              "(1, 'apple', True, 3.14)"
            ]
          },
          "metadata": {},
          "execution_count": 7
        }
      ]
    },
    {
      "cell_type": "markdown",
      "source": [
        "### <mark>**Demo question**</mark>"
      ],
      "metadata": {
        "id": "SjcIELR1meco"
      }
    },
    {
      "cell_type": "markdown",
      "source": [
        "Create a tuple called \"grades\" with the values 90, 85, and 95. Use tuple unpacking to assign the values to three variables called \"math_grade\", \"english_grade\", and \"science_grade\". Print the values of the three variables."
      ],
      "metadata": {
        "id": "o_GWUNjsDaVM"
      }
    },
    {
      "cell_type": "code",
      "source": [
        "grades = (90, 85, 95)\n",
        "math_grade, english_grade, science_grade = grades\n",
        "print(math_grade, english_grade, science_grade)"
      ],
      "metadata": {
        "colab": {
          "base_uri": "https://localhost:8080/"
        },
        "id": "9JCAeSelDdUs",
        "outputId": "9e18a66e-36ee-4f03-d6e9-7c5f0ad5ce97"
      },
      "execution_count": null,
      "outputs": [
        {
          "output_type": "stream",
          "name": "stdout",
          "text": [
            "90 85 95\n"
          ]
        }
      ]
    },
    {
      "cell_type": "markdown",
      "source": [
        "---\n",
        "### <mark>**Practice Time for learners**</mark>"
      ],
      "metadata": {
        "id": "efWkBP9amr_O"
      }
    },
    {
      "cell_type": "markdown",
      "source": [
        "#### **Question 1 (2 minute):**\n",
        "Create a tuple called \"names\" with the values \"Alice\", \"Bob\", and \"Charlie\". Concatenate the tuple with the tuple (\"David\", \"Emily\") to create a new tuple called \"people\". Print the new tuple."
      ],
      "metadata": {
        "id": "2ycfdNB2Dux5"
      }
    },
    {
      "cell_type": "code",
      "source": [
        "names = (\"Alice\", \"Bob\", \"Charlie\")\n",
        "people = names + (\"David\", \"Emily\")\n",
        "print(people)"
      ],
      "metadata": {
        "colab": {
          "base_uri": "https://localhost:8080/"
        },
        "id": "pLYEahmFDx3n",
        "outputId": "6b5bb179-95d3-40ed-a954-82420d453f43"
      },
      "execution_count": null,
      "outputs": [
        {
          "output_type": "stream",
          "name": "stdout",
          "text": [
            "('Alice', 'Bob', 'Charlie', 'David', 'Emily')\n"
          ]
        }
      ]
    },
    {
      "cell_type": "markdown",
      "source": [
        "#### **Question 2 (2 minute):**\n",
        "Create a tuple called \"fruits\" with the values \"apple\", \"banana\", \"orange\", and \"grapefruit\". Use slicing to replace the first two fruits with \"pear\" and \"pineapple\". Print the updated tuple."
      ],
      "metadata": {
        "id": "PTyX8KhzD61P"
      }
    },
    {
      "cell_type": "code",
      "source": [
        "fruits = (\"apple\", \"banana\", \"orange\", \"grapefruit\")\n",
        "updated_fruits = (\"pear\", \"pineapple\") + fruits[2:]\n",
        "print(updated_fruits)"
      ],
      "metadata": {
        "colab": {
          "base_uri": "https://localhost:8080/"
        },
        "id": "4oVnRu6GD8vX",
        "outputId": "7a6432a3-1fc6-42a2-fd3c-951b853b8d6b"
      },
      "execution_count": null,
      "outputs": [
        {
          "output_type": "stream",
          "name": "stdout",
          "text": [
            "('pear', 'pineapple', 'orange', 'grapefruit')\n"
          ]
        }
      ]
    },
    {
      "cell_type": "markdown",
      "source": [
        "**Accessing tuple elements:**"
      ],
      "metadata": {
        "id": "xelcHfYqBnjb"
      }
    },
    {
      "cell_type": "code",
      "source": [
        "# Accessing the first element of a tuple\n",
        "my_tuple = (1, 2, 3, 4, 5)\n",
        "print(my_tuple[0]) \n",
        "\n",
        "# Accessing the 2nd last element of a tuple\n",
        "my_tuple = (1, 2, 3, 4, 5)\n",
        "print(my_tuple[-2]) "
      ],
      "metadata": {
        "colab": {
          "base_uri": "https://localhost:8080/"
        },
        "id": "SUPlPTjoCCVw",
        "outputId": "1938f693-a444-49f5-e935-4cdecc5a9dbf"
      },
      "execution_count": null,
      "outputs": [
        {
          "output_type": "stream",
          "name": "stdout",
          "text": [
            "1\n",
            "4\n"
          ]
        }
      ]
    },
    {
      "cell_type": "markdown",
      "source": [
        "### <mark>**Demo question 1**</mark>\n",
        "Create a nested tuple called \"students\" with the values ((\"Alice\", (90, 85, 95)), (\"Bob\", (80, 90, 85)), (\"Charlie\", (95, 90, 95))). Use tuple unpacking and indexing to print the second grade of the third student."
      ],
      "metadata": {
        "id": "ycopZjkwpFyY"
      }
    },
    {
      "cell_type": "code",
      "source": [
        "students = ((\"Alice\", (90, 85, 95)), (\"Bob\", (80, 90, 85)), (\"Charlie\", (95, 90, 95)))\n",
        "_, grades = students[2]\n",
        "print(grades[1])"
      ],
      "metadata": {
        "colab": {
          "base_uri": "https://localhost:8080/"
        },
        "id": "KD9kDeAdpNsg",
        "outputId": "49bcb22c-9a74-457a-ff43-d10d2af4889d"
      },
      "execution_count": null,
      "outputs": [
        {
          "output_type": "stream",
          "name": "stdout",
          "text": [
            "90\n"
          ]
        }
      ]
    },
    {
      "cell_type": "markdown",
      "source": [
        "---\n",
        "### <mark>**Practice Time for learners**</mark>"
      ],
      "metadata": {
        "id": "H2EwduP6nWmc"
      }
    },
    {
      "cell_type": "markdown",
      "source": [
        "#### **Question 1 (2 minute):**\n",
        "Create a tuple called \"names\" with the values \"Alice\", \"Bob\", \"Charlie\", and \"David\". Use the in keyword to print whether the value \"Charlie\" is in the tuple."
      ],
      "metadata": {
        "id": "mQxw5klDHU0X"
      }
    },
    {
      "cell_type": "code",
      "source": [
        "names = (\"Alice\", \"Bob\", \"Charlie\", \"David\")\n",
        "print(\"Charlie\" in names)"
      ],
      "metadata": {
        "id": "wSy94vKKHW3q"
      },
      "execution_count": null,
      "outputs": []
    },
    {
      "cell_type": "markdown",
      "source": [
        "#### **Question 2 (2 minute):**\n",
        "Create a tuple called \"words\" with the values \"hello\", \"world\", \"how\", \"are\", \"you\". Use tuple unpacking to assign the values of the first two items to the variables \"greeting\" and \"recipient\". Print a message that says \"The [greeting] is for [recipient].\""
      ],
      "metadata": {
        "id": "yloi5YTsGj-j"
      }
    },
    {
      "cell_type": "code",
      "source": [
        "words = (\"hello\", \"world\", \"how\", \"are\", \"you\")\n",
        "greeting, recipient = words[:2]\n",
        "print(f\"The {greeting} is for {recipient}.\")"
      ],
      "metadata": {
        "colab": {
          "base_uri": "https://localhost:8080/"
        },
        "id": "TXzdwj5wGmlP",
        "outputId": "138a98aa-a33e-4313-e5e8-abc48fb5f2aa"
      },
      "execution_count": null,
      "outputs": [
        {
          "output_type": "stream",
          "name": "stdout",
          "text": [
            "The hello is for world.\n"
          ]
        }
      ]
    },
    {
      "cell_type": "markdown",
      "source": [
        "**Modifying tuples:**"
      ],
      "metadata": {
        "id": "44mkq8pMEThg"
      }
    },
    {
      "cell_type": "code",
      "source": [
        "# Modifying a tuple (not possible)"
      ],
      "metadata": {
        "id": "CWLHY3QgEWEO"
      },
      "execution_count": null,
      "outputs": []
    },
    {
      "cell_type": "markdown",
      "source": [
        "#### In addition to above library example \n",
        "* Creates a tuple named book_info that holds information about a book. The tuple should contain the following items in this order: \"The Great Gatsby\" (title), \"F. Scott Fitzgerald\" (author), 1925 (year of publication), and \"Scribner\" (publisher).\n",
        "* Accesses the first element of the tuple and prints it to the console.\n",
        "* Tries to modify the third element of the tuple to 1926 (the correct year of publication), which will result in a TypeError because tuples are immutable.\n",
        "* Prints the error message to the console."
      ],
      "metadata": {
        "id": "QWLLilrRQlQC"
      }
    },
    {
      "cell_type": "markdown",
      "source": [
        "Now add a tuple to hold information about a specific book:\n"
      ],
      "metadata": {
        "id": "bdICAkpSQtlq"
      }
    },
    {
      "cell_type": "code",
      "source": [
        "# Creating a tuple to hold information about a book\n",
        "book_info = ('The Great Gatsby', 'F. Scott Fitzgerald', 1925, 'Scribner')\n",
        "\n",
        "# Accessing tuple elements\n",
        "print(book_info[0])     # Output: The Great Gatsby\n",
        "\n",
        "# Trying to modify tuple elements (will result in an error)\n",
        "book_info[2] = 1926    # Output: TypeError: 'tuple' object does not support item assignment"
      ],
      "metadata": {
        "id": "q3jk9odbQuxI"
      },
      "execution_count": null,
      "outputs": []
    },
    {
      "cell_type": "markdown",
      "source": [
        "**Use case of tuple:**"
      ],
      "metadata": {
        "id": "jIfV8jw3EfKC"
      }
    },
    {
      "cell_type": "markdown",
      "source": [
        "* Tuples are used when we need to store an immutable sequence of values of any type.\n",
        "* Since tuples are immutable they cannot be modified once created, which makes them useful in situations where we need to ensure that the data remains constant throughout the program's execution."
      ],
      "metadata": {
        "id": "DWXztS5gEmh4"
      }
    },
    {
      "cell_type": "markdown",
      "source": [
        "### Sets"
      ],
      "metadata": {
        "id": "ERX0TpKHE_P8"
      }
    },
    {
      "cell_type": "markdown",
      "source": [
        "* A set is a collection of unique values that can be of different types. \n",
        "* Sets are created using curly braces or the set() function and can be modified after creation. \n",
        "* Sets are commonly used for performing mathematical operations such as union, intersection, and difference."
      ],
      "metadata": {
        "id": "pauw7QyOFCK7"
      }
    },
    {
      "cell_type": "markdown",
      "source": [
        "**Creating sets:**"
      ],
      "metadata": {
        "id": "dwE4CRIrFTS_"
      }
    },
    {
      "cell_type": "code",
      "source": [
        "# Creating an empty set\n",
        "my_set = set()\n",
        "\n",
        "# Creating a set with values\n",
        "my_set = {1, 2, 3, 4, 5}\n",
        "my_set = {\"apple\", \"banana\", \"cherry\"}\n",
        "my_set = {1, \"apple\", True, 3.14}"
      ],
      "metadata": {
        "id": "82mhSoqOFVsj"
      },
      "execution_count": null,
      "outputs": []
    },
    {
      "cell_type": "markdown",
      "source": [
        "### <mark>**Demo question 1**</mark>\n",
        "Create an empty set called \"numbers\". Use the add method to add the values 10, 20, and 30 to the set. Print the set."
      ],
      "metadata": {
        "id": "NCin2zrxqIEL"
      }
    },
    {
      "cell_type": "code",
      "source": [
        "numbers = set()\n",
        "numbers.add(10)\n",
        "numbers.add(20)\n",
        "numbers.add(30)\n",
        "print(numbers)"
      ],
      "metadata": {
        "colab": {
          "base_uri": "https://localhost:8080/"
        },
        "id": "LGFDhtD4rBNN",
        "outputId": "7fcd99e8-e489-449d-ab49-28fd91beeb0c"
      },
      "execution_count": null,
      "outputs": [
        {
          "output_type": "stream",
          "name": "stdout",
          "text": [
            "{10, 20, 30}\n"
          ]
        }
      ]
    },
    {
      "cell_type": "markdown",
      "source": [
        "---\n",
        "### <mark>**Practice Time for learners**</mark>"
      ],
      "metadata": {
        "id": "AuPQnD1Or5AF"
      }
    },
    {
      "cell_type": "markdown",
      "source": [
        "#### **Question 1 (2 minute):**\n",
        "Create a set called \"colors\" with the values \"red\", \"green\", \"blue\", and \"yellow\". Print the set."
      ],
      "metadata": {
        "id": "u_4aWCuTrLzy"
      }
    },
    {
      "cell_type": "code",
      "source": [
        "colors = {\"red\", \"green\", \"blue\", \"yellow\"}\n",
        "print(colors)"
      ],
      "metadata": {
        "colab": {
          "base_uri": "https://localhost:8080/"
        },
        "id": "Zys3UeRGrPeP",
        "outputId": "09b95ce0-cf78-4468-d38e-55f0e87de192"
      },
      "execution_count": null,
      "outputs": [
        {
          "output_type": "stream",
          "name": "stdout",
          "text": [
            "{'yellow', 'blue', 'red', 'green'}\n"
          ]
        }
      ]
    },
    {
      "cell_type": "markdown",
      "source": [
        "#### **Question 2 (2 minute):**\n",
        "Create a set called \"fruits\" with the values \"apple\", \"banana\", and \"orange\". Use the add method to add the values \"grape\" and \"kiwi\" to the set. Print the updated set."
      ],
      "metadata": {
        "id": "oY7yygbqrhYo"
      }
    },
    {
      "cell_type": "code",
      "source": [
        "fruits = {\"apple\", \"banana\", \"orange\"}\n",
        "fruits.add(\"grape\")\n",
        "fruits.add(\"kiwi\")\n",
        "print(fruits)"
      ],
      "metadata": {
        "colab": {
          "base_uri": "https://localhost:8080/"
        },
        "id": "hDEmQ59erjL4",
        "outputId": "e6bfb62f-e97f-49e0-8d06-70d136c2b161"
      },
      "execution_count": null,
      "outputs": [
        {
          "output_type": "stream",
          "name": "stdout",
          "text": [
            "{'kiwi', 'apple', 'grape', 'orange', 'banana'}\n"
          ]
        }
      ]
    },
    {
      "cell_type": "markdown",
      "source": [
        "**Accessing set elements:**"
      ],
      "metadata": {
        "id": "-IuB-cgSFdbw"
      }
    },
    {
      "cell_type": "code",
      "source": [
        "# Accessing elements of a set\n",
        "my_set = {1, 2, 3, 4, 5}\n",
        "for element in my_set:\n",
        "    print(element)"
      ],
      "metadata": {
        "colab": {
          "base_uri": "https://localhost:8080/"
        },
        "id": "-J-PDVBbFgOs",
        "outputId": "a145dd49-a6a4-471a-ab1d-02696258f203"
      },
      "execution_count": null,
      "outputs": [
        {
          "output_type": "stream",
          "name": "stdout",
          "text": [
            "1\n",
            "2\n",
            "3\n",
            "4\n",
            "5\n"
          ]
        }
      ]
    },
    {
      "cell_type": "markdown",
      "source": [
        "### <mark>**Demo question**</mark>\n",
        "Create a set called \"letters\" with the values \"a\", \"b\", \"c\", and \"d\". Print the first two elements of the set in reverse order."
      ],
      "metadata": {
        "id": "dSx2f6c4uo9_"
      }
    },
    {
      "cell_type": "code",
      "source": [
        "letters = {\"a\", \"b\", \"c\", \"d\"}\n",
        "print(list(letters)[1::-1])"
      ],
      "metadata": {
        "colab": {
          "base_uri": "https://localhost:8080/"
        },
        "id": "m7tPoXIYusNs",
        "outputId": "b623d3a3-e812-41be-ddfc-3be4850f24f3"
      },
      "execution_count": null,
      "outputs": [
        {
          "output_type": "stream",
          "name": "stdout",
          "text": [
            "['d', 'c']\n"
          ]
        }
      ]
    },
    {
      "cell_type": "markdown",
      "source": [
        "---\n",
        "### <mark>**Practice Time for learners**</mark>"
      ],
      "metadata": {
        "id": "W3vHaxnyvBR9"
      }
    },
    {
      "cell_type": "markdown",
      "source": [
        "#### **Question 1 (2 minute):**\n",
        "Create a set called \"colors\" with the values \"red\", \"green\", \"blue\", and \"yellow\". Check if \"green\" is in the set and print the result."
      ],
      "metadata": {
        "id": "MLC5VlyLtNIR"
      }
    },
    {
      "cell_type": "code",
      "source": [
        "colors = {\"red\", \"green\", \"blue\", \"yellow\"}\n",
        "print(\"green\" in colors)"
      ],
      "metadata": {
        "colab": {
          "base_uri": "https://localhost:8080/"
        },
        "id": "kS1e3_nWtOwj",
        "outputId": "442c9e11-93f1-4361-c576-9aebd8ae0452"
      },
      "execution_count": null,
      "outputs": [
        {
          "output_type": "stream",
          "name": "stdout",
          "text": [
            "True\n"
          ]
        }
      ]
    },
    {
      "cell_type": "markdown",
      "source": [
        "#### **Question 2 (2 minute):**\n",
        "Create a set called \"colors\" with the values \"red\", \"green\", \"blue\", and \"yellow\". Print the last element of the set."
      ],
      "metadata": {
        "id": "BhASDLsmuSjm"
      }
    },
    {
      "cell_type": "code",
      "source": [
        "colors = {\"red\", \"green\", \"blue\", \"yellow\"}\n",
        "print(list(colors)[-1])"
      ],
      "metadata": {
        "colab": {
          "base_uri": "https://localhost:8080/"
        },
        "id": "taXYEPYiuUWw",
        "outputId": "77aeeda5-6eba-4890-a7ef-f2a1d473f718"
      },
      "execution_count": null,
      "outputs": [
        {
          "output_type": "stream",
          "name": "stdout",
          "text": [
            "green\n"
          ]
        }
      ]
    },
    {
      "cell_type": "markdown",
      "source": [
        "**Modifying set elements:**"
      ],
      "metadata": {
        "id": "rQoNPZ4GFlCd"
      }
    },
    {
      "cell_type": "code",
      "source": [
        "# Adding elements to a set\n",
        "my_set = {1, 2, 3, 4, 5}\n",
        "my_set.add(6)\n",
        "print(my_set) # Output: {1, 2, 3, 4, 5, 6}\n",
        "\n",
        "# Removing elements from a set\n",
        "my_set = {1, 2, 3, 4, 5}\n",
        "my_set.remove(3)\n",
        "print(my_set) # Output: {1, 2, 4, 5}"
      ],
      "metadata": {
        "colab": {
          "base_uri": "https://localhost:8080/"
        },
        "id": "5OFOVVxoFpMm",
        "outputId": "1252d6f1-59f3-49d0-b33e-8d54815e738b"
      },
      "execution_count": null,
      "outputs": [
        {
          "output_type": "stream",
          "name": "stdout",
          "text": [
            "{1, 2, 3, 4, 5, 6}\n",
            "{1, 2, 4, 5}\n"
          ]
        }
      ]
    },
    {
      "cell_type": "markdown",
      "source": [
        "### <mark>**Demo question**</mark>\n",
        "Create a set called \"animals\" with the values \"dog\", \"cat\", and \"fish\". Remove the values \"cat\" and \"fish\" from the set and print the updated set."
      ],
      "metadata": {
        "id": "HW2xPhtnwFU0"
      }
    },
    {
      "cell_type": "code",
      "source": [
        "animals = {\"dog\", \"cat\", \"fish\"}\n",
        "animals -= {\"cat\", \"fish\"}\n",
        "print(animals)"
      ],
      "metadata": {
        "colab": {
          "base_uri": "https://localhost:8080/"
        },
        "id": "Seg8Jrx4wHcr",
        "outputId": "d0ca2fba-5a8c-4e6f-9fc3-ecd19eb3c3cc"
      },
      "execution_count": null,
      "outputs": [
        {
          "output_type": "stream",
          "name": "stdout",
          "text": [
            "{'dog'}\n"
          ]
        }
      ]
    },
    {
      "cell_type": "markdown",
      "source": [
        "---\n",
        "### <mark>**Practice Time for learners**</mark>"
      ],
      "metadata": {
        "id": "nWmEEoeOwujl"
      }
    },
    {
      "cell_type": "markdown",
      "source": [
        "#### **Question 1 (2 minute):**\n",
        "Create two sets called \"set1\" and \"set2\" with the values 1, 2, and 3, and 3, 4, and 5 respectively. Update \"set1\" to contain the values in both sets and print the updated set."
      ],
      "metadata": {
        "id": "57O1kMXLwN8I"
      }
    },
    {
      "cell_type": "code",
      "source": [
        "set1 = {1, 2, 3}\n",
        "set2 = {3, 4, 5}\n",
        "set1 |= set2\n",
        "print(set1)"
      ],
      "metadata": {
        "colab": {
          "base_uri": "https://localhost:8080/"
        },
        "id": "lsY3UdQowPrQ",
        "outputId": "fc117787-1796-4fe2-ea6d-6cf0b804da7a"
      },
      "execution_count": null,
      "outputs": [
        {
          "output_type": "stream",
          "name": "stdout",
          "text": [
            "{1, 2, 3, 4, 5}\n"
          ]
        }
      ]
    },
    {
      "cell_type": "markdown",
      "source": [
        "#### **Question 2 (2 minute):**\n",
        "Create a set called \"numbers\" with the values 1, 2, and 3. Add the values 4 and 5 to the set and print the updated set."
      ],
      "metadata": {
        "id": "HmHwq5YhwYdw"
      }
    },
    {
      "cell_type": "code",
      "source": [
        "numbers = {1, 2, 3}\n",
        "numbers |= {4, 5}\n",
        "print(numbers)"
      ],
      "metadata": {
        "colab": {
          "base_uri": "https://localhost:8080/"
        },
        "id": "QnEdh0EYwaVS",
        "outputId": "4412df4d-8b92-48ca-808b-072ce08383f2"
      },
      "execution_count": null,
      "outputs": [
        {
          "output_type": "stream",
          "name": "stdout",
          "text": [
            "{1, 2, 3, 4, 5}\n"
          ]
        }
      ]
    },
    {
      "cell_type": "markdown",
      "source": [
        "**Set slicing:**"
      ],
      "metadata": {
        "id": "Fq0SiCXFFtXi"
      }
    },
    {
      "cell_type": "code",
      "source": [
        "# Sets cannot be sliced"
      ],
      "metadata": {
        "id": "YZzGIr5jFvgx"
      },
      "execution_count": null,
      "outputs": []
    },
    {
      "cell_type": "markdown",
      "source": [
        "In addition to above library example\n",
        "*  Creates a set named book_info that holds information about a book. The set should contain the following items in this order: \"The Great Gatsby\" (title), \"F. Scott Fitzgerald\" (author), 1925 (year of publication), and \"Scribner\" (publisher).\n",
        "* Accesses the first element of the set and prints it to the console.\n",
        "* Tries to modify the third element of the tuple to 1926 (the correct year of publication), \n",
        "* Prints the error message to the console."
      ],
      "metadata": {
        "id": "epvxWIjTQ_VA"
      }
    },
    {
      "cell_type": "markdown",
      "source": [
        "Now add a set to hold information about a specific book:"
      ],
      "metadata": {
        "id": "avqHOc0eRHEi"
      }
    },
    {
      "cell_type": "code",
      "source": [
        "# Creating a set of book information\n",
        "book_info = {'The Great Gatsby', 'F. Scott Fitzgerald', 1925, 'Scribner'}\n",
        "\n",
        "# Accessing the first element of the set and printing it to the console\n",
        "print(book_info.pop())  # Output: 'The Great Gatsby'\n",
        "\n",
        "# Trying to modify the third element of the set to 1926 (will result in an error)\n",
        "book_info.discard(1925)\n",
        "book_info.add(1926)\n",
        "print(book_info)   # Output: {'F. Scott Fitzgerald', 'Scribner', 1926}"
      ],
      "metadata": {
        "id": "OHGoRau6RJ5s"
      },
      "execution_count": null,
      "outputs": []
    },
    {
      "cell_type": "markdown",
      "source": [
        "The example creates a set of book information, accesses its first element using \n",
        "* The pop() method, and then modifies its third element using the discard() and add() methods. \n",
        "* Since sets are mutable, the attempt to modify the set will succeed, and the code prints the modified set to the console."
      ],
      "metadata": {
        "id": "s0CtZHXDRPka"
      }
    },
    {
      "cell_type": "markdown",
      "source": [
        "**Use case of set:**"
      ],
      "metadata": {
        "id": "qmQjJka_Fx5H"
      }
    },
    {
      "cell_type": "markdown",
      "source": [
        "* Sets are commonly used in Python programming for holding collections of unique values that can be used to perform mathematical operations. \n",
        "* Sets can be used for a variety of purposes such as representing a set of users who have access to a resource, holding a set of unique keywords in a document, and storing a set of unique IP addresses."
      ],
      "metadata": {
        "id": "p1F_F1P0Fzmw"
      }
    },
    {
      "cell_type": "markdown",
      "source": [
        "### Dictionaries"
      ],
      "metadata": {
        "id": "h5LF35NSd18x"
      }
    },
    {
      "cell_type": "markdown",
      "source": [
        "* A dictionary is a collection of key-value pairs, where each key is associated with a value. \n",
        "* Dictionaries are created using curly braces or the dict() function and can be modified after creation. \n",
        "* Dictionaries are commonly used to represent real-world objects such as people, products, or locations."
      ],
      "metadata": {
        "id": "2j8grLHCGCOu"
      }
    },
    {
      "cell_type": "markdown",
      "source": [
        "**Creating dictionaries:**"
      ],
      "metadata": {
        "id": "OZQVcAE9GP9F"
      }
    },
    {
      "cell_type": "code",
      "source": [
        "# Creating a dictionary\n",
        "my_dict = {\"name\": \"John\", \"age\": 30, \"city\": \"New York\"}\n",
        "my_dict = dict(name=\"John\", age=30, city=\"New York\")"
      ],
      "metadata": {
        "id": "S4pr-EqXGRnm"
      },
      "execution_count": null,
      "outputs": []
    },
    {
      "cell_type": "markdown",
      "source": [
        "### <mark>**Demo question**</mark>\n",
        "Create a dictionary called \"book\" with the keys \"title\", \"author\", and \"year\", and the values \"To Kill a Mockingbird\", \"Harper Lee\", and 1960, respectively. Print the dictionary."
      ],
      "metadata": {
        "id": "f3Hb2CO-xemr"
      }
    },
    {
      "cell_type": "code",
      "source": [
        "book = {\"title\": \"To Kill a Mockingbird\", \"author\": \"Harper Lee\", \"year\": 1960}\n",
        "print(book)"
      ],
      "metadata": {
        "colab": {
          "base_uri": "https://localhost:8080/"
        },
        "id": "jtGSjie6xlOA",
        "outputId": "9f155aa2-3e53-4f9e-814c-4864a3c6e5d4"
      },
      "execution_count": null,
      "outputs": [
        {
          "output_type": "stream",
          "name": "stdout",
          "text": [
            "{'title': 'To Kill a Mockingbird', 'author': 'Harper Lee', 'year': 1960}\n"
          ]
        }
      ]
    },
    {
      "cell_type": "markdown",
      "source": [
        "---\n",
        "### <mark>**Practice Time for learners**</mark>"
      ],
      "metadata": {
        "id": "luCcIQx7yLyy"
      }
    },
    {
      "cell_type": "markdown",
      "source": [
        "#### **Question 1 (2 minute):**\n",
        "Create a dictionary called \"car\" with the keys \"make\", \"model\", and \"year\", and the values \"Toyota\", \"Camry\", and 2021, respectively. Print the dictionary."
      ],
      "metadata": {
        "id": "U5-FvcnNxvCX"
      }
    },
    {
      "cell_type": "code",
      "source": [
        "car = {\"make\": \"Toyota\", \"model\": \"Camry\", \"year\": 2021}\n",
        "print(car)"
      ],
      "metadata": {
        "colab": {
          "base_uri": "https://localhost:8080/"
        },
        "id": "QV05-tndxwrZ",
        "outputId": "f85a2111-a09b-4ae1-a431-24ee352b2b56"
      },
      "execution_count": null,
      "outputs": [
        {
          "output_type": "stream",
          "name": "stdout",
          "text": [
            "{'make': 'Toyota', 'model': 'Camry', 'year': 2021}\n"
          ]
        }
      ]
    },
    {
      "cell_type": "markdown",
      "source": [
        "#### **Question 2 (2 minute):**\n",
        "Create a dictionary called \"city_info\" with the keys \"name\", \"country\", and \"population\", and the values \"Paris\", \"France\", and 2_141_000, respectively. Print the dictionary."
      ],
      "metadata": {
        "id": "K-Q0WbvEx3rF"
      }
    },
    {
      "cell_type": "code",
      "source": [
        "city_info = {\"name\": \"Paris\", \"country\": \"France\", \"population\": 2_141_000}\n",
        "print(city_info)"
      ],
      "metadata": {
        "colab": {
          "base_uri": "https://localhost:8080/"
        },
        "id": "e8gik27dx5dV",
        "outputId": "b57f2d82-f4aa-469a-9747-700dcf341875"
      },
      "execution_count": null,
      "outputs": [
        {
          "output_type": "stream",
          "name": "stdout",
          "text": [
            "{'name': 'Paris', 'country': 'France', 'population': 2141000}\n"
          ]
        }
      ]
    },
    {
      "cell_type": "markdown",
      "source": [
        "**Accessing dictionary values:**"
      ],
      "metadata": {
        "id": "mX7hX3XTGWVL"
      }
    },
    {
      "cell_type": "code",
      "source": [
        "# Accessing a value in a dictionary\n",
        "my_dict = {\"name\": \"John\", \"age\": 30, \"city\": \"New York\"}\n",
        "print(my_dict[\"name\"]) # Output: \"John\""
      ],
      "metadata": {
        "colab": {
          "base_uri": "https://localhost:8080/"
        },
        "id": "HPwiIpLpGX_8",
        "outputId": "671b7461-360a-426a-a51c-3191057d8214"
      },
      "execution_count": null,
      "outputs": [
        {
          "output_type": "stream",
          "name": "stdout",
          "text": [
            "John\n"
          ]
        }
      ]
    },
    {
      "cell_type": "markdown",
      "source": [
        "### <mark>**Demo question**</mark>\n",
        "Create a dictionary called \"car\" with the following key-value pairs: \"make\" is \"Honda\", \"model\" is \"Civic\", \"year\" is 2020, and \"color\" is \"red\". Access the value of the \"model\" key and print it."
      ],
      "metadata": {
        "id": "0h-MM9nE0Rg6"
      }
    },
    {
      "cell_type": "code",
      "source": [
        "car = {\"make\": \"Honda\", \"model\": \"Civic\", \"year\": 2020, \"color\": \"red\"}\n",
        "print(car[\"model\"])"
      ],
      "metadata": {
        "colab": {
          "base_uri": "https://localhost:8080/"
        },
        "id": "lYoqMLOK0lVu",
        "outputId": "a3ab42a0-18eb-49f5-ca26-a80918ca4ce4"
      },
      "execution_count": null,
      "outputs": [
        {
          "output_type": "stream",
          "name": "stdout",
          "text": [
            "Civic\n"
          ]
        }
      ]
    },
    {
      "cell_type": "markdown",
      "source": [
        "---\n",
        "### <mark>**Practice Time for learners**</mark>"
      ],
      "metadata": {
        "id": "BCasAAQG4b2l"
      }
    },
    {
      "cell_type": "markdown",
      "source": [
        "#### **Question 1 (2 minute):**\n",
        "Create a dictionary called \"movie\" with the following key-value pairs: \"title\" is \"The Godfather\", \"director\" is \"Francis Ford Coppola\", \"year\" is 1972, and \"rating\" is 9.2. Access the value of the \"director\" key and print it."
      ],
      "metadata": {
        "id": "NaUGNDbl0bKH"
      }
    },
    {
      "cell_type": "code",
      "source": [
        "movie = {\"title\": \"The Godfather\", \"director\": \"Francis Ford Coppola\", \"year\": 1972, \"rating\": 9.2}\n",
        "print(movie[\"director\"])"
      ],
      "metadata": {
        "colab": {
          "base_uri": "https://localhost:8080/"
        },
        "id": "jJOn4Ovz0ph6",
        "outputId": "01d5e7c0-de66-4183-e1a5-8518b6813412"
      },
      "execution_count": null,
      "outputs": [
        {
          "output_type": "stream",
          "name": "stdout",
          "text": [
            "Francis Ford Coppola\n"
          ]
        }
      ]
    },
    {
      "cell_type": "markdown",
      "source": [
        "#### **Question 2 (2 minute):**\n",
        "Create a dictionary called \"country\" with the following key-value pairs: \"name\" is \"Canada\", \"capital\" is \"Ottawa\", \"population\" is 38000000, and \"language\" is \"English and French\". Access the value of the \"population\" key and print it."
      ],
      "metadata": {
        "id": "kNCR2TcP0hlD"
      }
    },
    {
      "cell_type": "code",
      "source": [
        "country = {\"name\": \"Canada\", \"capital\": \"Ottawa\", \"population\": 38000000, \"language\": \"English and French\"}\n",
        "print(country[\"population\"])"
      ],
      "metadata": {
        "colab": {
          "base_uri": "https://localhost:8080/"
        },
        "id": "yn2SO_8R0wsC",
        "outputId": "ff11b747-1873-4807-81e7-afd67097082f"
      },
      "execution_count": null,
      "outputs": [
        {
          "output_type": "stream",
          "name": "stdout",
          "text": [
            "38000000\n"
          ]
        }
      ]
    },
    {
      "cell_type": "markdown",
      "source": [
        "**Modifying dictionary values:**"
      ],
      "metadata": {
        "id": "xC2rEW5lGbL3"
      }
    },
    {
      "cell_type": "code",
      "source": [
        "# Modifying a value in a dictionary\n",
        "my_dict = {\"name\": \"John\", \"age\": 30, \"city\": \"New York\"}\n",
        "my_dict[\"age\"] = 40\n",
        "print(my_dict) # Output: {\"name\": \"John\", \"age\": 40, \"city\": \"New York\"}"
      ],
      "metadata": {
        "colab": {
          "base_uri": "https://localhost:8080/"
        },
        "id": "irUMVrztGe-D",
        "outputId": "67079fe9-1469-4fc1-83a2-08836e477aad"
      },
      "execution_count": null,
      "outputs": [
        {
          "output_type": "stream",
          "name": "stdout",
          "text": [
            "{'name': 'John', 'age': 40, 'city': 'New York'}\n"
          ]
        }
      ]
    },
    {
      "cell_type": "markdown",
      "source": [
        "### <mark>**Demo question**</mark>"
      ],
      "metadata": {
        "id": "O2CC6i5B40V-"
      }
    },
    {
      "cell_type": "markdown",
      "source": [
        "Create a dictionary called \"fruit_basket\" with keys \"apples\", \"bananas\", and \"oranges\" and values 3, 4, and 2 respectively. Modify the value of \"apples\" by adding 2 and the value of \"oranges\" by subtracting 1. print the updated values of the dictionary."
      ],
      "metadata": {
        "id": "5_M17lsL3sfp"
      }
    },
    {
      "cell_type": "code",
      "source": [
        "fruit_basket = {\"apples\": 3, \"bananas\": 4, \"oranges\": 2}\n",
        "\n",
        "fruit_basket[\"apples\"] += 2\n",
        "fruit_basket[\"oranges\"] -= 1\n",
        "\n",
        "print(fruit_basket)"
      ],
      "metadata": {
        "colab": {
          "base_uri": "https://localhost:8080/"
        },
        "id": "I4Yfi6Mr3wrI",
        "outputId": "606e5a09-5efa-4c0b-a015-0d1677e6bf17"
      },
      "execution_count": null,
      "outputs": [
        {
          "output_type": "stream",
          "name": "stdout",
          "text": [
            "{'apples': 5, 'bananas': 4, 'oranges': 1}\n"
          ]
        }
      ]
    },
    {
      "cell_type": "markdown",
      "source": [
        "---\n",
        "### <mark>**Practice Time for learners**</mark>"
      ],
      "metadata": {
        "id": "U87ZqHWz4vNp"
      }
    },
    {
      "cell_type": "markdown",
      "source": [
        "#### **Question 1 (2 minute):**\n",
        "Create a dictionary called \"groceries\" with keys \"bread\", \"milk\", and \"eggs\" and values 2.99, 3.49, and 2.29 respectively. Modify the value of \"milk\" by multiplying it by 0.9. print the updated values of the dictionary."
      ],
      "metadata": {
        "id": "CZ8MhZyt30L9"
      }
    },
    {
      "cell_type": "code",
      "source": [
        "groceries = {\"bread\": 2.99, \"milk\": 3.49, \"eggs\": 2.29}\n",
        "\n",
        "groceries[\"milk\"] *= 0.9\n",
        "\n",
        "print(groceries)"
      ],
      "metadata": {
        "colab": {
          "base_uri": "https://localhost:8080/"
        },
        "id": "1OFrkWQw33q9",
        "outputId": "d6d9baff-6557-4b5e-a94b-708d27236fd4"
      },
      "execution_count": null,
      "outputs": [
        {
          "output_type": "stream",
          "name": "stdout",
          "text": [
            "{'bread': 2.99, 'milk': 3.1410000000000005, 'eggs': 2.29}\n"
          ]
        }
      ]
    },
    {
      "cell_type": "markdown",
      "source": [
        "#### **Question 2 (2 minute):**\n",
        "Create a dictionary called \"student_info\" with keys \"name\", \"age\", and \"major\" and values \"John\", 20, and \"Computer Science\" respectively. Modify the value of \"age\" by adding 2 and the value of \"major\" by appending \" Engineering\". print the updated values of the dictionary."
      ],
      "metadata": {
        "id": "b-IcecPT4BQc"
      }
    },
    {
      "cell_type": "code",
      "source": [
        "student_info = {\"name\": \"John\", \"age\": 20, \"major\": \"Computer Science\"}\n",
        "\n",
        "student_info[\"age\"] += 2\n",
        "student_info[\"major\"] += \" Engineering\"\n",
        "\n",
        "print(student_info)"
      ],
      "metadata": {
        "colab": {
          "base_uri": "https://localhost:8080/"
        },
        "id": "tgwD1Edf4E_r",
        "outputId": "19fc0c2c-1387-4053-d50e-17ca334b512a"
      },
      "execution_count": null,
      "outputs": [
        {
          "output_type": "stream",
          "name": "stdout",
          "text": [
            "{'name': 'John', 'age': 22, 'major': 'Computer Science Engineering'}\n"
          ]
        }
      ]
    },
    {
      "cell_type": "markdown",
      "source": [
        "#### Let's create a dictionary to hold the titles of the books in the library:\n",
        "* Creates a dictionary named library to store information about books. The dictionary should contain the following items (books) as keys, each with a tuple containing information about the book as the corresponding value:\n",
        " * \"The Great Gatsby\" (title), with a tuple containing \"F. Scott Fitzgerald\" (author), 1925 (year of publication), and \"Scribner\" (publisher)\n",
        " * \"To Kill a Mockingbird\" (title), with a tuple containing \"Harper Lee\" (author), 1960 (year of publication), and \"J. B. Lippincott & Co.\" (publisher)\n",
        " * \"Brave New World\" (title), with a tuple containing \"Aldous Huxley\" (author), 1932 (year of publication), and \"Chatto & Windus\" (publisher)\n",
        " * \"Pride and Prejudice\" (title), with a tuple containing \"Jane Austen\" (author), 1813 (year of publication), and \"T. Egerton, Whitehall\" (publisher)\n",
        " * \"Animal Farm\" (title), with a tuple containing \"George Orwell\" (author), 1945 (year of publication), and \"Secker & Warburg\" (publisher)\n",
        "* Accesses the value of the \"The Great Gatsby\" key and prints it to the console.\n",
        "Modifies the value of the \"Brave New World\" key to have the year of publication be 1931 instead of 1932.\n",
        "* Accesses the modified value of the \"Brave New World\" key and prints it to the console.\n"
      ],
      "metadata": {
        "id": "OhV3BpSMUxK_"
      }
    },
    {
      "cell_type": "markdown",
      "source": [
        "Now create a dictionary to store information about all of the books in the library:"
      ],
      "metadata": {
        "id": "oKtmygxLU1C-"
      }
    },
    {
      "cell_type": "code",
      "source": [
        "# Creating a dictionary to store information about books\n",
        "library = {'The Great Gatsby': ('F. Scott Fitzgerald', 1925, 'Scribner'),\n",
        "           'To Kill a Mockingbird': ('Harper Lee', 1960, 'J. B. Lippincott & Co.'),\n",
        "           'Brave New World': ('Aldous Huxley', 1932, 'Chatto & Windus'),\n",
        "           'Pride and Prejudice': ('Jane Austen', 1813, 'T. Egerton, Whitehall'),\n",
        "           'Animal Farm': ('George Orwell', 1945, 'Secker & Warburg')}\n",
        "\n",
        "# Accessing dictionary values\n",
        "print(library['The Great Gatsby'])   # Output: ('F. Scott Fitzgerald', 1925, 'Scribner')\n",
        "\n",
        "# Modifying dictionary values\n",
        "library['Brave New World'] = ('Aldous Huxley', 1931, 'Chatto & Windus')\n",
        "print(library['Brave New World'])    # Output: ('Aldous Huxley', 1931, 'Chatto & Windus')"
      ],
      "metadata": {
        "id": "JHmv35dyU29o"
      },
      "execution_count": null,
      "outputs": []
    },
    {
      "cell_type": "markdown",
      "source": [
        "* Above we used a list to store the titles of the books in the library, a tuple to hold information about a specific book, and a dictionary to store information about all of the books in the library. \n",
        "* These built-in data types allowed us to store and access the data we needed to build our web application.\n",
        "\n",
        "\n",
        "---\n"
      ],
      "metadata": {
        "id": "bLMwaoaQU_L3"
      }
    },
    {
      "cell_type": "markdown",
      "source": [
        "#### Here are 6 questions from lists, tuples, sets, dictionaries, and binary types. \n",
        "* **Note:** The first two demo questions will be demonstrated by the lab mentor, after which there will be practice time for learners. \n",
        "* Each question must be solved within 2 minute."
      ],
      "metadata": {
        "id": "FEWA_4xSoXKQ"
      }
    },
    {
      "cell_type": "markdown",
      "source": [
        "### <mark>**Demo question 1**</mark> \n",
        "Create a list named fruits containing the values \"apple\", \"banana\", \"cherry\", and \"date\". Use list slicing to print the sublist [\"banana\", \"cherry\"] to the console."
      ],
      "metadata": {
        "id": "UIiHt8-GpRJm"
      }
    },
    {
      "cell_type": "code",
      "source": [
        "fruits = [\"apple\", \"banana\", \"cherry\", \"date\"]\n",
        "sublist = fruits[1:3]\n",
        "print(sublist)"
      ],
      "metadata": {
        "colab": {
          "base_uri": "https://localhost:8080/"
        },
        "id": "LRhenzz4pV1T",
        "outputId": "d4e13db1-a480-4d7f-8d76-0df0b85a735a"
      },
      "execution_count": null,
      "outputs": [
        {
          "output_type": "stream",
          "name": "stdout",
          "text": [
            "['banana', 'cherry']\n"
          ]
        }
      ]
    },
    {
      "cell_type": "markdown",
      "source": [
        "### <mark>**Demo question 2**</mark>\n",
        "Create a dictionary called \"car\" containing the keys \"make\", \"model\", and \"year\" with corresponding values \"Honda\", \"Civic\", and 2018. Use a conditional statement to predict the car's age in 17 years. If the current year is 2023, the age in 17 years should be 22. Finally, print a message that displays the predicted age."
      ],
      "metadata": {
        "id": "aPUIodm8pQ-v"
      }
    },
    {
      "cell_type": "code",
      "source": [
        "car = {\"make\": \"Honda\", \"model\": \"Civic\", \"year\": 2018}\n",
        "\n",
        "current_year = 2023\n",
        "age_in_17_years = current_year - car[\"year\"] + 17\n",
        "\n",
        "print(f\"The car will be {age_in_17_years} years old in 17 years.\")"
      ],
      "metadata": {
        "colab": {
          "base_uri": "https://localhost:8080/"
        },
        "id": "7re0OKjZpc3u",
        "outputId": "b195427b-af5f-4f14-cade-082bdf3dcab4"
      },
      "execution_count": null,
      "outputs": [
        {
          "output_type": "stream",
          "name": "stdout",
          "text": [
            "The car will be 22 years old in 17 years.\n"
          ]
        }
      ]
    },
    {
      "cell_type": "markdown",
      "source": [
        "---\n",
        "### <mark>**Practice Time for learners**</mark>"
      ],
      "metadata": {
        "id": "q25mp2b2Bcp4"
      }
    },
    {
      "cell_type": "markdown",
      "source": [
        "#### **Question 1 (2 minute):**\n",
        "Create a set called \"even_numbers\" containing the even integers from 1 to 10. Create another set called \"prime_numbers\" containing the prime integers from 1 to 10. Using set operations, create a new set that contains the even prime numbers from these two sets. Finally, print a message that displays the new set."
      ],
      "metadata": {
        "id": "LIor4Z5_pQw8"
      }
    },
    {
      "cell_type": "code",
      "source": [
        "even_numbers = {2, 4, 6, 8, 10}\n",
        "prime_numbers = {2, 3, 5, 7}\n",
        "\n",
        "even_primes = even_numbers.intersection(prime_numbers)\n",
        "\n",
        "print(f\"The set of even prime numbers is {even_primes}\")"
      ],
      "metadata": {
        "colab": {
          "base_uri": "https://localhost:8080/"
        },
        "id": "-NdSjlpEpjvV",
        "outputId": "6ee38ad8-2bf8-46b6-a105-c932669f9b43"
      },
      "execution_count": null,
      "outputs": [
        {
          "output_type": "stream",
          "name": "stdout",
          "text": [
            "The set of even prime numbers is {2}\n"
          ]
        }
      ]
    },
    {
      "cell_type": "markdown",
      "source": [
        "#### **Question 2 (2 minute):**\n",
        "Create a list called \"animals\" containing the strings \"cat\", \"dog\", \"fish\", \"hamster\", and \"bird\". Using list slicing, create a new list that contains the first three animals and a new list that contains the last two animals. Finally, print a message that displays all the lists."
      ],
      "metadata": {
        "id": "2s1dH7N4pQlD"
      }
    },
    {
      "cell_type": "code",
      "source": [
        "animals = [\"cat\", \"dog\", \"fish\", \"hamster\", \"bird\"]\n",
        "\n",
        "first_three = animals[:3]\n",
        "last_two = animals[3:]\n",
        "\n",
        "print(f\"The list of the first three animals is {first_three}\")\n",
        "print(f\"The list of the last two animals is {last_two}\")"
      ],
      "metadata": {
        "colab": {
          "base_uri": "https://localhost:8080/"
        },
        "id": "Jxjl8x-Lp8IT",
        "outputId": "5a7b308e-e99e-4911-dad5-b59d3dc360a1"
      },
      "execution_count": null,
      "outputs": [
        {
          "output_type": "stream",
          "name": "stdout",
          "text": [
            "The list of the first three animals is ['cat', 'dog', 'fish']\n",
            "The list of the last two animals is ['hamster', 'bird']\n"
          ]
        }
      ]
    },
    {
      "cell_type": "markdown",
      "source": [
        "#### **Question 3 (2 minute):**\n",
        "Create a bytes object named my_bytes containing the values 0, 1, and 2. Use slicing to print the slice of the object from index 1 to 2."
      ],
      "metadata": {
        "id": "EyYlPHyLqBBA"
      }
    },
    {
      "cell_type": "code",
      "source": [
        "my_bytes = bytes([0, 1, 2])\n",
        "my_slice = my_bytes[1:3]\n",
        "print(my_slice)"
      ],
      "metadata": {
        "colab": {
          "base_uri": "https://localhost:8080/"
        },
        "id": "d9Uffw3xqIni",
        "outputId": "23c50eeb-3506-4b7d-85d1-d8be2ceba841"
      },
      "execution_count": null,
      "outputs": [
        {
          "output_type": "stream",
          "name": "stdout",
          "text": [
            "b'\\x01\\x02'\n"
          ]
        }
      ]
    },
    {
      "cell_type": "markdown",
      "source": [
        "#### **Question 4 (2 minute):**\n",
        "You have a list of fruits and their prices as tuples:\n",
        "\n",
        "**fruits = [('apple', 1.5), ('banana', 2.5), ('cherry', 3.0)]**\n",
        "\n",
        "Create a dictionary named fruit_prices using the list of tuples where the fruit names are the keys and the prices are the values. Use dictionary slicing to print only the prices of apples and cherries to the console.\n",
        "\n"
      ],
      "metadata": {
        "id": "KLwsrwUHqAjF"
      }
    },
    {
      "cell_type": "code",
      "source": [
        "fruits = [('apple', 1.5), ('banana', 2.5), ('cherry', 3.0)]\n",
        "fruit_prices = dict(fruits)\n",
        "apple_cherry_prices = fruit_prices['apple'], fruit_prices['cherry']\n",
        "print(apple_cherry_prices)"
      ],
      "metadata": {
        "id": "OnsqguSvruIu"
      },
      "execution_count": null,
      "outputs": []
    },
    {
      "cell_type": "markdown",
      "source": [
        "---\n",
        "---\n",
        "\n",
        "## Coding Challenge to recall all the topics covered in the lab session."
      ],
      "metadata": {
        "id": "zVZbi-2NM8N6"
      }
    },
    {
      "cell_type": "markdown",
      "source": [
        "### Python for Data Science Challenge\n",
        "**Objective:**\n",
        "\n",
        "The objective is to complete a series of coding challenges that cover the topics of Python programming, variables, data types, operators, and basic data types. Each challenge will test the learner's knowledge of these topics and their ability to apply that knowledge to solve real-world problems.\n"
      ],
      "metadata": {
        "id": "Tnjxp85IecOK"
      }
    },
    {
      "cell_type": "markdown",
      "source": [
        "#### Level 1: Variable Challenge"
      ],
      "metadata": {
        "id": "8Fj9DPVKfdke"
      }
    },
    {
      "cell_type": "markdown",
      "source": [
        "**Problem:** Create a variable named age and assign it the value 25. Print the value of the age variable to the console.\n",
        "Expected Output: 25"
      ],
      "metadata": {
        "id": "acIO5n16fdg_"
      }
    },
    {
      "cell_type": "code",
      "source": [
        "# Solution:\n",
        "age = 25\n",
        "print(age)"
      ],
      "metadata": {
        "id": "4YVoZpWxNTCT",
        "colab": {
          "base_uri": "https://localhost:8080/"
        },
        "outputId": "4466d706-6635-459e-ce67-4b614332102b"
      },
      "execution_count": null,
      "outputs": [
        {
          "output_type": "stream",
          "name": "stdout",
          "text": [
            "25\n"
          ]
        }
      ]
    },
    {
      "cell_type": "markdown",
      "source": [
        "#### Level 1: String Challenge"
      ],
      "metadata": {
        "id": "nC1lOsUzfdSv"
      }
    },
    {
      "cell_type": "markdown",
      "source": [
        "**Problem:** Create a variable named name and assign it the value \"John\". Print the value of the name variable to the console.\n",
        "Expected Output: John"
      ],
      "metadata": {
        "id": "WWGD1WE_fdPY"
      }
    },
    {
      "cell_type": "code",
      "source": [
        "# Solution:\n",
        "name = \"John\"\n",
        "print(name)"
      ],
      "metadata": {
        "id": "RtD1qAigNe_x"
      },
      "execution_count": null,
      "outputs": []
    },
    {
      "cell_type": "markdown",
      "source": [
        "#### Level 1: Integer and Float Challenge"
      ],
      "metadata": {
        "id": "dImRp5u9NkHa"
      }
    },
    {
      "cell_type": "markdown",
      "source": [
        "**Problem:** Create a variable named num1 and assign it the value 10. Create another variable named num2 and assign it the value 2.5. Print the value of both variables to the console.\n",
        "Expected Output:\n",
        "\n",
        "10\n",
        "\n",
        "2.5"
      ],
      "metadata": {
        "id": "J7QgohxzNpwB"
      }
    },
    {
      "cell_type": "code",
      "source": [
        "# Solution:\n",
        "num1 = 10\n",
        "num2 = 2.5\n",
        "print(num1)\n",
        "print(num2)"
      ],
      "metadata": {
        "id": "mT2bCSFkNoFX"
      },
      "execution_count": null,
      "outputs": []
    },
    {
      "cell_type": "markdown",
      "source": [
        "#### Level 1: Arithmetic Operators Challenge"
      ],
      "metadata": {
        "id": "6xeua25HN2vC"
      }
    },
    {
      "cell_type": "markdown",
      "source": [
        "**Problem:** Create two variables named num1 and num2, and assign them values 5 and 2, respectively. Add them together and print the result to the console. Then, subtract num2 from num1 and print the result to the console.\n",
        "Expected Output:\n",
        "\n",
        "7\n",
        "\n",
        "3"
      ],
      "metadata": {
        "id": "u7EnW_9_N1OG"
      }
    },
    {
      "cell_type": "code",
      "source": [
        "# Solution:\n",
        "num1 = 5\n",
        "num2 = 2\n",
        "print(num1 + num2)\n",
        "print(num1 - num2)"
      ],
      "metadata": {
        "id": "eWF0_tBPOAod"
      },
      "execution_count": null,
      "outputs": []
    },
    {
      "cell_type": "markdown",
      "source": [
        "#### Level 2: Conditional Operators Challenge"
      ],
      "metadata": {
        "id": "U5y9MlWZOJ9x"
      }
    },
    {
      "cell_type": "markdown",
      "source": [
        "**Problem:** Create two variables named num1 and num2, and assign them values 5 and 2, respectively. Write a conditional statement that checks whether num1 is greater than num2. If it is, print \"num1 is greater than num2\" to the console. If not, print \"num1 is not greater than num2\" to the console.\n",
        "Expected Output:\n",
        "num1 is greater than num2"
      ],
      "metadata": {
        "id": "SP5NSR_zOJ4A"
      }
    },
    {
      "cell_type": "code",
      "source": [
        "# Solution:\n",
        "num1 = 5\n",
        "num2 = 2\n",
        "if num1 > num2:\n",
        "print(\"num1 is greater than num2\")\n",
        "else:\n",
        "print(\"num1 is not greater than num2\")"
      ],
      "metadata": {
        "id": "3e3bkkCSOO8w"
      },
      "execution_count": null,
      "outputs": []
    },
    {
      "cell_type": "markdown",
      "source": [
        "#### Level 2: String Formatting Challenge"
      ],
      "metadata": {
        "id": "Ap_4W1RHOXz7"
      }
    },
    {
      "cell_type": "markdown",
      "source": [
        "**Problem:** Create a variable named name and assign it the value \"John\". Create another variable named age and assign it the value 25. Use string formatting to print the following sentence to the console: \"My name is John and I am 25 years old.\"\n",
        "Expected Output:\n",
        "My name is John and I am 25 years old."
      ],
      "metadata": {
        "id": "8UhgYx2wOaQK"
      }
    },
    {
      "cell_type": "code",
      "source": [
        "# Solution:\n",
        "name = \"John\"\n",
        "age = 25\n",
        "print(\"My name is {} and I am {} years old.\".format(name, age))"
      ],
      "metadata": {
        "id": "y6kiahecOZqm"
      },
      "execution_count": null,
      "outputs": []
    },
    {
      "cell_type": "markdown",
      "source": [
        "#### Level 2: List Challenge"
      ],
      "metadata": {
        "id": "YdvhsaMVOhxl"
      }
    },
    {
      "cell_type": "markdown",
      "source": [
        "**Problem:** Create a list named numbers containing the numbers 1, 2, 3, 4, and 5. Use indexing to print the second number in the list to the console.\n",
        "Expected Output:"
      ],
      "metadata": {
        "id": "ahTQJ3GCOhq6"
      }
    },
    {
      "cell_type": "code",
      "source": [
        "# Solution:\n",
        "numbers = [1, 2, 3, 4, 5]\n",
        "print(numbers[1])"
      ],
      "metadata": {
        "id": "ESyx3KWuOngl"
      },
      "execution_count": null,
      "outputs": []
    },
    {
      "cell_type": "markdown",
      "source": [
        "#### Level 2: List Operations Challenge"
      ],
      "metadata": {
        "id": "NW_GnpubOrDe"
      }
    },
    {
      "cell_type": "markdown",
      "source": [
        "**Problem:** Create a list named numbers containing the numbers 1, 2, and 3. Append the number 4 to the list and print the list to the console.\n",
        "Expected Output:\n",
        "[1, 2, 3, 4]"
      ],
      "metadata": {
        "id": "U-uywcv_Oql8"
      }
    },
    {
      "cell_type": "code",
      "source": [
        "# Solution:\n",
        "numbers = [1, 2, 3]\n",
        "numbers.append(4)\n",
        "print(numbers)"
      ],
      "metadata": {
        "id": "QAbtcWLMO7qd"
      },
      "execution_count": null,
      "outputs": []
    },
    {
      "cell_type": "markdown",
      "source": [],
      "metadata": {
        "id": "TdJKy614Oqfx"
      }
    },
    {
      "cell_type": "markdown",
      "source": [
        "#### Level 3: Variables and Operators Challenge"
      ],
      "metadata": {
        "id": "dGKEgA6TPce-"
      }
    },
    {
      "cell_type": "markdown",
      "source": [
        "**Problem:** Create two variables named \"num1\" and \"num2\" and assign them the values 7 and 3, respectively. Create a third variable named \"result\" and assign it the value of the sum of num1 and num2. Finally, print the value of the result variable to the console.\n",
        "Expected Output:\n",
        "10"
      ],
      "metadata": {
        "id": "CwM65dH2PcXc"
      }
    },
    {
      "cell_type": "code",
      "source": [
        "# Solution:\n",
        "num1 = 7\n",
        "num2 = 3\n",
        "result = num1 + num2\n",
        "print(result)"
      ],
      "metadata": {
        "id": "IuPEXXDHPkWl"
      },
      "execution_count": null,
      "outputs": []
    },
    {
      "cell_type": "markdown",
      "source": [
        "#### Level 3: String Challenge"
      ],
      "metadata": {
        "id": "_llcpeLUP8bn"
      }
    },
    {
      "cell_type": "markdown",
      "source": [
        "**Problem:** Create a string variable named greeting and assign it the value \"Hello, world!\". Use string slicing to print the substring \"world\" to the console.\n",
        "Expected Output:\n",
        "\n",
        "world"
      ],
      "metadata": {
        "id": "0A5qN90fP8U1"
      }
    },
    {
      "cell_type": "code",
      "source": [
        "# Solution:\n",
        "greeting = \"Hello, world!\"\n",
        "substring = greeting[7:12]\n",
        "print(substring)"
      ],
      "metadata": {
        "id": "W6wtRFfqQE9G"
      },
      "execution_count": null,
      "outputs": []
    },
    {
      "cell_type": "markdown",
      "source": [
        "#### Level 3: List Challenge"
      ],
      "metadata": {
        "id": "wzFO65pgQHH6"
      }
    },
    {
      "cell_type": "markdown",
      "source": [
        "**Problem:** Create a list named numbers containing the values 1, 3, 5, 7, and 9. Use list slicing to print the sublist [3, 5, 7] to the console.\n",
        "Expected Output:\n",
        "[3, 5, 7]"
      ],
      "metadata": {
        "id": "01SRiXZTQHBu"
      }
    },
    {
      "cell_type": "code",
      "source": [
        "#Solution:\n",
        "numbers = [1, 3, 5, 7, 9]\n",
        "sublist = numbers[1:4]\n",
        "print(sublist)"
      ],
      "metadata": {
        "colab": {
          "base_uri": "https://localhost:8080/"
        },
        "id": "CYFdFmeIQRc5",
        "outputId": "0c0d981e-7ebf-4b47-9318-068a0d36f7bc"
      },
      "execution_count": null,
      "outputs": [
        {
          "output_type": "stream",
          "name": "stdout",
          "text": [
            "[3, 5, 7]\n"
          ]
        }
      ]
    },
    {
      "cell_type": "markdown",
      "source": [
        "#### Level 3: Arithmetic Operators Challenge"
      ],
      "metadata": {
        "id": "lbo0nnLpQG7i"
      }
    },
    {
      "cell_type": "markdown",
      "source": [
        "**Problem:** Create three variables named num1, num2, and num3 and assign them the values 10, 5, and 2, respectively. Use arithmetic operators to calculate the result of num1 divided by the product of num2 and num3, and assign it to a variable named result. Print the value of result to the console.\n",
        "Expected Output:\n",
        "1.0"
      ],
      "metadata": {
        "id": "d2430Iw4P8F1"
      }
    },
    {
      "cell_type": "code",
      "source": [
        "# Solution:\n",
        "num1 = 10\n",
        "num2 = 5\n",
        "num3 = 2\n",
        "result = num1 / (num2 * num3)\n",
        "print(result)"
      ],
      "metadata": {
        "colab": {
          "base_uri": "https://localhost:8080/"
        },
        "id": "fDN5XY6eQe5i",
        "outputId": "57b4c979-6ecd-4734-e298-ad7688a95e98"
      },
      "execution_count": null,
      "outputs": [
        {
          "output_type": "stream",
          "name": "stdout",
          "text": [
            "1.0\n"
          ]
        }
      ]
    },
    {
      "cell_type": "markdown",
      "source": [
        "#### Problem: Given a list of integers, write a Python program to perform the following operations:\n",
        "* Access the first and last elements of the list\n",
        "* Modify the second element of the list\n",
        "* Create a new list that contains the first five elements of the original list\n",
        "* Reverse the original list\n"
      ],
      "metadata": {
        "id": "Est2q2Dmv0s5"
      }
    },
    {
      "cell_type": "code",
      "source": [
        "# Define a list of integers\n",
        "lst = [1, 2, 3, 4, 5, 6, 7, 8, 9, 10]\n",
        "\n",
        "# Access the first and last elements of the list\n",
        "first_elem = lst[0]\n",
        "last_elem = lst[-1]\n",
        "\n",
        "# Modify the second element of the list\n",
        "lst[1] = 20\n",
        "\n",
        "# Create a new list that contains the first five elements of the original list\n",
        "new_lst = lst[:5]\n",
        "\n",
        "# Reverse the original list\n",
        "lst.reverse()\n",
        "\n",
        "# Print the results\n",
        "print(\"First element:\", first_elem)\n",
        "print(\"Last element:\", last_elem)\n",
        "print(\"Modified list:\", lst)\n",
        "print(\"New list:\", new_lst)"
      ],
      "metadata": {
        "colab": {
          "base_uri": "https://localhost:8080/"
        },
        "id": "Dk4xxaf-wGgr",
        "outputId": "02f97bc2-5af7-44a0-8d16-1cd0e0712f20"
      },
      "execution_count": null,
      "outputs": [
        {
          "output_type": "stream",
          "name": "stdout",
          "text": [
            "First element: 1\n",
            "Last element: 10\n",
            "Modified list: [10, 9, 8, 7, 6, 5, 4, 3, 20, 1]\n",
            "New list: [1, 20, 3, 4, 5]\n"
          ]
        }
      ]
    },
    {
      "cell_type": "markdown",
      "source": [
        "### Happy learning 🙂"
      ],
      "metadata": {
        "id": "xFmI1hGRQmmm"
      }
    }
  ]
}