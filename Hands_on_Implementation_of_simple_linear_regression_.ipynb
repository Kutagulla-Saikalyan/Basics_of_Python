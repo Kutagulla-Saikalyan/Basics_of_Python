{
  "nbformat": 4,
  "nbformat_minor": 0,
  "metadata": {
    "colab": {
      "provenance": [],
      "collapsed_sections": [
        "tNvrDZlCjAsJ",
        "0d9W7La8jYLt",
        "-oC7ghCIjli_",
        "34k9VLpSjwbM",
        "0QhYFHBFj4WP",
        "O9ATiit0xwz4",
        "51Nz2dsdx-KQ",
        "dPv4vosFx-Dp",
        "JVSTW0rDyONV",
        "4sl_2cHKyQsY",
        "nAylj_9ZiNrf",
        "XGYlZQ3JkKNG",
        "tUKPYelbkVYA",
        "0-lwrRFykeS6",
        "NDFvOSvOlXDl",
        "uBEgXzVTliKE",
        "qP6lEYZOl_1L"
      ]
    },
    "kernelspec": {
      "name": "python3",
      "display_name": "Python 3"
    },
    "language_info": {
      "name": "python"
    }
  },
  "cells": [
    {
      "cell_type": "markdown",
      "source": [
        "### Simple Linear Regression:"
      ],
      "metadata": {
        "id": "v2O7thrkiDbf"
      }
    },
    {
      "cell_type": "markdown",
      "source": [
        "### What is Simple Linear Regression?"
      ],
      "metadata": {
        "id": "tNvrDZlCjAsJ"
      }
    },
    {
      "cell_type": "markdown",
      "source": [
        "Answer: Simple Linear Regression is a statistical method used to find the relationship between a dependent variable and one independent variable. The goal of simple linear regression is to find the best fit line that describes the relationship between the two variables."
      ],
      "metadata": {
        "id": "QcAOnXiai3z5"
      }
    },
    {
      "cell_type": "markdown",
      "source": [
        "### What is the formula for the Simple Linear Regression line?"
      ],
      "metadata": {
        "id": "0d9W7La8jYLt"
      }
    },
    {
      "cell_type": "markdown",
      "source": [
        "Answer: The formula for the Simple Linear Regression line is: y = mx + b, where y is the dependent variable, x is the independent variable, m is the slope of the line, and b is the y-intercept."
      ],
      "metadata": {
        "id": "PQ__9WtpjcL_"
      }
    },
    {
      "cell_type": "markdown",
      "source": [
        "### How is the best fit line determined in Simple Linear Regression?"
      ],
      "metadata": {
        "id": "-oC7ghCIjli_"
      }
    },
    {
      "cell_type": "markdown",
      "source": [
        "Answer: The best fit line in Simple Linear Regression is determined by minimizing the sum of the squared differences between the actual values and the predicted values. This is known as the \"Least Squares Method.\""
      ],
      "metadata": {
        "id": "csSGdqGFjpJq"
      }
    },
    {
      "cell_type": "markdown",
      "source": [
        "### How do you interpret the slope of the Simple Linear Regression line?"
      ],
      "metadata": {
        "id": "34k9VLpSjwbM"
      }
    },
    {
      "cell_type": "markdown",
      "source": [
        "Answer: The slope of the Simple Linear Regression line represents the change in the dependent variable for each unit increase in the independent variable. For example, if the slope is 2, it means that for every 1 unit increase in the independent variable, the dependent variable increases by 2."
      ],
      "metadata": {
        "id": "uJrhG1aPjzqg"
      }
    },
    {
      "cell_type": "markdown",
      "source": [
        "### How do you interpret the y-intercept of the Simple Linear Regression line?"
      ],
      "metadata": {
        "id": "0QhYFHBFj4WP"
      }
    },
    {
      "cell_type": "markdown",
      "source": [
        "Answer: The y-intercept of the Simple Linear Regression line represents the predicted value of the dependent variable when the independent variable is equal to 0. In most cases, this interpretation is not meaningful because the independent variable cannot be 0 in real-world scenarios."
      ],
      "metadata": {
        "id": "0Ik9fxFhj7O6"
      }
    },
    {
      "cell_type": "markdown",
      "source": [
        "### What is R^2 Score?"
      ],
      "metadata": {
        "id": "O9ATiit0xwz4"
      }
    },
    {
      "cell_type": "markdown",
      "source": [
        "R-squared (R^2) score is a statistical measure that represents the proportion of the variance in the dependent variable (y) that is predictable from the independent variables (X) in a regression model. It is also known as the coefficient of determination.\n",
        "\n",
        "In simple terms, R-squared score is used to evaluate the performance of a regression model. It measures how well the model fits the data and how much of the variation in the dependent variable is explained by the independent variables.\n",
        "\n",
        "R^2 score ranges from 0 to 1, with 1 indicating that the model perfectly fits the data and explains all the variation in the dependent variable, and 0 indicating that the model does not fit the data at all and does not explain any variation in the dependent variable. A negative R^2 score indicates that the model performs worse than a baseline model.\n",
        "\n",
        "R^2 score can be calculated using the formula:\n",
        "\n",
        "                                    R^2 = 1 - (SS_res / SS_tot)\n",
        "\n",
        "where SS_res is the sum of squared residuals (the difference between the predicted values and the actual values) and SS_tot is the total sum of squares (the difference between the actual values and the mean of the dependent variable)."
      ],
      "metadata": {
        "id": "z1_si1ZAx8QQ"
      }
    },
    {
      "cell_type": "markdown",
      "source": [
        "### What is mean square error (MSE)?"
      ],
      "metadata": {
        "id": "51Nz2dsdx-KQ"
      }
    },
    {
      "cell_type": "markdown",
      "source": [
        "Mean Squared Error (MSE) is a commonly used metric in regression analysis to evaluate the performance of a predictive model. It measures the average squared difference between the predicted values and the actual values.\n",
        "\n",
        "In other words, the MSE represents the average of the squares of the differences between the predicted and actual values. It is calculated as:\n",
        "\n",
        "                                         MSE = (1/n) * ∑(i=1 to n) (yi - y^i)²\n",
        "\n",
        "where yi is the actual value of the dependent variable, y^i is the predicted value, and n is the number of observations.\n",
        "\n",
        "The MSE is always a positive value, and a smaller value indicates a better fit of the model to the data. However, the MSE value can be influenced by outliers in the data, which can cause the model to over-predict or under-predict in certain regions."
      ],
      "metadata": {
        "id": "b2WmpLxcx-Gw"
      }
    },
    {
      "cell_type": "markdown",
      "source": [
        "### What are variance and bias?"
      ],
      "metadata": {
        "id": "dPv4vosFx-Dp"
      }
    },
    {
      "cell_type": "markdown",
      "source": [
        "**Variance** : It refers to the degree of fluctuation or variability in the predicted values of a model for different sets of input data. A model with high variance may overfit the training data and perform poorly on new, unseen data. In other words, a model with high variance has learned the noise or random variations in the training data and is not able to generalize well to new data.\n",
        "\n",
        "**Bias**: On the other hand, bias refers to the difference between the expected or true values of the target variable and the predicted values of a model. A model with high bias may underfit the training data and perform poorly on both the training data and new, unseen data. In other words, a model with high bias has not learned the underlying patterns or relationships in the training data and is too simple to capture the complexity of the problem.\n",
        "\n",
        "> In general, the goal of a good predictive model is to achieve a balance between variance and bias. This is known as the **bias-variance tradeoff**. A model with low variance and low bias is said to have a good generalization performance and can make accurate predictions on new, unseen data.\n",
        "\n",
        "> To improve the performance of a predictive model, it is important to **reduce both the variance and bias**. This can be achieved by using techniques such as regularization, cross-validation, and ensembling."
      ],
      "metadata": {
        "id": "Rxb7qJwCx970"
      }
    },
    {
      "cell_type": "markdown",
      "source": [
        "### In our day to day life where we can use this regression model?"
      ],
      "metadata": {
        "id": "JVSTW0rDyONV"
      }
    },
    {
      "cell_type": "markdown",
      "source": [
        "- **Sales forecasting**: Regression models can be used to forecast future sales of a product based on past sales data and other factors such as marketing spend, seasonality, and competitor activity. This information can be used by businesses to plan inventory, production, and marketing strategies.\n",
        "\n",
        "- **Medical diagnosis**: Regression models can be used to predict the likelihood of a patient having a certain medical condition based on their symptoms, age, gender, and other relevant factors. This information can be used by doctors to make more accurate diagnoses and provide personalized treatment plans.\n",
        "\n",
        "- **Real estate valuation**: Regression models can be used to estimate the value of a property based on factors such as location, size, age, and features. This information can be used by real estate agents and homebuyers to make informed decisions about buying and selling property.\n",
        "\n",
        "- **Credit scoring**: Regression models can be used to predict the likelihood of a borrower defaulting on a loan based on their credit history, income, and other relevant factors. This information can be used by banks and other lenders to make lending decisions and manage risk.\n",
        "\n",
        "- **Energy consumption forecasting**: Regression models can be used to forecast the amount of energy that will be consumed in a certain area based on factors such as weather patterns, population density, and time of day. This information can be used by energy companies to manage supply and demand and plan for future infrastructure needs."
      ],
      "metadata": {
        "id": "8xIHaSV6yQ2n"
      }
    },
    {
      "cell_type": "markdown",
      "source": [
        "### Drawbacks of regression models?"
      ],
      "metadata": {
        "id": "4sl_2cHKyQsY"
      }
    },
    {
      "cell_type": "markdown",
      "source": [
        "* **Overfitting**: Regression models can be prone to overfitting, which means that they may perform well on the training data but poorly on new, unseen data. This can happen when the model is too complex or when there is not enough data to accurately estimate the model parameters.\n",
        "\n",
        "* **Linearity assumption**: Many regression models assume that the relationship between the dependent and independent variables is linear. However, this may not always be the case in real-world applications, where the relationship may be more complex or nonlinear.\n",
        "\n",
        "* **Outliers**: Regression models can be sensitive to outliers, which are data points that are significantly different from the rest of the data. Outliers can skew the results and cause the model to over-predict or under-predict in certain regions.\n",
        "\n",
        "* **Multicollinearity**: In multiple regression models, there can be a problem of multicollinearity, which is when two or more independent variables are highly correlated with each other. This can make it difficult to estimate the individual effects of each variable on the dependent variable."
      ],
      "metadata": {
        "id": "mX2wyyEjyQo1"
      }
    },
    {
      "cell_type": "markdown",
      "source": [
        "### Problem Statement:\n",
        "\n",
        "You have been given a dataset containing information about the CO2 emissions and weight of various vehicles from different manufacturers. The dataset includes the manufacturer, model, year, CO2 emissions, and weight of each vehicle. You need to perform Simple Linear Regression on the data to determine the relationship between the weight of a vehicle and its CO2 emissions."
      ],
      "metadata": {
        "id": "nAylj_9ZiNrf"
      }
    },
    {
      "cell_type": "code",
      "execution_count": null,
      "metadata": {
        "id": "bzKDncdIhYrS"
      },
      "outputs": [],
      "source": [
        "# import necessary libraries\n",
        "import pandas as pd\n",
        "import numpy as np\n",
        "import matplotlib.pyplot as plt\n",
        "from sklearn.linear_model import LinearRegression\n",
        "from sklearn.metrics import r2_score\n",
        "\n",
        "# load data into pandas dataframe\n",
        "df = pd.DataFrame({\n",
        "    'Manufacturer': ['Toyota', 'Ford', 'Chevrolet', 'Honda', 'Nissan', 'BMW'],\n",
        "    'Model': ['Camry', 'F-150', 'Silverado', 'Civic', 'Altima', 'X5'],\n",
        "    'Year': [2018, 2019, 2020, 2020, 2019, 2021],\n",
        "    'CO2_Emissions': [170, 250, 280, 130, 200, 220],\n",
        "    'Weight': [3200, 4500, 5300, 2800, 3300, 4500]})"
      ]
    },
    {
      "cell_type": "markdown",
      "source": [
        "### Write code to calculate the slope and y-intercept of the Simple Linear Regression line for the given data."
      ],
      "metadata": {
        "id": "XGYlZQ3JkKNG"
      }
    },
    {
      "cell_type": "code",
      "source": [
        "# create a simple linear regression model\n",
        "X = df['Weight'].values.reshape(-1,1)\n",
        "y = df['CO2_Emissions'].values.reshape(-1,1)\n",
        "regressor = LinearRegression()\n",
        "regressor.fit(X, y)\n",
        "\n",
        "# calculate slope and y-intercept\n",
        "slope = regressor.coef_[0][0]\n",
        "y_intercept = regressor.intercept_[0]\n",
        "print(\"Slope:\", slope)\n",
        "print(\"Y-intercept:\", y_intercept)"
      ],
      "metadata": {
        "colab": {
          "base_uri": "https://localhost:8080/"
        },
        "id": "WDPy-4qMikEC",
        "outputId": "399e2422-f90d-4623-cab3-d7351ca0f2cc"
      },
      "execution_count": null,
      "outputs": [
        {
          "output_type": "stream",
          "name": "stdout",
          "text": [
            "Slope: 0.05288732394366195\n",
            "Y-intercept: 0.30985915492968275\n"
          ]
        }
      ]
    },
    {
      "cell_type": "markdown",
      "source": [
        "### Write code to plot the Simple Linear Regression line on top of the scatter plot for the given data."
      ],
      "metadata": {
        "id": "tUKPYelbkVYA"
      }
    },
    {
      "cell_type": "code",
      "source": [
        "# create scatter plot of Weight vs CO2_Emissions\n",
        "plt.scatter(df['Weight'], df['CO2_Emissions'])\n",
        "plt.xlabel('Weight')\n",
        "plt.ylabel('CO2 Emissions')\n",
        "\n",
        "# create a simple linear regression model\n",
        "X = df['Weight'].values.reshape(-1,1)\n",
        "y = df['CO2_Emissions'].values.reshape(-1,1)\n",
        "regressor = LinearRegression()\n",
        "regressor.fit(X, y)\n",
        "\n",
        "# plot the Simple Linear Regression line\n",
        "x_line = np.arange(2500, 6000, 10)\n",
        "y_line = regressor.predict(x_line.reshape(-1,1))\n",
        "plt.plot(x_line, y_line, color='red')\n",
        "\n",
        "plt.show()"
      ],
      "metadata": {
        "colab": {
          "base_uri": "https://localhost:8080/",
          "height": 282
        },
        "id": "jY14Zyl9kRLV",
        "outputId": "eeadfdd9-77fb-4f8f-ccb9-4575eb7c6d14"
      },
      "execution_count": null,
      "outputs": [
        {
          "output_type": "display_data",
          "data": {
            "text/plain": [
              "<Figure size 432x288 with 1 Axes>"
            ],
            "image/png": "[encoded data removed]"
          },
          "metadata": {
            "needs_background": "light"
          }
        }
      ]
    },
    {
      "cell_type": "markdown",
      "source": [
        "### Write code to calculate the R-squared value for the Simple Linear Regression model."
      ],
      "metadata": {
        "id": "0-lwrRFykeS6"
      }
    },
    {
      "cell_type": "code",
      "source": [
        "# create a simple linear regression model\n",
        "X = df['Weight'].values.reshape(-1,1)\n",
        "y = df['CO2_Emissions'].values.reshape(-1,1)\n",
        "regressor = LinearRegression()\n",
        "regressor.fit(X, y)\n",
        "\n",
        "# predict the CO2_Emissions for the given weights\n",
        "y_pred = regressor.predict(X)\n",
        "\n",
        "# calculate the R-squared value\n",
        "r_squared = r2_score(y, y_pred)\n",
        "print(\"R-squared value:\", r_squared)"
      ],
      "metadata": {
        "colab": {
          "base_uri": "https://localhost:8080/"
        },
        "id": "yHRGc6Imkas6",
        "outputId": "3ed3b228-4392-436a-c66f-cc2a2f407efe"
      },
      "execution_count": null,
      "outputs": [
        {
          "output_type": "stream",
          "name": "stdout",
          "text": [
            "R-squared value: 0.90166584067401\n"
          ]
        }
      ]
    },
    {
      "cell_type": "markdown",
      "source": [
        "### Write code to predict the CO2 emissions for a vehicle with weight 4000 pounds using the Simple Linear Regression model."
      ],
      "metadata": {
        "id": "NDFvOSvOlXDl"
      }
    },
    {
      "cell_type": "code",
      "source": [
        "# create a simple linear regression model\n",
        "X = df['Weight'].values.reshape(-1,1)\n",
        "y = df['CO2_Emissions'].values.reshape(-1,1)\n",
        "regressor = LinearRegression()\n",
        "regressor.fit(X, y)\n",
        "\n",
        "# predict the CO2_Emissions for a vehicle with weight 4000 pounds\n",
        "weight_new = np.array([[4000]])\n",
        "co2_pred = regressor.predict(weight_new)\n",
        "print(\"Predicted CO2 Emissions for a vehicle with weight 4000 pounds:\", co2_pred[0][0])"
      ],
      "metadata": {
        "colab": {
          "base_uri": "https://localhost:8080/"
        },
        "id": "R-Cyv-V8klPk",
        "outputId": "66437dbf-7e94-4869-ea3b-37b4050a6185"
      },
      "execution_count": null,
      "outputs": [
        {
          "output_type": "stream",
          "name": "stdout",
          "text": [
            "Predicted CO2 Emissions for a vehicle with weight 4000 pounds: 211.85915492957747\n"
          ]
        }
      ]
    },
    {
      "cell_type": "markdown",
      "source": [
        "### Write code to plot the Simple Linear Regression line along with the data points."
      ],
      "metadata": {
        "id": "uBEgXzVTliKE"
      }
    },
    {
      "cell_type": "code",
      "source": [
        "# create a simple linear regression model\n",
        "X = df['Weight'].values.reshape(-1,1)\n",
        "y = df['CO2_Emissions'].values.reshape(-1,1)\n",
        "regressor = LinearRegression()\n",
        "regressor.fit(X, y)\n",
        "\n",
        "# plot the data points and Simple Linear Regression line\n",
        "plt.scatter(X, y, color='blue')\n",
        "plt.plot(X, regressor.predict(X), color='red')\n",
        "plt.title('CO2 Emissions vs Weight')\n",
        "plt.xlabel('Weight (lbs)')\n",
        "plt.ylabel('CO2 Emissions')\n",
        "plt.show()"
      ],
      "metadata": {
        "colab": {
          "base_uri": "https://localhost:8080/",
          "height": 295
        },
        "id": "aonMj6ARlbbY",
        "outputId": "9efabdb9-b336-47b0-a715-c84ac5471174"
      },
      "execution_count": null,
      "outputs": [
        {
          "output_type": "display_data",
          "data": {
            "text/plain": [
              "<Figure size 432x288 with 1 Axes>"
            ],
            "image/png": "[encoded data removed]"
          },
          "metadata": {
            "needs_background": "light"
          }
        }
      ]
    },
    {
      "cell_type": "markdown",
      "source": [
        "### Write a brief report summarizing your findings and conclusions."
      ],
      "metadata": {
        "id": "qP6lEYZOl_1L"
      }
    },
    {
      "cell_type": "markdown",
      "source": [
        "Findings:\n",
        "* Based on the Simple Linear Regression analysis performed on the given dataset, it was found that there is a positive relationship between the weight of a vehicle and its CO2 emissions. The scatter plot showed a general increasing trend in CO2 emissions as weight increases, indicating a correlation between the two variables.\n",
        "\n",
        "* The linear regression model built using the data predicts that for every 1000-pound increase in weight, there is an increase of approximately 28 units in CO2 emissions. This suggests that heavier vehicles tend to produce more CO2 emissions than lighter vehicles.\n",
        "\n",
        "* The R-squared value of the model was found to be 0.901, indicating that approximately 90% of the variability in CO2 emissions can be explained by the variability in vehicle weight. This suggests that the model is a good fit for the data and can be used to make reasonably accurate predictions.\n",
        "\n",
        "Conclusion: \n",
        "* The results of the analysis suggest that weight is a significant predictor of CO2 emissions for vehicles, and that reducing the weight of vehicles can help to reduce their environmental impact. However, it should be noted that other factors, such as engine efficiency and driving behavior, may also influence a vehicle's CO2 emissions, and should be considered in any comprehensive analysis."
      ],
      "metadata": {
        "id": "8ADMagLCmJ65"
      }
    },
    {
      "cell_type": "markdown",
      "source": [
        "### Happy learing🙂"
      ],
      "metadata": {
        "id": "LtkQywSV1gzX"
      }
    }
  ]
}