{
  "nbformat": 4,
  "nbformat_minor": 0,
  "metadata": {
    "colab": {
      "provenance": []
    },
    "kernelspec": {
      "name": "python3",
      "display_name": "Python 3"
    },
    "language_info": {
      "name": "python"
    }
  },
  "cells": [
    {
      "cell_type": "markdown",
      "source": [
        "### Introduction to linear regression:"
      ],
      "metadata": {
        "id": "sJrld2ragL4x"
      }
    },
    {
      "cell_type": "markdown",
      "source": [
        "* Linear regression is a statistical technique that is commonly used to model the relationship between a dependent variable and one or more independent variables. The goal of linear regression is to find the best-fitting line that describes the relationship between the variables.\n",
        "\n",
        "* Real-time example of linear regression is in the field of finance. A company may want to determine how its stock price is affected by various economic factors, such as interest rates, inflation, and GDP. By using linear regression, the company can estimate the impact of each factor on the stock price and make informed decisions about investment strategies."
      ],
      "metadata": {
        "id": "ke08u1XCgLs_"
      }
    },
    {
      "cell_type": "markdown",
      "source": [
        "### The key assumptions of linear regression include:"
      ],
      "metadata": {
        "id": "ujfgJlMVgLpY"
      }
    },
    {
      "cell_type": "markdown",
      "source": [
        "* **Linearity:** The relationship between the dependent variable and independent variables is linear.\n",
        "\n",
        "* **Independence:** The observations are independent of each other.\n",
        "\n",
        "* **Homoscedasticity:** The variance of the errors is constant across all levels of the independent variable.\n",
        "\n",
        "* **Normality:** The errors are normally distributed.\n",
        "\n",
        "* **No multicollinearity:** The independent variables are not highly correlated with each other.\n",
        "\n",
        "These assumptions are important because violating them can lead to biased and unreliable results. Therefore, it is important to assess these assumptions before applying linear regression to real-world data."
      ],
      "metadata": {
        "id": "Lb1ZqQcFgLmO"
      }
    },
    {
      "cell_type": "markdown",
      "source": [
        "### Data preparation and exploration"
      ],
      "metadata": {
        "id": "LZRg_k4cgLjT"
      }
    },
    {
      "cell_type": "markdown",
      "source": [
        "* Data preparation and exploration are crucial steps before performing any statistical analysis, including linear regression. \n",
        "* Example of how these steps can be applied in practice:\n",
        "\n",
        "* Suppose a hospital wants to investigate the factors that affect patient length of stay (LOS). The hospital has collected data on the following variables for a sample of patients: age, gender, diagnosis, hospital admission type, insurance status, LOS, and hospital charges."
      ],
      "metadata": {
        "id": "GoeUDoO9gLf-"
      }
    },
    {
      "cell_type": "code",
      "source": [
        "import pandas as pd\n",
        "\n",
        "# create a dictionary with the data\n",
        "data = {\n",
        "    'patient_id': ['P001', 'P002', 'P003', 'P004', 'P005'],\n",
        "    'age': [35, 45, 50, 30, 60],\n",
        "    'gender': ['Male', 'Female', 'Male', 'Female', 'Male'],\n",
        "    'diagnosis': ['Heart Attack', 'Pneumonia', 'Broken Arm', 'Appendicitis', 'Stroke'],\n",
        "    'admission_type': ['Emergency', 'Urgent', 'Elective', 'Emergency', 'Elective'],\n",
        "    'insurance_type': ['Private', 'Medicare', 'Medicaid', 'Private', 'Medicare'],\n",
        "    'hospital_charges': [5000, 10000, 7500, 15000, 20000],\n",
        "    'length_of_stay': [3, 5, 2, 4, 6]\n",
        "}\n",
        "\n",
        "# create the dataframe\n",
        "hospital_charges = pd.DataFrame(data)\n",
        "\n",
        "# view the dataframe\n",
        "print(hospital_charges)\n"
      ],
      "metadata": {
        "colab": {
          "base_uri": "https://localhost:8080/"
        },
        "id": "WTR2VwzFkdEa",
        "outputId": "5a884e7c-d0cb-4a65-c1dd-2b1fd3b900ea"
      },
      "execution_count": null,
      "outputs": [
        {
          "output_type": "stream",
          "name": "stdout",
          "text": [
            "  patient_id  age  gender     diagnosis admission_type insurance_type  \\\n",
            "0       P001   35    Male  Heart Attack      Emergency        Private   \n",
            "1       P002   45  Female     Pneumonia         Urgent       Medicare   \n",
            "2       P003   50    Male    Broken Arm       Elective       Medicaid   \n",
            "3       P004   30  Female  Appendicitis      Emergency        Private   \n",
            "4       P005   60    Male        Stroke       Elective       Medicare   \n",
            "\n",
            "   hospital_charges  length_of_stay  \n",
            "0              5000               3  \n",
            "1             10000               5  \n",
            "2              7500               2  \n",
            "3             15000               4  \n",
            "4             20000               6  \n"
          ]
        }
      ]
    },
    {
      "cell_type": "markdown",
      "source": [
        "#### Explore the structure and summary of the data"
      ],
      "metadata": {
        "id": "kK7RQVQTgLch"
      }
    },
    {
      "cell_type": "markdown",
      "source": [
        "The hospital can use the `str` and `summary` functions to explore the structure and summary statistics of the data."
      ],
      "metadata": {
        "id": "uI9Lb3zwgKhm"
      }
    },
    {
      "cell_type": "code",
      "source": [
        "# View the structure of the data\n",
        "print(hospital_charges.info())\n",
        "\n",
        "# View the summary statistics of the data\n",
        "print(hospital_charges.describe())"
      ],
      "metadata": {
        "colab": {
          "base_uri": "https://localhost:8080/"
        },
        "id": "9AT7TBZDlEZG",
        "outputId": "c8e6a308-23f9-49c4-8016-56b36ad690ba"
      },
      "execution_count": null,
      "outputs": [
        {
          "output_type": "stream",
          "name": "stdout",
          "text": [
            "<class 'pandas.core.frame.DataFrame'>\n",
            "RangeIndex: 5 entries, 0 to 4\n",
            "Data columns (total 8 columns):\n",
            " #   Column            Non-Null Count  Dtype \n",
            "---  ------            --------------  ----- \n",
            " 0   patient_id        5 non-null      object\n",
            " 1   age               5 non-null      int64 \n",
            " 2   gender            5 non-null      object\n",
            " 3   diagnosis         5 non-null      object\n",
            " 4   admission_type    5 non-null      object\n",
            " 5   insurance_type    5 non-null      object\n",
            " 6   hospital_charges  5 non-null      int64 \n",
            " 7   length_of_stay    5 non-null      int64 \n",
            "dtypes: int64(3), object(5)\n",
            "memory usage: 448.0+ bytes\n",
            "None\n",
            "             age  hospital_charges  length_of_stay\n",
            "count   5.000000          5.000000        5.000000\n",
            "mean   44.000000      11500.000000        4.000000\n",
            "std    11.937336       6020.797289        1.581139\n",
            "min    30.000000       5000.000000        2.000000\n",
            "25%    35.000000       7500.000000        3.000000\n",
            "50%    45.000000      10000.000000        4.000000\n",
            "75%    50.000000      15000.000000        5.000000\n",
            "max    60.000000      20000.000000        6.000000\n"
          ]
        }
      ]
    },
    {
      "cell_type": "markdown",
      "source": [
        "Overview of the number of observations, variable types, and summary statistics of the variables."
      ],
      "metadata": {
        "id": "o8YAyWLYlVst"
      }
    },
    {
      "cell_type": "markdown",
      "source": [
        "#### Check for missing values, outliers, and other anomalies"
      ],
      "metadata": {
        "id": "DVaQ1fz3lgGK"
      }
    },
    {
      "cell_type": "markdown",
      "source": [
        "The hospital also needs to check for any missing values, outliers, or other anomalies that may affect the results of the analysis. This can be done using the isnull, value_counts, and boxplot functions."
      ],
      "metadata": {
        "id": "ewsJ0xH9l2mJ"
      }
    },
    {
      "cell_type": "code",
      "source": [
        "# Check for missing values\n",
        "print(hospital_charges.isnull().sum())\n",
        "\n",
        "# Check for outliers in LOS and hospital charges\n",
        "hospital_charges.boxplot(column=['length_of_stay', 'hospital_charges'])\n",
        "\n",
        "# Check the distribution of age\n",
        "print(hospital_charges['age'].value_counts())"
      ],
      "metadata": {
        "colab": {
          "base_uri": "https://localhost:8080/",
          "height": 706
        },
        "id": "Mw4zc8AOlLtq",
        "outputId": "242b6619-7751-4bc2-c240-c863d8b9530c"
      },
      "execution_count": null,
      "outputs": [
        {
          "output_type": "stream",
          "name": "stdout",
          "text": [
            "patient_id          0\n",
            "age                 0\n",
            "gender              0\n",
            "diagnosis           0\n",
            "admission_type      0\n",
            "insurance_type      0\n",
            "hospital_charges    0\n",
            "length_of_stay      0\n",
            "dtype: int64\n",
            "35    1\n",
            "45    1\n",
            "50    1\n",
            "30    1\n",
            "60    1\n",
            "Name: age, dtype: int64\n"
          ]
        },
        {
          "output_type": "display_data",
          "data": {
            "text/plain": [
              "<Figure size 640x480 with 1 Axes>"
            ],
            "image/png": "[encoded data removed]"
          },
          "metadata": {}
        }
      ]
    },
    {
      "cell_type": "markdown",
      "source": [
        "With the help the hospital identify any missing values, outliers, or other anomalies that may need to be addressed before performing linear regression analysis.\n",
        "\n",
        "By following these steps, the hospital can ensure that the data is clean and ready for linear regression analysis, which will help them identify the factors that affect patient LOS and improve their patient care strategies."
      ],
      "metadata": {
        "id": "udArvNLtmVZe"
      }
    },
    {
      "cell_type": "markdown",
      "source": [
        "### Simple linear regression"
      ],
      "metadata": {
        "id": "HYntdUrSmvWP"
      }
    },
    {
      "cell_type": "markdown",
      "source": [
        "* Simple linear regression is a statistical technique used to model the linear relationship between a dependent variable (Y) and a single independent variable (X). The equation for simple linear regression is:\n",
        "\n",
        "                                       Y = β0 + β1X + ε\n",
        "\n",
        "* where Y is the dependent variable, X is the independent variable, β0 is the intercept, β1 is the slope, and ε is the error term."
      ],
      "metadata": {
        "id": "_ciHTC2ym7Hz"
      }
    },
    {
      "cell_type": "markdown",
      "source": [
        "#### Define simple linear regression and its key components:"
      ],
      "metadata": {
        "id": "rRaUrUdrm7Ea"
      }
    },
    {
      "cell_type": "markdown",
      "source": [
        "The key components of a simple linear regression model are:\n",
        "\n",
        "* **Dependent variable:** This is the variable being predicted or modeled by the independent variable.\n",
        "* **Independent variable:** This is the variable used to predict the dependent variable.\n",
        "* **Regression equation:** A linear equation that models the relationship between the dependent and independent variables.\n",
        "* **Coefficients:** the slope and intercept of the regression equation.\n",
        "* **Residuals:** the difference between the predicted and actual values of the dependent variable.\n",
        "\n",
        "To fit a simple linear regression model in Python, we can use the lm function from the statsmodels library."
      ],
      "metadata": {
        "id": "XMounZtvm682"
      }
    },
    {
      "cell_type": "code",
      "source": [
        "import statsmodels.api as sm\n",
        "# create a linear regression model\n",
        "y, X = dmatrices('length_of_stay ~ hospital_charges', data=hospital_charges, return_type='dataframe')\n",
        "model = sm.OLS(y, X)\n",
        "\n",
        "# fit the model and print the results\n",
        "results = model.fit()\n",
        "print(results.summary())"
      ],
      "metadata": {
        "colab": {
          "base_uri": "https://localhost:8080/"
        },
        "id": "iAYwJZ7rr49N",
        "outputId": "825076c0-0690-4c5b-e81d-44965e686cef"
      },
      "execution_count": null,
      "outputs": [
        {
          "output_type": "stream",
          "name": "stdout",
          "text": [
            "                            OLS Regression Results                            \n",
            "==============================================================================\n",
            "Dep. Variable:         length_of_stay   R-squared:                       0.621\n",
            "Model:                            OLS   Adj. R-squared:                  0.494\n",
            "Method:                 Least Squares   F-statistic:                     4.909\n",
            "Date:                Thu, 20 Apr 2023   Prob (F-statistic):              0.114\n",
            "Time:                        17:22:13   Log-Likelihood:                -6.4041\n",
            "No. Observations:                   5   AIC:                             16.81\n",
            "Df Residuals:                       3   BIC:                             16.03\n",
            "Df Model:                           1                                         \n",
            "Covariance Type:            nonrobust                                         \n",
            "====================================================================================\n",
            "                       coef    std err          t      P>|t|      [0.025      0.975]\n",
            "------------------------------------------------------------------------------------\n",
            "Intercept            1.6207      1.186      1.367      0.265      -2.153       5.394\n",
            "hospital_charges     0.0002   9.34e-05      2.216      0.114   -9.03e-05       0.001\n",
            "==============================================================================\n",
            "Omnibus:                          nan   Durbin-Watson:                   2.170\n",
            "Prob(Omnibus):                    nan   Jarque-Bera (JB):                0.316\n",
            "Skew:                           0.095   Prob(JB):                        0.854\n",
            "Kurtosis:                       1.783   Cond. No.                     2.99e+04\n",
            "==============================================================================\n",
            "\n",
            "Notes:\n",
            "[1] Standard Errors assume that the covariance matrix of the errors is correctly specified.\n",
            "[2] The condition number is large, 2.99e+04. This might indicate that there are\n",
            "strong multicollinearity or other numerical problems.\n"
          ]
        },
        {
          "output_type": "stream",
          "name": "stderr",
          "text": [
            "/usr/local/lib/python3.9/dist-packages/statsmodels/stats/stattools.py:74: ValueWarning: omni_normtest is not valid with less than 8 observations; 5 samples were given.\n",
            "  warn(\"omni_normtest is not valid with less than 8 observations; %i \"\n"
          ]
        }
      ]
    },
    {
      "cell_type": "markdown",
      "source": [
        "* Above example, we're using length_of_stay as the independent variable and hospital_charges as the dependent variable. The add_constant function is used to add an intercept term to the regression equation. The OLS function is used to fit the model, and the summary method is used to print the model summary.\n",
        "\n",
        "* The output of the model includes several components, including the coefficients, standard error, t-value, and p-value. The coefficient for length_of_stay represents the slope of the regression line, and the intercept represents the point where the line intersects the y-axis. The standard error represents the average amount that the predicted values deviate from the actual values, and the t-value and p-value test the significance of the coefficients. The R-squared value represents the proportion of variance in the dependent variable that is explained by the independent variable."
      ],
      "metadata": {
        "id": "tVlLB3bLpb-F"
      }
    },
    {
      "cell_type": "markdown",
      "source": [
        "#### Evaluate the model's goodness of fit using the R-squared value and residual plots."
      ],
      "metadata": {
        "id": "gSVfwZwbqX5Z"
      }
    },
    {
      "cell_type": "markdown",
      "source": [
        "* To evaluate the model's goodness of fit, we can look at the R-squared value and residual plots. An R-squared value close to 1 indicates a good fit, while residual plots can help identify patterns in the residuals that suggest the model may be misspecified."
      ],
      "metadata": {
        "id": "2Mx-HTIYqdvo"
      }
    },
    {
      "cell_type": "markdown",
      "source": [
        "#### Test the significance of the F-test.\n",
        "\n"
      ],
      "metadata": {
        "id": "zTrAgHZUquso"
      }
    },
    {
      "cell_type": "markdown",
      "source": [
        "* To test the significance of the F-test, we need to check the p-value associated with the F-statistic. If the p-value is less than the level of significance (typically 0.05), we can reject the null hypothesis and conclude that the linear regression model is significant.\n",
        "\n",
        "* We can print the p-value associated with the F-statistic using the following code:\n",
        "print(\"p-value:\", p_val)\n",
        "\n",
        "* If the p-value is less than 0.05, we can reject the null hypothesis and conclude that the linear regression model is significant. If the p-value is greater than 0.05, we fail to reject the null hypothesis and conclude that the linear regression model is not significant."
      ],
      "metadata": {
        "id": "CGwPHwzkuFxX"
      }
    },
    {
      "cell_type": "markdown",
      "source": [
        "### Multiple linear regression"
      ],
      "metadata": {
        "id": "jBYV6ilYuFlW"
      }
    },
    {
      "cell_type": "markdown",
      "source": [
        "* Multiple linear regression is a statistical technique used to predict a dependent variable based on multiple independent variables. In other words, it allows us to study the relationship between a dependent variable and two or more independent variables simultaneously."
      ],
      "metadata": {
        "id": "_uWVKJNfvNR1"
      }
    },
    {
      "cell_type": "markdown",
      "source": [
        "#### Define multiple linear regression and its key components."
      ],
      "metadata": {
        "id": "5NgG8wwuvM7N"
      }
    },
    {
      "cell_type": "markdown",
      "source": [
        "The key components of a multiple linear regression model include:\n",
        "\n",
        "* **Dependent variable:** This is the variable that is being predicted by the model. It is also referred to as the response variable or outcome variable.\n",
        "\n",
        "* **Independent variables:** These are the variables that are used to predict the dependent variable. They are also referred to as predictor variables or explanatory variables.\n",
        "\n",
        "* **Coefficients:** These are the values that represent the slope of the line for each independent variable in the regression equation. They indicate the change in the dependent variable for a one-unit increase in the independent variable, while holding all other variables constant.\n",
        "\n",
        "* **Standard error:** This is the measure of the variability of the regression coefficients. It is used to calculate the t-value and p-value.\n",
        "\n",
        "* **t-value:** This is the ratio of the coefficient to its standard error. It indicates how statistically significant the coefficient is.\n",
        "\n",
        "* **p-value:** This is the probability that the coefficient is equal to zero. It indicates the statistical significance of the coefficient.\n",
        "\n",
        "* **R-squared value:** This is a measure of the proportion of the variance in the dependent variable that is explained by the independent variables."
      ],
      "metadata": {
        "id": "VE3YlINTvM3q"
      }
    },
    {
      "cell_type": "code",
      "source": [
        "import statsmodels.formula.api as smf\n",
        "\n",
        "# fit the multiple linear regression model\n",
        "model = smf.ols(formula='length_of_stay ~ age + hospital_charges', data=hospital_charges).fit()\n",
        "\n",
        "# print the model summary\n",
        "print(model.summary())"
      ],
      "metadata": {
        "colab": {
          "base_uri": "https://localhost:8080/"
        },
        "id": "D3QzsyaMv9RC",
        "outputId": "6795cb8c-b8d8-492f-cd5c-ffebbc9cbde5"
      },
      "execution_count": null,
      "outputs": [
        {
          "output_type": "stream",
          "name": "stdout",
          "text": [
            "                            OLS Regression Results                            \n",
            "==============================================================================\n",
            "Dep. Variable:         length_of_stay   R-squared:                       0.626\n",
            "Model:                            OLS   Adj. R-squared:                  0.253\n",
            "Method:                 Least Squares   F-statistic:                     1.676\n",
            "Date:                Thu, 20 Apr 2023   Prob (F-statistic):              0.374\n",
            "Time:                        17:41:10   Log-Likelihood:                -6.3663\n",
            "No. Observations:                   5   AIC:                             18.73\n",
            "Df Residuals:                       2   BIC:                             17.56\n",
            "Df Model:                           2                                         \n",
            "Covariance Type:            nonrobust                                         \n",
            "====================================================================================\n",
            "                       coef    std err          t      P>|t|      [0.025      0.975]\n",
            "------------------------------------------------------------------------------------\n",
            "Intercept            1.2418      2.607      0.476      0.681      -9.976      12.459\n",
            "age                  0.0110      0.063      0.174      0.878      -0.260       0.282\n",
            "hospital_charges     0.0002      0.000      1.584      0.254      -0.000       0.001\n",
            "==============================================================================\n",
            "Omnibus:                          nan   Durbin-Watson:                   2.241\n",
            "Prob(Omnibus):                    nan   Jarque-Bera (JB):                0.224\n",
            "Skew:                          -0.013   Prob(JB):                        0.894\n",
            "Kurtosis:                       1.963   Cond. No.                     5.42e+04\n",
            "==============================================================================\n",
            "\n",
            "Notes:\n",
            "[1] Standard Errors assume that the covariance matrix of the errors is correctly specified.\n",
            "[2] The condition number is large, 5.42e+04. This might indicate that there are\n",
            "strong multicollinearity or other numerical problems.\n"
          ]
        },
        {
          "output_type": "stream",
          "name": "stderr",
          "text": [
            "/usr/local/lib/python3.9/dist-packages/statsmodels/stats/stattools.py:74: ValueWarning: omni_normtest is not valid with less than 8 observations; 5 samples were given.\n",
            "  warn(\"omni_normtest is not valid with less than 8 observations; %i \"\n"
          ]
        }
      ]
    },
    {
      "cell_type": "markdown",
      "source": [
        "* Above output of the model includes the coefficients, standard error, t-value, and p-value for each independent variable, as well as the R-squared value for the overall model. We can use this information to interpret the significance of each variable and the overall fit of the model.\n",
        "\n",
        "* To evaluate the goodness of fit of the model, we can look at the R-squared value, which tells us how much of the variation in the dependent variable is explained by the independent variables. We can also examine residual plots to check for any patterns or trends that may indicate that the model is not a good fit for the data.\n",
        "\n",
        "* To test the significance of the model, we can use the F-test, which compares the variance explained by the model to the variance not explained by the model. The null hypothesis for the F-test is that all the coefficients in the model are equal to zero, which means that the independent variables do not have a significant effect on the dependent variable. The alternative hypothesis is that at least one of the coefficients is not equal to zero, which means that the independent variables have a significant effect on the dependent variable. We can use the \"anova_lm\" function from the \"statsmodels\" package to perform the F-test."
      ],
      "metadata": {
        "id": "JdIQ0ky-w3hY"
      }
    },
    {
      "cell_type": "markdown",
      "source": [
        "### Let's discuss the difference between correlation and regression.\n"
      ],
      "metadata": {
        "id": "s7v4HfkgxXz4"
      }
    },
    {
      "cell_type": "markdown",
      "source": [
        "Correlation and regression are two statistical concepts used to analyze the relationship between two or more variables. However, they are different in several ways:\n",
        "\n",
        "* **Definition**: Correlation measures the degree of association or relationship between two variables. Regression, on the other hand, is a statistical method used to estimate the strength and direction of the relationship between a dependent variable and one or more independent variables.\n",
        "\n",
        "* **Objective**: The primary objective of correlation is to determine the direction and strength of the relationship between two variables. Regression, on the other hand, is used to predict the value of the dependent variable based on the value of the independent variable.\n",
        "\n",
        "* **Output**: The output of correlation is a correlation coefficient, which ranges from -1 to +1. The sign of the coefficient indicates the direction of the relationship (positive or negative), while the magnitude indicates the strength of the relationship (strong or weak). The output of regression is an equation that represents the relationship between the dependent and independent variables.\n",
        "\n",
        "* **Causation**: Correlation does not imply causation, meaning that just because two variables are correlated does not mean that one causes the other. Regression, on the other hand, can be used to determine causation, but only under certain conditions and assumptions.\n",
        "\n",
        "* **Applications**: Correlation is commonly used in research to determine the strength and direction of the relationship between variables, while regression is used in prediction modeling, forecasting, and machine learning applications to predict future outcomes based on past data.\n",
        "\n",
        "> Correlation measures the degree of association between variables, while regression is used to predict the value of one variable based on the value of another variable."
      ],
      "metadata": {
        "id": "RkL5TNA9xqW2"
      }
    },
    {
      "cell_type": "markdown",
      "source": [
        "### What do you mean by regression, Why regression is important?"
      ],
      "metadata": {
        "id": "IwRxEoiXxqTX"
      }
    },
    {
      "cell_type": "markdown",
      "source": [
        "Regression analysis is an important statistical tool used to analyze the relationship between a dependent variable and one or more independent variables. Regression is used extensively in various fields, including economics, finance, engineering, social sciences, and machine learning. \n",
        "\n",
        "Here are some reasons why regression is important:\n",
        "\n",
        "* **Prediction**: Regression analysis can be used to predict future values of the dependent variable based on the values of the independent variables. This is useful in many applications, such as forecasting sales, estimating future trends, and predicting future demand for products and services.\n",
        "\n",
        "* **Relationship Analysis**: Regression analysis can be used to determine the strength and direction of the relationship between the dependent and independent variables. This helps in understanding how changes in the independent variables affect the dependent variable.\n",
        "\n",
        "* **Model Building**: Regression analysis can be used to develop models that can be used to predict the value of the dependent variable based on the values of the independent variables. These models can be used for decision-making, planning, and forecasting.\n",
        "\n",
        "* **Variable Selectio**n: Regression analysis can be used to select the most important variables that affect the dependent variable. This helps in eliminating variables that do not have a significant impact on the dependent variable, thus reducing the complexity of the model.\n",
        "\n",
        "* **Hypothesis Testing**: Regression analysis can be used to test hypotheses about the relationship between the dependent and independent variables. This helps in determining whether the relationship is statistically significant or not.\n",
        "\n",
        "* **Control**: Regression analysis can be used to control for the effects of other variables that may be affecting the dependent variable. This helps in isolating the effects of the independent variables on the dependent variable.\n",
        "\n",
        "> It is widely used in various fields to analyze and understand the relationship between variables and make predictions about future outcomes."
      ],
      "metadata": {
        "id": "JqR6jEGPxqP2"
      }
    },
    {
      "cell_type": "markdown",
      "source": [
        "[Quick recap](https://medium.com/@cmukesh8688/evaluation-of-linear-regression-model-6e8edbb068f)"
      ],
      "metadata": {
        "id": "4E5r6yfByINn"
      }
    },
    {
      "cell_type": "markdown",
      "source": [
        "### **Happy learing**🙂"
      ],
      "metadata": {
        "id": "3OhiNWkpyIBF"
      }
    }
  ]
}