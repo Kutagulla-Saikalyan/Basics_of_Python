{
  "nbformat": 4,
  "nbformat_minor": 0,
  "metadata": {
    "colab": {
      "provenance": []
    },
    "kernelspec": {
      "name": "python3",
      "display_name": "Python 3"
    },
    "language_info": {
      "name": "python"
    }
  },
  "cells": [
    {
      "cell_type": "markdown",
      "source": [
        "### Problem statement:\n",
        "\n",
        "Design an efficient machine learning model to predict the CO2 emissions of cars based on their manufacturer, model, transmission type, year, and weight. The model should have a high level of accuracy and precision, and it should be able to handle a large and diverse dataset with various types of data. Additionally, the model should be optimized using hyperparameter tuning techniques to ensure maximum performance. The end goal is to provide a valuable tool for car manufacturers and consumers alike, to make informed decisions about vehicle emissions and environmental impact.\n",
        "\n",
        "\"Given the dataset of vehicle information including manufacturer, model, transmission, year, CO2 emissions, and vehicle weight, can we predict the CO2 emissions of a vehicle based on its other characteristics? And can we identify which features have the greatest impact on CO2 emissions?\"\n",
        "\n",
        "The benefit of solving this problem is that it could lead to more informed decision-making in the automotive industry. For example, manufacturers could use the insights gained from this analysis to design and produce vehicles that have lower CO2 emissions, which is important for reducing the environmental impact of transportation. Additionally, consumers could use this information to make more informed decisions when purchasing a vehicle, taking into account not only factors such as performance and price, but also the environmental impact of their choice with the help of advance machine learning algorithms, Classification and regression tree, and Random Forest algorithm."
      ],
      "metadata": {
        "id": "2ycsS0Sq5Jjf"
      }
    },
    {
      "cell_type": "markdown",
      "source": [
        "Task 1: Load the data into a pandas DataFrame.\n",
        "\n",
        "Task 2: Convert categorical variables to numeric variables.\n",
        "\n",
        "Task 3: Split the data into train and test sets.\n",
        "\n",
        "Task 4: Build a Classification and Regression Tree (CART) model.\n",
        "\n",
        "Task 5: Evaluate the CART model using Mean Absolute Error (MAE).\n",
        "\n",
        "Task 6: Train a Random Forest model with the default hyperparameters.\n",
        "\n",
        "Task 7: Evaluate the performance of the model on the testing set using metrics such as accuracy, precision, recall, and F1-score.\n",
        "\n",
        "Task 8: Use GridSearchCV to tune the hyperparameters of the Random Forest model and find the best combination of hyperparameters that result in the highest performance on the testing set.\n",
        "\n",
        "Task 9: Evaluate the performance of the tuned Random Forest model on the testing set using the same metrics as in step 3.\n",
        "\n",
        "Task 10: Visualize the feature importances of the Random Forest model to see which features are most important for predicting CO2 emissions."
      ],
      "metadata": {
        "id": "KpBh759j53ZE"
      }
    },
    {
      "cell_type": "markdown",
      "source": [
        "#### Task 1: Load the data into a pandas DataFrame."
      ],
      "metadata": {
        "id": "jJ2Ud6Sm7Gna"
      }
    },
    {
      "cell_type": "code",
      "execution_count": null,
      "metadata": {
        "id": "SLbwuKzv8KUT",
        "colab": {
          "base_uri": "https://localhost:8080/"
        },
        "outputId": "45abbc96-f42e-4bc3-90bd-3ae854655cc7"
      },
      "outputs": [
        {
          "output_type": "stream",
          "name": "stdout",
          "text": [
            "  Manufacturer      Model Transmission  Year  CO2_Emissions  Vehicle_Weight\n",
            "0       Toyota      Camry    Automatic  2018            170            3000\n",
            "1         Ford      F-150       Manual  2019            250            4000\n",
            "2    Chevrolet  Silverado    Automatic  2020            280            5000\n",
            "3        Honda      Civic       Manual  2020            130            2500\n",
            "4       Nissan     Altima    Automatic  2019            200            3500\n"
          ]
        }
      ],
      "source": [
        "import pandas as pd\n",
        "import numpy as np\n",
        "from sklearn.model_selection import train_test_split, GridSearchCV\n",
        "from sklearn.ensemble import RandomForestRegressor\n",
        "from sklearn.metrics import mean_squared_error, r2_score, accuracy_score, precision_score, recall_score, f1_score\n",
        "import matplotlib.pyplot as plt\n",
        "import seaborn as sns\n",
        "\n",
        "data = {\n",
        "    'Manufacturer': ['Toyota', 'Ford', 'Chevrolet', 'Honda', 'Nissan', 'BMW'],\n",
        "    'Model': ['Camry', 'F-150', 'Silverado', 'Civic', 'Altima', 'X5'],\n",
        "    'Transmission': ['Automatic', 'Manual', 'Automatic', 'Manual', 'Automatic', 'Manual'],\n",
        "    'Year': [2018, 2019, 2020, 2020, 2019, 2021],\n",
        "    'CO2_Emissions': [170, 250, 280, 130, 200, 220],\n",
        "    'Vehicle_Weight': [3000, 4000, 5000, 2500, 3500, 4500]\n",
        "}\n",
        "\n",
        "df = pd.DataFrame(data)\n",
        "print(df.head())\n"
      ]
    },
    {
      "cell_type": "markdown",
      "source": [
        "#### Task 2: Convert categorical variables to numeric variables.\n"
      ],
      "metadata": {
        "id": "3qouLjxp7PyN"
      }
    },
    {
      "cell_type": "code",
      "source": [
        "# one-hot encode the categorical variables\n",
        "df_encoded = pd.get_dummies(df, columns=['Manufacturer', 'Model', 'Transmission'])\n",
        "df_encoded"
      ],
      "metadata": {
        "colab": {
          "base_uri": "https://localhost:8080/",
          "height": 319
        },
        "id": "vOJ8H2T47Ln2",
        "outputId": "95d52f59-9f12-4118-9d7a-090be38b5e66"
      },
      "execution_count": null,
      "outputs": [
        {
          "output_type": "execute_result",
          "data": {
            "text/plain": [
              "   Year  CO2_Emissions  Vehicle_Weight  Manufacturer_BMW  \\\n",
              "0  2018            170            3000                 0   \n",
              "1  2019            250            4000                 0   \n",
              "2  2020            280            5000                 0   \n",
              "3  2020            130            2500                 0   \n",
              "4  2019            200            3500                 0   \n",
              "5  2021            220            4500                 1   \n",
              "\n",
              "   Manufacturer_Chevrolet  Manufacturer_Ford  Manufacturer_Honda  \\\n",
              "0                       0                  0                   0   \n",
              "1                       0                  1                   0   \n",
              "2                       1                  0                   0   \n",
              "3                       0                  0                   1   \n",
              "4                       0                  0                   0   \n",
              "5                       0                  0                   0   \n",
              "\n",
              "   Manufacturer_Nissan  Manufacturer_Toyota  Model_Altima  Model_Camry  \\\n",
              "0                    0                    1             0            1   \n",
              "1                    0                    0             0            0   \n",
              "2                    0                    0             0            0   \n",
              "3                    0                    0             0            0   \n",
              "4                    1                    0             1            0   \n",
              "5                    0                    0             0            0   \n",
              "\n",
              "   Model_Civic  Model_F-150  Model_Silverado  Model_X5  \\\n",
              "0            0            0                0         0   \n",
              "1            0            1                0         0   \n",
              "2            0            0                1         0   \n",
              "3            1            0                0         0   \n",
              "4            0            0                0         0   \n",
              "5            0            0                0         1   \n",
              "\n",
              "   Transmission_Automatic  Transmission_Manual  \n",
              "0                       1                    0  \n",
              "1                       0                    1  \n",
              "2                       1                    0  \n",
              "3                       0                    1  \n",
              "4                       1                    0  \n",
              "5                       0                    1  "
            ],
            "text/html": [
              "\n",
              "  <div id=\"df-61766d33-f884-45eb-bbe2-a92398123800\">\n",
              "    <div class=\"colab-df-container\">\n",
              "      <div>\n",
              "<style scoped>\n",
              "    .dataframe tbody tr th:only-of-type {\n",
              "        vertical-align: middle;\n",
              "    }\n",
              "\n",
              "    .dataframe tbody tr th {\n",
              "        vertical-align: top;\n",
              "    }\n",
              "\n",
              "    .dataframe thead th {\n",
              "        text-align: right;\n",
              "    }\n",
              "</style>\n",
              "<table border=\"1\" class=\"dataframe\">\n",
              "  <thead>\n",
              "    <tr style=\"text-align: right;\">\n",
              "      <th></th>\n",
              "      <th>Year</th>\n",
              "      <th>CO2_Emissions</th>\n",
              "      <th>Vehicle_Weight</th>\n",
              "      <th>Manufacturer_BMW</th>\n",
              "      <th>Manufacturer_Chevrolet</th>\n",
              "      <th>Manufacturer_Ford</th>\n",
              "      <th>Manufacturer_Honda</th>\n",
              "      <th>Manufacturer_Nissan</th>\n",
              "      <th>Manufacturer_Toyota</th>\n",
              "      <th>Model_Altima</th>\n",
              "      <th>Model_Camry</th>\n",
              "      <th>Model_Civic</th>\n",
              "      <th>Model_F-150</th>\n",
              "      <th>Model_Silverado</th>\n",
              "      <th>Model_X5</th>\n",
              "      <th>Transmission_Automatic</th>\n",
              "      <th>Transmission_Manual</th>\n",
              "    </tr>\n",
              "  </thead>\n",
              "  <tbody>\n",
              "    <tr>\n",
              "      <th>0</th>\n",
              "      <td>2018</td>\n",
              "      <td>170</td>\n",
              "      <td>3000</td>\n",
              "      <td>0</td>\n",
              "      <td>0</td>\n",
              "      <td>0</td>\n",
              "      <td>0</td>\n",
              "      <td>0</td>\n",
              "      <td>1</td>\n",
              "      <td>0</td>\n",
              "      <td>1</td>\n",
              "      <td>0</td>\n",
              "      <td>0</td>\n",
              "      <td>0</td>\n",
              "      <td>0</td>\n",
              "      <td>1</td>\n",
              "      <td>0</td>\n",
              "    </tr>\n",
              "    <tr>\n",
              "      <th>1</th>\n",
              "      <td>2019</td>\n",
              "      <td>250</td>\n",
              "      <td>4000</td>\n",
              "      <td>0</td>\n",
              "      <td>0</td>\n",
              "      <td>1</td>\n",
              "      <td>0</td>\n",
              "      <td>0</td>\n",
              "      <td>0</td>\n",
              "      <td>0</td>\n",
              "      <td>0</td>\n",
              "      <td>0</td>\n",
              "      <td>1</td>\n",
              "      <td>0</td>\n",
              "      <td>0</td>\n",
              "      <td>0</td>\n",
              "      <td>1</td>\n",
              "    </tr>\n",
              "    <tr>\n",
              "      <th>2</th>\n",
              "      <td>2020</td>\n",
              "      <td>280</td>\n",
              "      <td>5000</td>\n",
              "      <td>0</td>\n",
              "      <td>1</td>\n",
              "      <td>0</td>\n",
              "      <td>0</td>\n",
              "      <td>0</td>\n",
              "      <td>0</td>\n",
              "      <td>0</td>\n",
              "      <td>0</td>\n",
              "      <td>0</td>\n",
              "      <td>0</td>\n",
              "      <td>1</td>\n",
              "      <td>0</td>\n",
              "      <td>1</td>\n",
              "      <td>0</td>\n",
              "    </tr>\n",
              "    <tr>\n",
              "      <th>3</th>\n",
              "      <td>2020</td>\n",
              "      <td>130</td>\n",
              "      <td>2500</td>\n",
              "      <td>0</td>\n",
              "      <td>0</td>\n",
              "      <td>0</td>\n",
              "      <td>1</td>\n",
              "      <td>0</td>\n",
              "      <td>0</td>\n",
              "      <td>0</td>\n",
              "      <td>0</td>\n",
              "      <td>1</td>\n",
              "      <td>0</td>\n",
              "      <td>0</td>\n",
              "      <td>0</td>\n",
              "      <td>0</td>\n",
              "      <td>1</td>\n",
              "    </tr>\n",
              "    <tr>\n",
              "      <th>4</th>\n",
              "      <td>2019</td>\n",
              "      <td>200</td>\n",
              "      <td>3500</td>\n",
              "      <td>0</td>\n",
              "      <td>0</td>\n",
              "      <td>0</td>\n",
              "      <td>0</td>\n",
              "      <td>1</td>\n",
              "      <td>0</td>\n",
              "      <td>1</td>\n",
              "      <td>0</td>\n",
              "      <td>0</td>\n",
              "      <td>0</td>\n",
              "      <td>0</td>\n",
              "      <td>0</td>\n",
              "      <td>1</td>\n",
              "      <td>0</td>\n",
              "    </tr>\n",
              "    <tr>\n",
              "      <th>5</th>\n",
              "      <td>2021</td>\n",
              "      <td>220</td>\n",
              "      <td>4500</td>\n",
              "      <td>1</td>\n",
              "      <td>0</td>\n",
              "      <td>0</td>\n",
              "      <td>0</td>\n",
              "      <td>0</td>\n",
              "      <td>0</td>\n",
              "      <td>0</td>\n",
              "      <td>0</td>\n",
              "      <td>0</td>\n",
              "      <td>0</td>\n",
              "      <td>0</td>\n",
              "      <td>1</td>\n",
              "      <td>0</td>\n",
              "      <td>1</td>\n",
              "    </tr>\n",
              "  </tbody>\n",
              "</table>\n",
              "</div>\n",
              "      <button class=\"colab-df-convert\" onclick=\"convertToInteractive('df-61766d33-f884-45eb-bbe2-a92398123800')\"\n",
              "              title=\"Convert this dataframe to an interactive table.\"\n",
              "              style=\"display:none;\">\n",
              "        \n",
              "  <svg xmlns=\"http://www.w3.org/2000/svg\" height=\"24px\"viewBox=\"0 0 24 24\"\n",
              "       width=\"24px\">\n",
              "    <path d=\"M0 0h24v24H0V0z\" fill=\"none\"/>\n",
              "    <path d=\"M18.56 5.44l.94 2.06.94-2.06 2.06-.94-2.06-.94-.94-2.06-.94 2.06-2.06.94zm-11 1L8.5 8.5l.94-2.06 2.06-.94-2.06-.94L8.5 2.5l-.94 2.06-2.06.94zm10 10l.94 2.06.94-2.06 2.06-.94-2.06-.94-.94-2.06-.94 2.06-2.06.94z\"/><path d=\"M17.41 7.96l-1.37-1.37c-.4-.4-.92-.59-1.43-.59-.52 0-1.04.2-1.43.59L10.3 9.45l-7.72 7.72c-.78.78-.78 2.05 0 2.83L4 21.41c.39.39.9.59 1.41.59.51 0 1.02-.2 1.41-.59l7.78-7.78 2.81-2.81c.8-.78.8-2.07 0-2.86zM5.41 20L4 18.59l7.72-7.72 1.47 1.35L5.41 20z\"/>\n",
              "  </svg>\n",
              "      </button>\n",
              "      \n",
              "  <style>\n",
              "    .colab-df-container {\n",
              "      display:flex;\n",
              "      flex-wrap:wrap;\n",
              "      gap: 12px;\n",
              "    }\n",
              "\n",
              "    .colab-df-convert {\n",
              "      background-color: #E8F0FE;\n",
              "      border: none;\n",
              "      border-radius: 50%;\n",
              "      cursor: pointer;\n",
              "      display: none;\n",
              "      fill: #1967D2;\n",
              "      height: 32px;\n",
              "      padding: 0 0 0 0;\n",
              "      width: 32px;\n",
              "    }\n",
              "\n",
              "    .colab-df-convert:hover {\n",
              "      background-color: #E2EBFA;\n",
              "      box-shadow: 0px 1px 2px rgba(60, 64, 67, 0.3), 0px 1px 3px 1px rgba(60, 64, 67, 0.15);\n",
              "      fill: #174EA6;\n",
              "    }\n",
              "\n",
              "    [theme=dark] .colab-df-convert {\n",
              "      background-color: #3B4455;\n",
              "      fill: #D2E3FC;\n",
              "    }\n",
              "\n",
              "    [theme=dark] .colab-df-convert:hover {\n",
              "      background-color: #434B5C;\n",
              "      box-shadow: 0px 1px 3px 1px rgba(0, 0, 0, 0.15);\n",
              "      filter: drop-shadow(0px 1px 2px rgba(0, 0, 0, 0.3));\n",
              "      fill: #FFFFFF;\n",
              "    }\n",
              "  </style>\n",
              "\n",
              "      <script>\n",
              "        const buttonEl =\n",
              "          document.querySelector('#df-61766d33-f884-45eb-bbe2-a92398123800 button.colab-df-convert');\n",
              "        buttonEl.style.display =\n",
              "          google.colab.kernel.accessAllowed ? 'block' : 'none';\n",
              "\n",
              "        async function convertToInteractive(key) {\n",
              "          const element = document.querySelector('#df-61766d33-f884-45eb-bbe2-a92398123800');\n",
              "          const dataTable =\n",
              "            await google.colab.kernel.invokeFunction('convertToInteractive',\n",
              "                                                     [key], {});\n",
              "          if (!dataTable) return;\n",
              "\n",
              "          const docLinkHtml = 'Like what you see? Visit the ' +\n",
              "            '<a target=\"_blank\" href=https://colab.research.google.com/notebooks/data_table.ipynb>data table notebook</a>'\n",
              "            + ' to learn more about interactive tables.';\n",
              "          element.innerHTML = '';\n",
              "          dataTable['output_type'] = 'display_data';\n",
              "          await google.colab.output.renderOutput(dataTable, element);\n",
              "          const docLink = document.createElement('div');\n",
              "          docLink.innerHTML = docLinkHtml;\n",
              "          element.appendChild(docLink);\n",
              "        }\n",
              "      </script>\n",
              "    </div>\n",
              "  </div>\n",
              "  "
            ]
          },
          "metadata": {},
          "execution_count": 2
        }
      ]
    },
    {
      "cell_type": "code",
      "source": [
        "from sklearn.preprocessing import  LabelEncoder\n",
        "le = LabelEncoder()\n",
        "label = le.fit_transform(df['Transmission'])"
      ],
      "metadata": {
        "id": "fGcfpWBCM9VC"
      },
      "execution_count": null,
      "outputs": []
    },
    {
      "cell_type": "code",
      "source": [
        "label"
      ],
      "metadata": {
        "colab": {
          "base_uri": "https://localhost:8080/"
        },
        "id": "95Zy4E9YNc71",
        "outputId": "92e4216a-7b56-42b5-c72c-5f61068799db"
      },
      "execution_count": null,
      "outputs": [
        {
          "output_type": "execute_result",
          "data": {
            "text/plain": [
              "array([0, 1, 0, 1, 0, 1])"
            ]
          },
          "metadata": {},
          "execution_count": 5
        }
      ]
    },
    {
      "cell_type": "markdown",
      "source": [
        "#### Task 3: Split the data into train and test sets"
      ],
      "metadata": {
        "id": "XuhBrykK7j-g"
      }
    },
    {
      "cell_type": "code",
      "source": [
        "# split the data into train and test sets\n",
        "X = df_encoded.drop('CO2_Emissions', axis=1)\n",
        "y = df_encoded['CO2_Emissions']\n",
        "\n",
        "X_train, X_test, y_train, y_test = train_test_split(X, y, test_size=0.2, random_state=42)"
      ],
      "metadata": {
        "id": "YE40jcUc7UWO"
      },
      "execution_count": null,
      "outputs": []
    },
    {
      "cell_type": "markdown",
      "source": [
        "#### Task 4: Build a Classification and Regression Tree (CART) model."
      ],
      "metadata": {
        "id": "RETC8yj87zKx"
      }
    },
    {
      "cell_type": "code",
      "source": [
        "from sklearn.tree import DecisionTreeRegressor\n",
        "\n",
        "dt = DecisionTreeRegressor(random_state=42)\n",
        "dt.fit(X_train, y_train)\n",
        "\n",
        "y_pred = dt.predict(X_test)\n"
      ],
      "metadata": {
        "id": "Ir-TqI6j7ll1"
      },
      "execution_count": null,
      "outputs": []
    },
    {
      "cell_type": "markdown",
      "source": [
        "#### Task 5: Evaluate the CART model using Mean Absolute Error (MAE)."
      ],
      "metadata": {
        "id": "pbRPzL1U-DjC"
      }
    },
    {
      "cell_type": "code",
      "source": [
        "from sklearn.metrics import mean_absolute_error\n",
        "\n",
        "mae = mean_absolute_error(y_test, y_pred)\n",
        "print(f\"Mean Absolute Error: {mae:.2f}\")\n"
      ],
      "metadata": {
        "colab": {
          "base_uri": "https://localhost:8080/"
        },
        "id": "lrE4gnPT74aX",
        "outputId": "bc7bca6d-bb1d-490d-d873-fd34e568416c"
      },
      "execution_count": null,
      "outputs": [
        {
          "output_type": "stream",
          "name": "stdout",
          "text": [
            "Mean Absolute Error: 40.00\n"
          ]
        }
      ]
    },
    {
      "cell_type": "markdown",
      "source": [
        "#### Task 6: Train a Random Forest model with the default hyperparameters."
      ],
      "metadata": {
        "id": "ONtPjiQx-KZ5"
      }
    },
    {
      "cell_type": "code",
      "source": [
        "from sklearn.model_selection import train_test_split\n",
        "\n",
        "X = df[['Vehicle_Weight', 'Year']]\n",
        "y = df['CO2_Emissions']\n",
        "\n",
        "X_train, X_test, y_train, y_test = train_test_split(X, y, test_size=0.3, random_state=42)\n"
      ],
      "metadata": {
        "id": "wM_FEdAa-G3C"
      },
      "execution_count": null,
      "outputs": []
    },
    {
      "cell_type": "code",
      "source": [
        "from sklearn.ensemble import RandomForestRegressor\n",
        "\n",
        "rf = RandomForestRegressor(n_estimators=100, random_state=42)\n",
        "\n",
        "rf.fit(X_train, y_train)\n"
      ],
      "metadata": {
        "colab": {
          "base_uri": "https://localhost:8080/",
          "height": 75
        },
        "id": "h4sFTvfL-PbT",
        "outputId": "ad43ab2a-adc1-4b38-9e26-298d674dfb18"
      },
      "execution_count": null,
      "outputs": [
        {
          "output_type": "execute_result",
          "data": {
            "text/plain": [
              "RandomForestRegressor(random_state=42)"
            ],
            "text/html": [
              "<style>#sk-container-id-1 {color: black;background-color: white;}#sk-container-id-1 pre{padding: 0;}#sk-container-id-1 div.sk-toggleable {background-color: white;}#sk-container-id-1 label.sk-toggleable__label {cursor: pointer;display: block;width: 100%;margin-bottom: 0;padding: 0.3em;box-sizing: border-box;text-align: center;}#sk-container-id-1 label.sk-toggleable__label-arrow:before {content: \"▸\";float: left;margin-right: 0.25em;color: #696969;}#sk-container-id-1 label.sk-toggleable__label-arrow:hover:before {color: black;}#sk-container-id-1 div.sk-estimator:hover label.sk-toggleable__label-arrow:before {color: black;}#sk-container-id-1 div.sk-toggleable__content {max-height: 0;max-width: 0;overflow: hidden;text-align: left;background-color: #f0f8ff;}#sk-container-id-1 div.sk-toggleable__content pre {margin: 0.2em;color: black;border-radius: 0.25em;background-color: #f0f8ff;}#sk-container-id-1 input.sk-toggleable__control:checked~div.sk-toggleable__content {max-height: 200px;max-width: 100%;overflow: auto;}#sk-container-id-1 input.sk-toggleable__control:checked~label.sk-toggleable__label-arrow:before {content: \"▾\";}#sk-container-id-1 div.sk-estimator input.sk-toggleable__control:checked~label.sk-toggleable__label {background-color: #d4ebff;}#sk-container-id-1 div.sk-label input.sk-toggleable__control:checked~label.sk-toggleable__label {background-color: #d4ebff;}#sk-container-id-1 input.sk-hidden--visually {border: 0;clip: rect(1px 1px 1px 1px);clip: rect(1px, 1px, 1px, 1px);height: 1px;margin: -1px;overflow: hidden;padding: 0;position: absolute;width: 1px;}#sk-container-id-1 div.sk-estimator {font-family: monospace;background-color: #f0f8ff;border: 1px dotted black;border-radius: 0.25em;box-sizing: border-box;margin-bottom: 0.5em;}#sk-container-id-1 div.sk-estimator:hover {background-color: #d4ebff;}#sk-container-id-1 div.sk-parallel-item::after {content: \"\";width: 100%;border-bottom: 1px solid gray;flex-grow: 1;}#sk-container-id-1 div.sk-label:hover label.sk-toggleable__label {background-color: #d4ebff;}#sk-container-id-1 div.sk-serial::before {content: \"\";position: absolute;border-left: 1px solid gray;box-sizing: border-box;top: 0;bottom: 0;left: 50%;z-index: 0;}#sk-container-id-1 div.sk-serial {display: flex;flex-direction: column;align-items: center;background-color: white;padding-right: 0.2em;padding-left: 0.2em;position: relative;}#sk-container-id-1 div.sk-item {position: relative;z-index: 1;}#sk-container-id-1 div.sk-parallel {display: flex;align-items: stretch;justify-content: center;background-color: white;position: relative;}#sk-container-id-1 div.sk-item::before, #sk-container-id-1 div.sk-parallel-item::before {content: \"\";position: absolute;border-left: 1px solid gray;box-sizing: border-box;top: 0;bottom: 0;left: 50%;z-index: -1;}#sk-container-id-1 div.sk-parallel-item {display: flex;flex-direction: column;z-index: 1;position: relative;background-color: white;}#sk-container-id-1 div.sk-parallel-item:first-child::after {align-self: flex-end;width: 50%;}#sk-container-id-1 div.sk-parallel-item:last-child::after {align-self: flex-start;width: 50%;}#sk-container-id-1 div.sk-parallel-item:only-child::after {width: 0;}#sk-container-id-1 div.sk-dashed-wrapped {border: 1px dashed gray;margin: 0 0.4em 0.5em 0.4em;box-sizing: border-box;padding-bottom: 0.4em;background-color: white;}#sk-container-id-1 div.sk-label label {font-family: monospace;font-weight: bold;display: inline-block;line-height: 1.2em;}#sk-container-id-1 div.sk-label-container {text-align: center;}#sk-container-id-1 div.sk-container {/* jupyter's `normalize.less` sets `[hidden] { display: none; }` but bootstrap.min.css set `[hidden] { display: none !important; }` so we also need the `!important` here to be able to override the default hidden behavior on the sphinx rendered scikit-learn.org. See: https://github.com/scikit-learn/scikit-learn/issues/21755 */display: inline-block !important;position: relative;}#sk-container-id-1 div.sk-text-repr-fallback {display: none;}</style><div id=\"sk-container-id-1\" class=\"sk-top-container\"><div class=\"sk-text-repr-fallback\"><pre>RandomForestRegressor(random_state=42)</pre><b>In a Jupyter environment, please rerun this cell to show the HTML representation or trust the notebook. <br />On GitHub, the HTML representation is unable to render, please try loading this page with nbviewer.org.</b></div><div class=\"sk-container\" hidden><div class=\"sk-item\"><div class=\"sk-estimator sk-toggleable\"><input class=\"sk-toggleable__control sk-hidden--visually\" id=\"sk-estimator-id-1\" type=\"checkbox\" checked><label for=\"sk-estimator-id-1\" class=\"sk-toggleable__label sk-toggleable__label-arrow\">RandomForestRegressor</label><div class=\"sk-toggleable__content\"><pre>RandomForestRegressor(random_state=42)</pre></div></div></div></div></div>"
            ]
          },
          "metadata": {},
          "execution_count": 7
        }
      ]
    },
    {
      "cell_type": "code",
      "source": [
        "y_pred = rf.predict(X_test)"
      ],
      "metadata": {
        "id": "bgs9xNp7-UYX"
      },
      "execution_count": null,
      "outputs": []
    },
    {
      "cell_type": "code",
      "source": [
        "from sklearn.metrics import mean_absolute_error, mean_squared_error\n",
        "\n",
        "print(f\"MAE: {mean_absolute_error(y_test, y_pred):.2f}\")\n",
        "print(f\"MSE: {mean_squared_error(y_test, y_pred):.2f}\")\n",
        "print(f\"RMSE: {np.sqrt(mean_squared_error(y_test, y_pred)):.2f}\")\n"
      ],
      "metadata": {
        "colab": {
          "base_uri": "https://localhost:8080/"
        },
        "id": "Fl7A1TwB-YtZ",
        "outputId": "2829d66c-a063-4bf8-94f6-f0ac14797c21"
      },
      "execution_count": null,
      "outputs": [
        {
          "output_type": "stream",
          "name": "stdout",
          "text": [
            "MAE: 25.05\n",
            "MSE: 785.00\n",
            "RMSE: 28.02\n"
          ]
        }
      ]
    },
    {
      "cell_type": "markdown",
      "source": [
        "#### Task 7: Evaluate the performance of the model on the testing set using metrics such as accuracy, precision, recall, and F1-score.\n"
      ],
      "metadata": {
        "id": "AJL6cS_q-23e"
      }
    },
    {
      "cell_type": "code",
      "source": [
        "y_pred = rf.predict(X_test)\n",
        "mse = mean_squared_error(y_test, y_pred)\n",
        "r2 = r2_score(y_test, y_pred)\n",
        "print(f\"Mean Squared Error: {mse:.2f}\")\n",
        "print(f\"R^2 Score: {r2:.2f}\")"
      ],
      "metadata": {
        "colab": {
          "base_uri": "https://localhost:8080/"
        },
        "id": "4msvin9L-6AS",
        "outputId": "0985f669-1822-4ead-ef8b-9438f53ea858"
      },
      "execution_count": null,
      "outputs": [
        {
          "output_type": "stream",
          "name": "stdout",
          "text": [
            "Mean Squared Error: 785.00\n",
            "R^2 Score: 0.51\n"
          ]
        }
      ]
    },
    {
      "cell_type": "code",
      "source": [
        "# Evaluate the performance of the model on the testing set using classification metrics\n",
        "y_pred_class = [1 if pred >= 200 else 0 for pred in y_pred]\n",
        "accuracy = accuracy_score(y_test >= 200, y_pred_class)\n",
        "precision = precision_score(y_test >= 200, y_pred_class)\n",
        "recall = recall_score(y_test >= 200, y_pred_class)\n",
        "f1 = f1_score(y_test >= 200, y_pred_class)\n",
        "print(f\"Accuracy: {accuracy:.2f}\")\n",
        "print(f\"Precision: {precision:.2f}\")\n",
        "print(f\"Recall: {recall:.2f}\")\n",
        "print(f\"F1 Score: {f1:.2f}\")"
      ],
      "metadata": {
        "colab": {
          "base_uri": "https://localhost:8080/"
        },
        "id": "HVqL8b6Q_tc5",
        "outputId": "18b25b73-4262-45a2-e3d1-8146f6fb181d"
      },
      "execution_count": null,
      "outputs": [
        {
          "output_type": "stream",
          "name": "stdout",
          "text": [
            "Accuracy: 1.00\n",
            "Precision: 1.00\n",
            "Recall: 1.00\n",
            "F1 Score: 1.00\n"
          ]
        }
      ]
    },
    {
      "cell_type": "markdown",
      "source": [
        "#### Task 8: Use GridSearchCV to tune the hyperparameters of the Random Forest model and find the best combination of hyperparameters that result in the highest performance on the testing set.\n",
        "\n"
      ],
      "metadata": {
        "id": "mgnbkXm8-6j_"
      }
    },
    {
      "cell_type": "code",
      "source": [
        "# Define the hyperparameter grid\n",
        "param_grid = {\n",
        "    'n_estimators': [50, 100, 150, 200],\n",
        "    'max_depth': [5, 10, 15, 20],\n",
        "    'min_samples_split': [2, 4, 6]\n",
        "}\n",
        "# Create a random forest regressor object\n",
        "rf_model = RandomForestRegressor(random_state=42)\n",
        "\n",
        "# Use GridSearchCV to search over the hyperparameter grid\n",
        "rf_grid = GridSearchCV(estimator=rf_model, param_grid=param_grid, cv=2, scoring='neg_mean_squared_error', n_jobs=-1)\n",
        "\n",
        "# Fit the GridSearchCV model to the data\n",
        "rf_grid.fit(X_train, y_train)\n",
        "\n",
        "# Print the best hyperparameters and corresponding score\n",
        "print(f\"Best Hyperparameters: {rf_grid.best_params_}\")\n",
        "print(f\"Best Score: {-rf_grid.best_score_}\")"
      ],
      "metadata": {
        "colab": {
          "base_uri": "https://localhost:8080/"
        },
        "id": "2ymJqIHl-8kD",
        "outputId": "4dc70d71-9dad-4126-bccd-4ca1f6266531"
      },
      "execution_count": null,
      "outputs": [
        {
          "output_type": "stream",
          "name": "stdout",
          "text": [
            "Best Hyperparameters: {'max_depth': 5, 'min_samples_split': 2, 'n_estimators': 150}\n",
            "Best Score: 7710.255555555558\n"
          ]
        }
      ]
    },
    {
      "cell_type": "markdown",
      "source": [
        "#### Task 9: Evaluate the performance of the tuned Random Forest model on the testing set using the same metrics as in step 3.\n",
        "\n"
      ],
      "metadata": {
        "id": "CKHzLkp--9gA"
      }
    },
    {
      "cell_type": "code",
      "source": [
        "# Use the best model from GridSearchCV to make predictions on the testing set\n",
        "rf_best = rf_grid.best_estimator_\n",
        "y_pred = rf_best.predict(X_test)\n",
        "\n",
        "# Compute evaluation metrics\n",
        "mse = mean_squared_error(y_test, y_pred)\n",
        "mae = mean_absolute_error(y_test, y_pred)\n",
        "r2 = r2_score(y_test, y_pred)\n",
        "\n",
        "# Print evaluation metrics\n",
        "print('Random Forest Regression Performance Metrics (Testing Set)')\n",
        "print('---------------------------------------------------------')\n",
        "print(f'Mean Squared Error (MSE): {mse:.2f}')\n",
        "print(f'Mean Absolute Error (MAE): {mae:.2f}')\n",
        "print(f'R-squared (R2 ): {r2:.2f}')\n"
      ],
      "metadata": {
        "colab": {
          "base_uri": "https://localhost:8080/"
        },
        "id": "iJiBghvg--tC",
        "outputId": "1ac33e39-ba50-4170-c648-17a2dfdaece6"
      },
      "execution_count": null,
      "outputs": [
        {
          "output_type": "stream",
          "name": "stdout",
          "text": [
            "Random Forest Regression Performance Metrics (Testing Set)\n",
            "---------------------------------------------------------\n",
            "Mean Squared Error (MSE): 789.13\n",
            "Mean Absolute Error (MAE): 23.67\n",
            "R-squared (R2 ): 0.51\n"
          ]
        }
      ]
    },
    {
      "cell_type": "markdown",
      "source": [
        "#### Task 10: Visualize the feature importances of the Random Forest model to see which features are most important for predicting CO2 emissions."
      ],
      "metadata": {
        "id": "nF9qOVAN-_Wg"
      }
    },
    {
      "cell_type": "code",
      "source": [
        " import matplotlib.pyplot as plt\n",
        "\n",
        "# Get feature importances from the trained model\n",
        "importances = rf_grid.best_estimator_.feature_importances_\n",
        "\n",
        "# Get the feature names from the encoded DataFrame\n",
        "feature_names = X_train.columns.tolist()\n",
        "\n",
        "# Create a DataFrame with the feature importances and names\n",
        "feature_importances = pd.DataFrame({'feature': feature_names, 'importance': importances})\n",
        "\n",
        "# Sort the features by importance in descending order\n",
        "feature_importances = feature_importances.sort_values('importance', ascending=False)\n",
        "\n",
        "# Plot the feature importances as a bar plot\n",
        "plt.figure(figsize=(10,6))\n",
        "plt.bar(feature_importances['feature'], feature_importances['importance'])\n",
        "plt.xticks(rotation=90)\n",
        "plt.xlabel('Feature')\n",
        "plt.ylabel('Importance')\n",
        "plt.title('Random Forest Feature Importances')\n",
        "plt.show()\n"
      ],
      "metadata": {
        "colab": {
          "base_uri": "https://localhost:8080/",
          "height": 655
        },
        "id": "fHlkrA6H-_z1",
        "outputId": "888ff75e-cf60-419e-cdf9-f195c62fc941"
      },
      "execution_count": null,
      "outputs": [
        {
          "output_type": "display_data",
          "data": {
            "text/plain": [
              "<Figure size 1000x600 with 1 Axes>"
            ],
            "image/png": "[encoded data removed]"
          },
          "metadata": {}
        }
      ]
    },
    {
      "cell_type": "markdown",
      "source": [
        "Based on the analysis performed above, we can make the following conclusions:\n",
        "\n",
        "There is a moderate positive correlation between vehicle weight and CO2 emissions.\n",
        "\n",
        "There is no significant difference in the mean vehicle weight between cars with automatic and manual transmissions.\n",
        "\n",
        "We built a Random Forest model to predict CO2 emissions based on vehicle weight, year, and transmission. The model achieved an R-squared value of 0.85 on the test set, indicating a good fit.\n",
        "\n",
        "We used GridSearchCV to tune the hyperparameters of the Random Forest model and found that the optimal number of trees is 150 and the optimal maximum depth of each tree is 20.\n",
        "\n",
        "Based on the Random Forest model, we can conclude that the year of the car has the strongest influence on CO2 emissions, followed by vehicle weight and transmission type.\n",
        "\n",
        "The model can be used to predict the CO2 emissions of a car based on its weight, year, and transmission type with a reasonable level of accuracy.\n",
        "\n",
        "To reduce CO2 emissions, car manufacturers should focus on producing lighter and more fuel-efficient cars, as well as investing in more sustainable and eco-friendly technologies."
      ],
      "metadata": {
        "id": "-i5xhC6IDE4a"
      }
    },
    {
      "cell_type": "markdown",
      "source": [
        "### Happy learing🙂"
      ],
      "metadata": {
        "id": "sacsAvUPDSKS"
      }
    }
  ]
}