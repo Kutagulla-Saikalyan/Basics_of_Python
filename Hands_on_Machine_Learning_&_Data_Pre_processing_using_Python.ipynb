{
  "nbformat": 4,
  "nbformat_minor": 0,
  "metadata": {
    "colab": {
      "provenance": [],
      "include_colab_link": true
    },
    "kernelspec": {
      "name": "python3",
      "display_name": "Python 3"
    },
    "language_info": {
      "name": "python"
    }
  },
  "cells": [
    {
      "cell_type": "markdown",
      "metadata": {
        "id": "view-in-github",
        "colab_type": "text"
      },
      "source": [
        "<a href=\"https://colab.research.google.com/github/Kutagulla-Saikalyan/Data_Science/blob/main/Hands_on_Machine_Learning_%26_Data_Pre_processing_using_Python.ipynb\" target=\"_parent\"><img src=\"https://colab.research.google.com/assets/colab-badge.svg\" alt=\"Open In Colab\"/></a>"
      ]
    },
    {
      "cell_type": "markdown",
      "source": [
        "## Lab Flow: Introduction to Machine Learning & Data Pre-processing using Python"
      ],
      "metadata": {
        "id": "ZAUp5o4zHjSu"
      }
    },
    {
      "cell_type": "markdown",
      "source": [
        "### Step 1: Data Pre-processing with Python \n",
        "* Explain what data pre-processing is and why it's necessary for machine learning.\n",
        "* Introduce the different steps of data pre-processing: data cleaning, data integration, data transformation, and data reduction.\n",
        "* Demonstrate how to perform data pre-processing using Python, including loading data from CSV files, handling missing values, encoding categorical variables, and scaling numerical features.\n"
      ],
      "metadata": {
        "id": "HUPPAHCBHjPO"
      }
    },
    {
      "cell_type": "markdown",
      "source": [
        "### Step 2: Machine Learning with Python \n",
        "* Introduce the scikit-learn library, which is a popular machine-learning library in Python.\n",
        "* Explain the basic workflow of a machine learning project with scikit-learn: loading data, splitting data into training and testing sets, choosing a model, training the model, evaluating the model, and making predictions.\n"
      ],
      "metadata": {
        "id": "F5dGXuaxHjMC"
      }
    },
    {
      "cell_type": "markdown",
      "source": [
        "### Step 3: Hands-on questions on Introduction to Machine Learning & Data Pre-processing using Python."
      ],
      "metadata": {
        "id": "c3LuBdcwH2hl"
      }
    },
    {
      "cell_type": "markdown",
      "source": [
        "* Question 1: Load a CSV file into a Pandas DataFrame and handle missing values using mean imputation.\n",
        "\n",
        "* Question 2: Scale the features of a DataFrame using Min-Max normalization.\n",
        "\n",
        "* Question 3: Train a decision tree classifier on a DataFrame and make predictions on new data.\n",
        "\n",
        "* Question 4: What is Missing values and interpolate method give with code example. \n",
        "\n",
        "* Question 5: How we can analyzing standard deviation and variance of the data.\n",
        "\n",
        "* Question 6: Write a code for Time series line plot.\n",
        "\n",
        "* Question 7: Write a code to refers importance of features, how much each feature contributes to the accuracy of a model. \n",
        "\n",
        "* Question 8: What is the difference between categorical and numerical variables?\n",
        "\n",
        "* Question 9: What are outliers in a dataset?\n",
        "\n",
        "* Question 10: What are skewness and kurtosis?\n",
        "\n",
        "* Question 11: What are some common dataframe manipulation tasks in pandas?\n",
        "\n",
        "* Question 12: What is the difference between univariate, bivariate, and multivariate analysis?"
      ],
      "metadata": {
        "id": "s-Y9pV0fHjJD"
      }
    },
    {
      "cell_type": "code",
      "source": [
        "#Question 1: Load a CSV file into a Pandas DataFrame and handle missing values using mean imputation.\n",
        "import pandas as pd\n",
        "import numpy as np\n",
        "\n",
        "# Create a DataFrame with missing values\n",
        "df = pd.DataFrame({'A': [1, 2, np.nan, 4],\n",
        "                   'B': [5, np.nan, 7, 8],\n",
        "                   'C': [9, 10, 11, np.nan]})\n",
        "\n",
        "# Save the DataFrame to a CSV file\n",
        "df.to_csv('missing_values.csv', index=False)\n",
        "\n",
        "# Load the CSV file into a DataFrame\n",
        "df = pd.read_csv('missing_values.csv')\n",
        "\n",
        "# Print the number of missing values in each column\n",
        "print(df.isna().sum())\n",
        "\n",
        "# Replace missing values with column means\n",
        "df = df.fillna(df.mean())\n",
        "\n",
        "# Print the updated DataFrame\n",
        "print(df)"
      ],
      "metadata": {
        "colab": {
          "base_uri": "https://localhost:8080/"
        },
        "id": "Ps3-PRo-bi3l",
        "outputId": "25df714c-2b21-4a61-e510-d5dc6d71d6c9"
      },
      "execution_count": null,
      "outputs": [
        {
          "output_type": "stream",
          "name": "stdout",
          "text": [
            "A    1\n",
            "B    1\n",
            "C    1\n",
            "dtype: int64\n",
            "          A         B     C\n",
            "0  1.000000  5.000000   9.0\n",
            "1  2.000000  6.666667  10.0\n",
            "2  2.333333  7.000000  11.0\n",
            "3  4.000000  8.000000  10.0\n"
          ]
        }
      ]
    },
    {
      "cell_type": "markdown",
      "source": [
        "### Explanation:\n",
        "\n",
        "* In this code, we first use the read_csv() function from the pandas library to load a CSV file called data.csv into a DataFrame called df. We then use the isna() and sum() functions to count the number of missing values in each column of the DataFrame.\n",
        "\n",
        "* Next, we replace the missing values with the mean of each column using the fillna() function with the mean() method. This method calculates the mean of each column and replaces missing values with the corresponding mean value.\n",
        "\n",
        "* Finally, we print the updated DataFrame using the print() function."
      ],
      "metadata": {
        "id": "O8T7hBbkPR7i"
      }
    },
    {
      "cell_type": "code",
      "source": [
        "#Question 2: Scale the features of a DataFrame using Min-Max normalization.\n",
        "from sklearn.preprocessing import MinMaxScaler\n",
        "from sklearn import datasets\n",
        "import pandas as pd\n",
        "\n",
        "# Creating the dataset\n",
        "data = {'Feature1': [0.5, 0.7, 0.6, 0.9, 0.8],\n",
        "        'Feature2': [0.3, 0.4, 0.5, 0.7, 0.6],\n",
        "        'Target': [0, 1, 1, 0, 1]}\n",
        "\n",
        "# Converting the data into a pandas DataFrame\n",
        "df = pd.DataFrame(data)\n",
        "\n",
        "# Create a MinMaxScaler object\n",
        "scaler = MinMaxScaler()\n",
        "\n",
        "# Fit the scaler to the data and transform the data\n",
        "df_scaled = pd.DataFrame(scaler.fit_transform(df), columns=df.columns)\n",
        "\n",
        "# Print the scaled DataFrame\n",
        "print(df_scaled)\n"
      ],
      "metadata": {
        "colab": {
          "base_uri": "https://localhost:8080/"
        },
        "id": "JiDBnoYFLtyx",
        "outputId": "f253e496-5987-4a35-fc27-d4237e993cd0"
      },
      "execution_count": null,
      "outputs": [
        {
          "output_type": "stream",
          "name": "stdout",
          "text": [
            "   Feature1  Feature2  Target\n",
            "0      0.00      0.00     0.0\n",
            "1      0.50      0.25     1.0\n",
            "2      0.25      0.50     1.0\n",
            "3      1.00      1.00     0.0\n",
            "4      0.75      0.75     1.0\n"
          ]
        }
      ]
    },
    {
      "cell_type": "markdown",
      "source": [
        "### Explanation:\n",
        "\n",
        "* We create a MinMaxScaler object from the scikit-learn library, which will be used to scale the features of the DataFrame.\n",
        "\n",
        "* We then use the fit_transform() method of the scaler object to both fit the scaler to the data and transform the data into a scaled DataFrame called df_scaled. The fit_transform() method scales the data so that all features are within the range of 0 and 1.\n",
        "\n",
        "Finally, we print the scaled DataFrame using the print() function.\n"
      ],
      "metadata": {
        "id": "UDgutvieR3wY"
      }
    },
    {
      "cell_type": "code",
      "source": [
        "#Question 3: Train a decision tree classifier on a DataFrame and make predictions on new data.\n",
        "import pandas as pd\n",
        "from sklearn.tree import DecisionTreeClassifier\n",
        "from sklearn.preprocessing import OneHotEncoder\n",
        "\n",
        "# Creating a dataset with some example data\n",
        "data = {\n",
        "    'age': [25, 45, 30, 20, 35, 50],\n",
        "    'income': [50000, 70000, 60000, 40000, 80000, 90000],\n",
        "    'gender': ['M', 'M', 'F', 'M', 'F', 'F'],\n",
        "    'target': [0, 1, 0, 0, 1, 1]\n",
        "}\n",
        "\n",
        "# Create a pandas DataFrame from the data\n",
        "df = pd.DataFrame(data)\n",
        "\n",
        "# Split the data into features and target\n",
        "X_train = df.drop(columns=['target'])\n",
        "y_train = df['target']\n",
        "\n",
        "# Convert categorical feature 'gender' into numeric values\n",
        "encoder = OneHotEncoder()\n",
        "X_train_encoded = encoder.fit_transform(X_train[['gender']])\n",
        "X_train = pd.concat([X_train.drop(columns=['gender']), \n",
        "                     pd.DataFrame(X_train_encoded.toarray(), \n",
        "                                  columns=encoder.get_feature_names_out(['gender']))],\n",
        "                     axis=1)\n",
        "\n",
        "# Create a decision tree classifier object\n",
        "clf = DecisionTreeClassifier()\n",
        "\n",
        "# Train the classifier on the training data\n",
        "clf.fit(X_train, y_train)\n",
        "\n",
        "# Create some new data for predictions\n",
        "new_data = {\n",
        "    'age': [27, 40, 32],\n",
        "    'income': [60000, 50000, 70000],\n",
        "    'gender': ['M', 'F', 'F']\n",
        "}\n",
        "\n",
        "# Create a pandas DataFrame from the new data\n",
        "new_df = pd.DataFrame(new_data)\n",
        "\n",
        "# Convert categorical feature 'gender' into numeric values\n",
        "new_df_encoded = encoder.transform(new_df[['gender']])\n",
        "new_df = pd.concat([new_df.drop(columns=['gender']), \n",
        "                    pd.DataFrame(new_df_encoded.toarray(), \n",
        "                                 columns=encoder.get_feature_names_out(['gender']))],\n",
        "                   axis=1)\n",
        "\n",
        "# Make predictions on the new data\n",
        "y_pred = clf.predict(new_df)\n",
        "\n",
        "# Print the predicted targets\n",
        "print(y_pred)\n"
      ],
      "metadata": {
        "colab": {
          "base_uri": "https://localhost:8080/"
        },
        "id": "aTnwUqzILtvT",
        "outputId": "f1a4625e-3773-4adb-bdf8-8524fb11b04a"
      },
      "execution_count": null,
      "outputs": [
        {
          "output_type": "stream",
          "name": "stdout",
          "text": [
            "[0 1 0]\n"
          ]
        }
      ]
    },
    {
      "cell_type": "markdown",
      "source": [
        "### Explanation:\n",
        "The code starts by creating a sample dataset consisting of features such as age, income, and gender, and a target variable. It then creates a pandas DataFrame from this data and splits it into features (X_train) and target (y_train).\n",
        "\n",
        "Next, it uses OneHotEncoder to convert the categorical feature 'gender' into numeric values, and concatenates the resulting array with the original feature DataFrame. It then creates a decision tree classifier object, trains the classifier on the training data using the fit method, and makes predictions on new data.\n",
        "\n",
        "The new data is created as a dictionary and is converted to a pandas DataFrame. The categorical feature 'gender' is then encoded using the same OneHotEncoder instance created earlier and concatenated with the original feature DataFrame. The predict method is then used to make predictions on this new data, and the results are printed."
      ],
      "metadata": {
        "id": "HsdTZxmXWmQ2"
      }
    },
    {
      "cell_type": "code",
      "source": [
        "#Question 4: What is Missing values and interpolate method give with code example.\n",
        "import pandas as pd\n",
        "\n",
        "# create a dataframe with some missing values\n",
        "data = {\n",
        "    'A': [1, 2, 3, None, 5, 6],\n",
        "    'B': [10, None, 30, 40, 50, 60]\n",
        "}\n",
        "df = pd.DataFrame(data)\n",
        "\n",
        "# interpolate the missing values using linear interpolation\n",
        "df_interpolated = df.interpolate()\n",
        "print(df_interpolated)\n"
      ],
      "metadata": {
        "colab": {
          "base_uri": "https://localhost:8080/"
        },
        "id": "T3urLHdAUFtp",
        "outputId": "7b62b5e4-ad58-490d-a015-cfbebd337845"
      },
      "execution_count": null,
      "outputs": [
        {
          "output_type": "stream",
          "name": "stdout",
          "text": [
            "     A     B\n",
            "0  1.0  10.0\n",
            "1  2.0  20.0\n",
            "2  3.0  30.0\n",
            "3  4.0  40.0\n",
            "4  5.0  50.0\n",
            "5  6.0  60.0\n"
          ]
        }
      ]
    },
    {
      "cell_type": "markdown",
      "source": [
        "* A common issue in datasets is missing values, which can lead to issues with data analysis and modeling. The interpolate method in pandas allows for filling in missing data points with estimated values based on the surrounding data points."
      ],
      "metadata": {
        "id": "rGcBhrPeUOq_"
      }
    },
    {
      "cell_type": "code",
      "source": [
        "#Question 5: How we can analyzing standard deviation and variance of the data.\n",
        "import pandas as pd\n",
        "\n",
        "# create a dataframe with some data\n",
        "data = {\n",
        "    'A': [1, 2, 3, 4, 5],\n",
        "    'B': [10, 20, 30, 40, 50]\n",
        "}\n",
        "df = pd.DataFrame(data)\n",
        "\n",
        "# calculate the standard deviation and variance\n",
        "std_dev = df.std()\n",
        "variance = df.var()\n",
        "print(std_dev)\n",
        "print(variance)\n"
      ],
      "metadata": {
        "colab": {
          "base_uri": "https://localhost:8080/"
        },
        "id": "h6aqDBYrUUa_",
        "outputId": "8e06f9dc-b0d1-47ab-df89-1995a0859e44"
      },
      "execution_count": null,
      "outputs": [
        {
          "output_type": "stream",
          "name": "stdout",
          "text": [
            "A     1.581139\n",
            "B    15.811388\n",
            "dtype: float64\n",
            "A      2.5\n",
            "B    250.0\n",
            "dtype: float64\n"
          ]
        }
      ]
    },
    {
      "cell_type": "markdown",
      "source": [
        "* The standard deviation and variance are important measures of the spread of data in a dataset. The standard deviation is the square root of the variance, and both measures provide insight into how tightly the data is clustered around the mean."
      ],
      "metadata": {
        "id": "59L5oUw1UbUi"
      }
    },
    {
      "cell_type": "code",
      "source": [
        "#Question 6: Write a code for Time series line plot.\n",
        "import pandas as pd\n",
        "import matplotlib.pyplot as plt\n",
        "\n",
        "# create a dataframe with some time series data\n",
        "data = {\n",
        "    'date': pd.date_range('20220101', periods=10),\n",
        "    'value': [10, 15, 13, 18, 20, 25, 23, 28, 30, 35]\n",
        "}\n",
        "df = pd.DataFrame(data)\n",
        "\n",
        "# create a time series line plot\n",
        "plt.plot(df['date'], df['value'])\n",
        "plt.xlabel('Date')\n",
        "plt.ylabel('Value')\n",
        "plt.show()\n"
      ],
      "metadata": {
        "colab": {
          "base_uri": "https://localhost:8080/",
          "height": 279
        },
        "id": "wTwRyJQYUgTw",
        "outputId": "5f8bf65a-5673-496a-ef9d-2ba10bd7afa8"
      },
      "execution_count": null,
      "outputs": [
        {
          "output_type": "display_data",
          "data": {
            "text/plain": [
              "<Figure size 432x288 with 1 Axes>"
            ],
            "image/png": "[encoded data removed]"
          },
          "metadata": {
            "needs_background": "light"
          }
        }
      ]
    },
    {
      "cell_type": "markdown",
      "source": [
        "* A time series line plot is a useful visualization for data that changes over time. This can be useful for identifying trends, seasonal patterns, or other patterns that may not be immediately obvious from the data alone."
      ],
      "metadata": {
        "id": "74NGaVc0UsGj"
      }
    },
    {
      "cell_type": "code",
      "source": [
        "# Question 7: Write a code to refers importance of features, how much each feature contributes to the accuracy of a model. \n",
        "from sklearn.ensemble import RandomForestClassifier\n",
        "import pandas as pd\n",
        "from sklearn.preprocessing import OneHotEncoder\n",
        "\n",
        "# create a dataset with some example data\n",
        "data = {\n",
        "    'age': [25, 45, 30, 20, 35, 50],\n",
        "    'income': [50000, 70000, 60000, 40000, 80000, 90000],\n",
        "    'gender': ['M', 'M', 'F', 'M', 'F', 'F'],\n",
        "    'target': [0, 1, 0, 0, 1, 1]\n",
        "}\n",
        "\n",
        "# create a pandas DataFrame from the data\n",
        "df = pd.DataFrame(data)\n",
        "\n",
        "# split the data into features and target\n",
        "X_train = df.drop(columns=['target'])\n",
        "y_train = df['target'] \n",
        "\n",
        "# Convert categorical feature 'gender' into numeric values\n",
        "encoder = OneHotEncoder()\n",
        "X_train_encoded = encoder.fit_transform(X_train[['gender']])\n",
        "X_train = pd.concat([X_train.drop(columns=['gender']), \n",
        "                     pd.DataFrame(X_train_encoded.toarray(), \n",
        "                                  columns=encoder.get_feature_names_out(['gender']))],\n",
        "                     axis=1)\n",
        "\n",
        "# create a random forest classifier object\n",
        "clf = RandomForestClassifier()\n",
        "\n",
        "# train the classifier on the training data\n",
        "clf.fit(X_train, y_train)\n",
        "\n",
        "# print the feature importances\n",
        "print(clf.feature_importances_)\n",
        "\n"
      ],
      "metadata": {
        "colab": {
          "base_uri": "https://localhost:8080/"
        },
        "id": "aVXTGimLUwjm",
        "outputId": "febb1883-c6f9-4745-b025-ba97c36bf19e"
      },
      "execution_count": null,
      "outputs": [
        {
          "output_type": "stream",
          "name": "stdout",
          "text": [
            "[0.47222222 0.49027778 0.02604167 0.01145833]\n"
          ]
        }
      ]
    },
    {
      "cell_type": "markdown",
      "source": [
        "* In machine learning, the importance of features refers to how much each feature contributes to the accuracy of a model. Feature importance can be used to identify the most important features in a dataset, which can be useful for feature selection and understanding the relationships between features and the target variable."
      ],
      "metadata": {
        "id": "84BL5bjaQesN"
      }
    },
    {
      "cell_type": "markdown",
      "source": [
        "#### Question 8:  What is the difference between categorical and numerical variables?\n",
        "\n",
        "* **Answer:** Categorical variables take on a limited, predefined set of values, while numerical variables can take on any value within a range. Examples of categorical variables include gender, race, and nationality, while examples of numerical variables include age, income, and height."
      ],
      "metadata": {
        "id": "xtS6819aQepZ"
      }
    },
    {
      "cell_type": "markdown",
      "source": [
        "#### Question 9: What are outliers in a dataset?\n",
        "\n",
        "* **Answer:** Outliers are data points that are significantly different from the other data points in a dataset. They can be caused by measurement errors, experimental errors, or simply unusual or extreme values. Outliers can have a significant impact on statistical analyses and machine learning models, and it's important to identify and handle them appropriately."
      ],
      "metadata": {
        "id": "Tf45EPURQeXd"
      }
    },
    {
      "cell_type": "markdown",
      "source": [
        "#### Question 10: What are skewness and kurtosis?\n",
        "\n",
        "* **Answer:** Skewness is a measure of the asymmetry of a distribution, while kurtosis is a measure of the \"peakedness\" of a distribution. A distribution that is perfectly symmetrical has zero skewness, while a distribution that is more heavily skewed to the left or right has negative or positive skewness, respectively. A distribution with high kurtosis has a very sharp peak, while a distribution with low kurtosis has a flatter, more spread-out peak."
      ],
      "metadata": {
        "id": "i8_fWXnUYzLJ"
      }
    },
    {
      "cell_type": "markdown",
      "source": [
        "#### Question 11: What are some common dataframe manipulation tasks in pandas?\n",
        "\n",
        "* **Answer:** Common dataframe manipulation tasks include selecting and filtering specific rows or columns, sorting the data, merging and joining multiple dataframes, grouping and aggregating data based on certain criteria, and transforming and reshaping the data."
      ],
      "metadata": {
        "id": "9JoVRT5mYzHm"
      }
    },
    {
      "cell_type": "markdown",
      "source": [
        "#### Question 12: What is the difference between univariate, bivariate, and multivariate analysis?\n",
        "\n",
        "* **Answer:** \n",
        "* **Univariate** analysis focuses on a single variable and examines its distribution, central tendency, variability, and other characteristics. \n",
        "\n",
        "* **Bivariate** analysis looks at the relationship between two variables, examining how they are related and whether there is a correlation or causation between them. \n",
        "\n",
        "* **Multivariate** analysis involves the analysis of more than two variables at the same time, and may use techniques such as regression, principal component analysis, or cluster analysis to uncover patterns or relationships between the variables."
      ],
      "metadata": {
        "id": "TU_gTf9aYy05"
      }
    },
    {
      "cell_type": "markdown",
      "source": [
        "### <div class=\"alert alert-block alert-success\"> <span  style= \"font-family: Times New Roman\">**Happy learning!** </span> </div>"
      ],
      "metadata": {
        "id": "XQWa3t00Yyxp"
      }
    }
  ]
}