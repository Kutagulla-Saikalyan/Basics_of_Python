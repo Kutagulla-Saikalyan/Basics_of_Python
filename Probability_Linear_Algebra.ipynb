{
  "cells": [
    {
      "cell_type": "markdown",
      "id": "912e337a",
      "metadata": {
        "id": "912e337a"
      },
      "source": [
        "# <div class=\"alert alert-block alert-info\"> <span style=\"font-family: Times New Roman\">Linear Algebra </span> </div>"
      ]
    },
    {
      "cell_type": "markdown",
      "id": "9bb6c97d",
      "metadata": {
        "id": "9bb6c97d"
      },
      "source": [
        "Linear Algebra is a branch of mathematics that is extremely useful in data science and machine learning. Linear algebra is the most important math skill in machine learning. Most machine learning models can be expressed in matrix form. A dataset itself is often represented as a matrix. Linear algebra is used in data preprocessing, data transformation, and model evaluation."
      ]
    },
    {
      "cell_type": "markdown",
      "source": [
        "- **Solving equations**: Data scientists often use algebra to solve complex equations, which can be used to predict future trends, identify patterns, and make informed decisions.\n",
        "\n",
        "- **Linear algebra**: Linear algebra is used to analyze linear equations and systems of equations, which are commonly found in data science. Linear algebra is also used to perform operations such as matrix multiplication and inversion, which are fundamental to many machine learning algorithms.\n",
        "\n",
        "- **Probability and statistics**: Algebra is used to understand the principles of probability and statistics, which are essential to data science. These principles are used to interpret data, draw conclusions, and make predictions.\n",
        "\n",
        "- **Data transformation**: Algebraic operations such as scaling, translation, and rotation are used to transform data into a more meaningful format. These transformations help in data visualization, clustering, and classification.\n",
        "\n",
        "- **Optimization**: Algebra is used to optimize mathematical models and algorithms. This helps data scientists to find the best possible solution to a problem, given a set of constraints."
      ],
      "metadata": {
        "id": "cTSK6DByQ-rc"
      },
      "id": "cTSK6DByQ-rc"
    },
    {
      "cell_type": "markdown",
      "id": "71bb26f8",
      "metadata": {
        "id": "71bb26f8"
      },
      "source": [
        "__You can use numpy, scipy for the following examples__"
      ]
    },
    {
      "cell_type": "markdown",
      "id": "69c70f61",
      "metadata": {
        "id": "69c70f61"
      },
      "source": [
        "__Q1. Given Matrix A below, calculate the eigen values of the matrix using Python.__"
      ]
    },
    {
      "cell_type": "code",
      "execution_count": null,
      "id": "c6f72d79",
      "metadata": {
        "colab": {
          "base_uri": "https://localhost:8080/"
        },
        "id": "c6f72d79",
        "outputId": "b3f7b6c0-b542-4439-9100-fe7ca182657c"
      },
      "outputs": [
        {
          "name": "stdout",
          "output_type": "stream",
          "text": [
            "Eigenvalues: [3.41421356 2.         0.58578644]\n"
          ]
        }
      ],
      "source": [
        "import numpy as np\n",
        "\n",
        "# Define the matrix A\n",
        "A = np.array([[2, 1, 0], [1, 2, 1], [0, 1, 2]])\n",
        "\n",
        "# Calculate the eigenvalues of A\n",
        "eigenvalues, eigenvectors = np.linalg.eig(A)\n",
        "\n",
        "print(\"Eigenvalues:\", eigenvalues)\n"
      ]
    },
    {
      "cell_type": "markdown",
      "id": "qakY8MYB7QJX",
      "metadata": {
        "id": "qakY8MYB7QJX"
      },
      "source": [
        "So the eigenvalues of matrix A are 3.41421356, 2, and 0.58578644."
      ]
    },
    {
      "cell_type": "markdown",
      "id": "5432e8d2",
      "metadata": {
        "id": "5432e8d2"
      },
      "source": [
        "__Q2. Given Matrix A below, calculate the eigen vectors of the matrix using Python.__"
      ]
    },
    {
      "cell_type": "code",
      "execution_count": null,
      "id": "7cabf7bd",
      "metadata": {
        "colab": {
          "base_uri": "https://localhost:8080/"
        },
        "id": "7cabf7bd",
        "outputId": "c126434e-c7ca-42d6-e969-12b4f3d5e4e9"
      },
      "outputs": [
        {
          "name": "stdout",
          "output_type": "stream",
          "text": [
            "Eigenvectors:\n",
            "[0.68302051 0.73039919]\n",
            "[-0.58049671  0.81426259]\n"
          ]
        }
      ],
      "source": [
        "# Define the matrix A\n",
        "A = np.array([[5, 6], [9, 3]])\n",
        "\n",
        "# Calculate the eigenvectors of A\n",
        "eigenvalues, eigenvectors = np.linalg.eig(A)\n",
        "\n",
        "print(\"Eigenvectors:\")\n",
        "for i in range(len(eigenvectors)):\n",
        "    print(eigenvectors[:,i])\n"
      ]
    },
    {
      "cell_type": "markdown",
      "id": "7c8dcc50",
      "metadata": {
        "id": "7c8dcc50"
      },
      "source": [
        "__Q3. Given Matrix A above, calculate the transpose of the matrix using numpy and without using numpy.__"
      ]
    },
    {
      "cell_type": "code",
      "execution_count": null,
      "id": "b6f3d9be",
      "metadata": {
        "colab": {
          "base_uri": "https://localhost:8080/"
        },
        "id": "b6f3d9be",
        "outputId": "76402ed3-89d4-49e8-d637-b860e6d0e6bd"
      },
      "outputs": [
        {
          "name": "stdout",
          "output_type": "stream",
          "text": [
            "Matrix\n",
            " [[7 7 3]\n",
            " [2 9 6]\n",
            " [0 5 1]]\n",
            "\n",
            "Transpose of A using NumPy:\n",
            " [[7 2 0]\n",
            " [7 9 5]\n",
            " [3 6 1]]\n"
          ]
        }
      ],
      "source": [
        "# Define the matrix A\n",
        "A = np.array([[7, 7, 3], [2, 9, 6], [0, 5, 1]])\n",
        "\n",
        "print(\"Matrix\\n\", A)\n",
        "# Calculate the transpose of A using NumPy\n",
        "A_transpose = np.transpose(A)\n",
        "\n",
        "print(\"\\nTranspose of A using NumPy:\\n\", A_transpose)\n"
      ]
    },
    {
      "cell_type": "markdown",
      "id": "uTZb6tYUP4eP",
      "metadata": {
        "id": "uTZb6tYUP4eP"
      },
      "source": [
        "**Without using NumPy**"
      ]
    },
    {
      "cell_type": "code",
      "execution_count": null,
      "id": "IxSvboCtPs99",
      "metadata": {
        "colab": {
          "base_uri": "https://localhost:8080/"
        },
        "id": "IxSvboCtPs99",
        "outputId": "886a70bd-d0d3-46cd-cbec-3362da559f18"
      },
      "outputs": [
        {
          "name": "stdout",
          "output_type": "stream",
          "text": [
            "[[7, 2, 0], [7, 9, 5], [3, 6, 1]]\n"
          ]
        }
      ],
      "source": [
        "# define the matrix A\n",
        "A = [[7, 7, 3], [2, 9, 6], [0, 5, 1]]\n",
        "\n",
        "# define an empty matrix B with switched dimensions\n",
        "B = [[0, 0, 0], [0, 0, 0], [0, 0, 0]]\n",
        "\n",
        "# iterate through the rows of A\n",
        "for i in range(len(A)):\n",
        "    # iterate through the columns of A\n",
        "    for j in range(len(A[0])):\n",
        "        # switch the rows and columns and store the result in B\n",
        "        B[j][i] = A[i][j]\n",
        "\n",
        "# print the transpose matrix B\n",
        "print(B)"
      ]
    },
    {
      "cell_type": "markdown",
      "id": "9d39b9bb",
      "metadata": {
        "id": "9d39b9bb"
      },
      "source": [
        "__Q4. Given Matrix A above, calculate the trace of the matrix using numpy and without using numpy.__"
      ]
    },
    {
      "cell_type": "markdown",
      "id": "5FmLS1gVD_Xw",
      "metadata": {
        "id": "5FmLS1gVD_Xw"
      },
      "source": [
        "**Using NumPy**"
      ]
    },
    {
      "cell_type": "code",
      "execution_count": null,
      "id": "27be480b",
      "metadata": {
        "colab": {
          "base_uri": "https://localhost:8080/"
        },
        "id": "27be480b",
        "outputId": "793ac144-4464-43db-a171-12b923e110c5"
      },
      "outputs": [
        {
          "name": "stdout",
          "output_type": "stream",
          "text": [
            "Trace of A using NumPy: 17\n"
          ]
        }
      ],
      "source": [
        "# Define the matrix A\n",
        "A = np.array([[7, 7, 3], [2, 9, 6], [0, 5, 1]])\n",
        "\n",
        "# Calculate the trace of A using NumPy\n",
        "A_trace = np.trace(A)\n",
        "\n",
        "print(\"Trace of A using NumPy:\", A_trace)\n"
      ]
    },
    {
      "cell_type": "markdown",
      "id": "XOhUzS-lEFO_",
      "metadata": {
        "id": "XOhUzS-lEFO_"
      },
      "source": [
        "**Without using NumPy**"
      ]
    },
    {
      "cell_type": "code",
      "execution_count": null,
      "id": "64bb787b",
      "metadata": {
        "colab": {
          "base_uri": "https://localhost:8080/"
        },
        "id": "64bb787b",
        "outputId": "a73a8074-b399-4c12-a2c5-0a620a72df99"
      },
      "outputs": [
        {
          "name": "stdout",
          "output_type": "stream",
          "text": [
            "Trace of A without using NumPy: 17\n"
          ]
        }
      ],
      "source": [
        "# Define the matrix A\n",
        "A = [[7, 7, 3], [2, 9, 6], [0, 5, 1]]\n",
        "\n",
        "# Calculate the trace of A without using NumPy\n",
        "A_trace = 0\n",
        "for i in range(len(A)):\n",
        "    A_trace += A[i][i]\n",
        "\n",
        "print(\"Trace of A without using NumPy:\", A_trace)\n"
      ]
    },
    {
      "cell_type": "markdown",
      "id": "0f84916b",
      "metadata": {
        "id": "0f84916b"
      },
      "source": [
        "__Q5. Given Matrix A above, calculate the inverse of the matrix using numpy.__"
      ]
    },
    {
      "cell_type": "code",
      "execution_count": null,
      "id": "ea982c90",
      "metadata": {
        "colab": {
          "base_uri": "https://localhost:8080/"
        },
        "id": "ea982c90",
        "outputId": "5ef2b101-dfd3-4adb-9118-4f7557a62a81"
      },
      "outputs": [
        {
          "name": "stdout",
          "output_type": "stream",
          "text": [
            "Inverse of A using NumPy:\n",
            " [[ 0.16030534 -0.0610687  -0.11450382]\n",
            " [ 0.01526718 -0.05343511  0.27480916]\n",
            " [-0.07633588  0.26717557 -0.3740458 ]]\n"
          ]
        }
      ],
      "source": [
        "# Define the matrix A\n",
        "A = np.array([[7, 7, 3], [2, 9, 6], [0, 5, 1]])\n",
        "\n",
        "# Calculate the inverse of A using NumPy\n",
        "A_inv = np.linalg.inv(A)\n",
        "\n",
        "print(\"Inverse of A using NumPy:\\n\", A_inv)\n"
      ]
    },
    {
      "cell_type": "markdown",
      "id": "bba86b66",
      "metadata": {
        "id": "bba86b66"
      },
      "source": [
        "__Q6. Given Matrix A above, calculate the determinant of the matrix using numpy.__"
      ]
    },
    {
      "cell_type": "code",
      "execution_count": null,
      "id": "1ad25eca",
      "metadata": {
        "colab": {
          "base_uri": "https://localhost:8080/"
        },
        "id": "1ad25eca",
        "outputId": "dd421917-cbbf-4a84-a1af-1824cfe8de8e"
      },
      "outputs": [
        {
          "name": "stdout",
          "output_type": "stream",
          "text": [
            "Determinant of A using NumPy: -130.99999999999994\n"
          ]
        }
      ],
      "source": [
        "# Define the matrix A\n",
        "A = np.array([[7, 7, 3], [2, 9, 6], [0, 5, 1]])\n",
        "\n",
        "# Calculate the determinant of A using NumPy\n",
        "A_det = np.linalg.det(A)\n",
        "\n",
        "print(\"Determinant of A using NumPy:\", A_det)\n"
      ]
    },
    {
      "cell_type": "code",
      "execution_count": null,
      "id": "6ddefe2e",
      "metadata": {
        "id": "6ddefe2e"
      },
      "outputs": [],
      "source": []
    },
    {
      "cell_type": "markdown",
      "id": "663510ac",
      "metadata": {
        "id": "663510ac"
      },
      "source": [
        "__Q7. Given Matrix A,B below, calculate the dot product of the matrices using numpy and without using numpy.__"
      ]
    },
    {
      "cell_type": "code",
      "execution_count": null,
      "id": "2cefa346",
      "metadata": {
        "colab": {
          "base_uri": "https://localhost:8080/"
        },
        "id": "2cefa346",
        "outputId": "de60e627-4913-4a53-e6e1-e80cfb61b34b"
      },
      "outputs": [
        {
          "name": "stdout",
          "output_type": "stream",
          "text": [
            "Dot product of A and B using NumPy:\n",
            " [[3587 6410 8840]\n",
            " [3345 6062 8296]\n",
            " [2153 4237 5541]]\n"
          ]
        }
      ],
      "source": [
        "# Define the matrices A and B\n",
        "A = np.array([[35, 46, 67], [33, 42, 65], [24, 23, 51]])\n",
        "B = np.array([[23, 43, 54], [43, 44, 87], [12, 43, 44]])\n",
        "\n",
        "# Calculate the dot product of A and B using NumPy\n",
        "C = np.dot(A, B)\n",
        "\n",
        "print(\"Dot product of A and B using NumPy:\\n\", C)\n"
      ]
    },
    {
      "cell_type": "markdown",
      "id": "23g5P0eXG_AB",
      "metadata": {
        "id": "23g5P0eXG_AB"
      },
      "source": [
        "Whithout using library"
      ]
    },
    {
      "cell_type": "code",
      "execution_count": null,
      "id": "4clE-EYWG5Ky",
      "metadata": {
        "colab": {
          "base_uri": "https://localhost:8080/"
        },
        "id": "4clE-EYWG5Ky",
        "outputId": "05efb9e6-2295-41a3-f176-20eb36021353"
      },
      "outputs": [
        {
          "name": "stdout",
          "output_type": "stream",
          "text": [
            "Dot product of A and B without NumPy:\n",
            " [[3587, 6410, 8840], [3345, 6062, 8296], [2153, 4237, 5541]]\n"
          ]
        }
      ],
      "source": [
        "# Define a function to calculate dot product of two matrices\n",
        "def dot_product(A, B):\n",
        "    C = [[0 for _ in range(len(B[0]))] for _ in range(len(A))]\n",
        "    for i in range(len(A)):\n",
        "        for j in range(len(B[0])):\n",
        "            for k in range(len(B)):\n",
        "                C[i][j] += A[i][k] * B[k][j]\n",
        "    return C\n",
        "\n",
        "# Define the matrices A and B\n",
        "A = [[35, 46, 67], [33, 42, 65], [24, 23, 51]]\n",
        "B = [[23, 43, 54], [43, 44, 87], [12, 43, 44]]\n",
        "\n",
        "# Calculate the dot product of A and B using the defined function\n",
        "C = dot_product(A, B)\n",
        "\n",
        "print(\"Dot product of A and B without NumPy:\\n\", C)\n"
      ]
    },
    {
      "cell_type": "markdown",
      "id": "fbed0189",
      "metadata": {
        "id": "fbed0189"
      },
      "source": [
        "__Q8. Given Matrix A,B above, calculate the cross product of the matrices using numpy and without using numpy.__"
      ]
    },
    {
      "cell_type": "code",
      "execution_count": null,
      "id": "20f350a0",
      "metadata": {
        "colab": {
          "base_uri": "https://localhost:8080/"
        },
        "id": "20f350a0",
        "outputId": "4dc95249-cdf0-4f85-d172-dd4aa38f8d68"
      },
      "outputs": [
        {
          "name": "stdout",
          "output_type": "stream",
          "text": [
            "[[ 805 1978 3618]\n",
            " [1419 1848 5655]\n",
            " [ 288  989 2244]]\n"
          ]
        }
      ],
      "source": [
        "A = np.array([[35, 46, 67],\n",
        "              [33, 42, 65],\n",
        "              [24, 23, 51]])\n",
        "\n",
        "B = np.array([[23, 43, 54],\n",
        "              [43, 44, 87],\n",
        "              [12, 43, 44]])\n",
        "\n",
        "C = np.multiply(A, B)  # element-wise multiplication\n",
        "print(C)\n"
      ]
    },
    {
      "cell_type": "markdown",
      "id": "cM45evpkGw0l",
      "metadata": {
        "id": "cM45evpkGw0l"
      },
      "source": [
        "Without using library"
      ]
    },
    {
      "cell_type": "code",
      "execution_count": null,
      "id": "9b83080b",
      "metadata": {
        "colab": {
          "base_uri": "https://localhost:8080/"
        },
        "id": "9b83080b",
        "outputId": "35b369c0-bd3f-4642-8b49-a130df70a0fc"
      },
      "outputs": [
        {
          "name": "stdout",
          "output_type": "stream",
          "text": [
            "[[805, 1978, 3618], [1419, 1848, 5655], [288, 989, 2244]]\n"
          ]
        }
      ],
      "source": [
        "A = [[35, 46, 67],\n",
        "     [33, 42, 65],\n",
        "     [24, 23, 51]]\n",
        "\n",
        "B = [[23, 43, 54],\n",
        "     [43, 44, 87],\n",
        "     [12, 43, 44]]\n",
        "\n",
        "C = [[0, 0, 0],\n",
        "     [0, 0, 0],\n",
        "     [0, 0, 0]]\n",
        "\n",
        "for i in range(len(A)):\n",
        "    for j in range(len(B)):\n",
        "        C[i][j] = A[i][j] * B[i][j]\n",
        "\n",
        "print(C)\n"
      ]
    },
    {
      "cell_type": "markdown",
      "id": "e72b9f4e",
      "metadata": {
        "id": "e72b9f4e"
      },
      "source": [
        "__Q9. Given two vectors a,b calculate the inner product of the vectors using numpy.__"
      ]
    },
    {
      "cell_type": "code",
      "execution_count": null,
      "id": "91fd30c7",
      "metadata": {
        "colab": {
          "base_uri": "https://localhost:8080/"
        },
        "id": "91fd30c7",
        "outputId": "eec6fde8-aefd-4cb1-c244-c70f8736196f"
      },
      "outputs": [
        {
          "name": "stdout",
          "output_type": "stream",
          "text": [
            "Inner product of the said vectors:\n",
            " 4\n"
          ]
        }
      ],
      "source": [
        "a = np.array([1, 2, 5])\n",
        "b = np.array([2, 1, 0])\n",
        "\n",
        "inner_product = np.dot(a, b)\n",
        "print(\"Inner product of the said vectors:\\n\",inner_product)\n"
      ]
    },
    {
      "cell_type": "markdown",
      "id": "467cd713",
      "metadata": {
        "id": "467cd713"
      },
      "source": [
        "__Q10. Given two matrices x,y calculate the inner product of the matrices using numpy.__"
      ]
    },
    {
      "cell_type": "code",
      "execution_count": null,
      "id": "659c25ff",
      "metadata": {
        "colab": {
          "base_uri": "https://localhost:8080/"
        },
        "id": "659c25ff",
        "outputId": "58a54dbf-4a63-4a21-f4e8-c3dc93faf94d"
      },
      "outputs": [
        {
          "name": "stdout",
          "output_type": "stream",
          "text": [
            "Inner product of the said vectors:\n",
            " [[ 24  27  30]\n",
            " [ 78  90 102]\n",
            " [132 153 174]]\n"
          ]
        }
      ],
      "source": [
        "x = np.array([[0, 1, 2], [3, 4, 5], [6, 7, 8]])\n",
        "y = np.array([[3, 4, 5], [6, 7, 8], [9, 10, 11]])\n",
        "\n",
        "inner_product = np.matmul(x, y)\n",
        "print(\"Inner product of the said vectors:\\n\",inner_product)\n"
      ]
    },
    {
      "cell_type": "markdown",
      "id": "d1a93af3",
      "metadata": {
        "id": "d1a93af3"
      },
      "source": [
        "__Q.11 Given two matrices A,B calculate the multiplication using numpy.__"
      ]
    },
    {
      "cell_type": "code",
      "execution_count": null,
      "id": "221ba96f",
      "metadata": {
        "colab": {
          "base_uri": "https://localhost:8080/"
        },
        "id": "221ba96f",
        "outputId": "90d4d794-f9be-4055-9617-76948e8f7278"
      },
      "outputs": [
        {
          "name": "stdout",
          "output_type": "stream",
          "text": [
            "Result of the said matrix multiplication:\n",
            " [[1 2]\n",
            " [3 4]]\n"
          ]
        }
      ],
      "source": [
        "A = np.array([[1, 0], [0, 1]])\n",
        "B = np.array([[1, 2], [3, 4]])\n",
        "\n",
        "C = np.matmul(A, B)\n",
        "print(\"Result of the said matrix multiplication:\\n\",C)"
      ]
    },
    {
      "cell_type": "markdown",
      "id": "a6745232",
      "metadata": {
        "id": "a6745232"
      },
      "source": [
        "__Q.12 Given two matrices A,B calculate the outer product using numpy.__"
      ]
    },
    {
      "cell_type": "code",
      "execution_count": null,
      "id": "9ca71bbf",
      "metadata": {
        "colab": {
          "base_uri": "https://localhost:8080/"
        },
        "id": "9ca71bbf",
        "outputId": "3cf0b318-87e8-49a1-c554-f5717e9b4764"
      },
      "outputs": [
        {
          "name": "stdout",
          "output_type": "stream",
          "text": [
            "Outer product of the said two vectors:\n",
            " [[1 2 3 4]\n",
            " [0 0 0 0]\n",
            " [0 0 0 0]\n",
            " [1 2 3 4]]\n"
          ]
        }
      ],
      "source": [
        "import numpy as np\n",
        "\n",
        "A = np.array([[1, 0], [0, 1]])\n",
        "B = np.array([[1, 2], [3, 4]])\n",
        "\n",
        "C = np.outer(A, B)\n",
        "print(\"Outer product of the said two vectors:\\n\",C)\n"
      ]
    },
    {
      "cell_type": "markdown",
      "id": "276ecd45",
      "metadata": {
        "id": "276ecd45"
      },
      "source": [
        "__Q.13 Given a vector, calculate the normalized form of a vector using numpy.__"
      ]
    },
    {
      "cell_type": "raw",
      "id": "d9c74af6",
      "metadata": {
        "id": "d9c74af6"
      },
      "source": [
        "Input:\n",
        " A = '1, 2; 3, 4'   \n",
        "Output:\n",
        "Vector norm:\n",
        "9.539392014169456"
      ]
    },
    {
      "cell_type": "code",
      "execution_count": null,
      "id": "98d516d1",
      "metadata": {
        "colab": {
          "base_uri": "https://localhost:8080/"
        },
        "id": "98d516d1",
        "outputId": "a7354880-b249-4cce-b6c2-c13085d6d87e"
      },
      "outputs": [
        {
          "name": "stdout",
          "output_type": "stream",
          "text": [
            "[[0.18257419 0.36514837]\n",
            " [0.54772256 0.73029674]]\n"
          ]
        }
      ],
      "source": [
        "A = np.array([[1, 2], [3, 4]])\n",
        "\n",
        "# Calculate the magnitude of the vector\n",
        "magnitude = np.linalg.norm(A)\n",
        "\n",
        "# Normalize the vector by dividing each element by the magnitude\n",
        "normalized_vector = A / magnitude\n",
        "\n",
        "print(normalized_vector)"
      ]
    },
    {
      "cell_type": "code",
      "execution_count": null,
      "id": "rVeCvDa5L-la",
      "metadata": {
        "colab": {
          "base_uri": "https://localhost:8080/"
        },
        "id": "rVeCvDa5L-la",
        "outputId": "ac45e44b-f4b1-44ca-dd60-3606e5364b4c"
      },
      "outputs": [
        {
          "name": "stdout",
          "output_type": "stream",
          "text": [
            "Vector norm:  5.477225575051661\n"
          ]
        }
      ],
      "source": [
        "vector_norm = np.linalg.norm(A)\n",
        "\n",
        "print(\"Vector norm: \", vector_norm)\n"
      ]
    },
    {
      "cell_type": "markdown",
      "id": "f8fc3b9f",
      "metadata": {
        "id": "f8fc3b9f"
      },
      "source": [
        "__Q.14 Given a matrix, calculate the normalized form of a matrix using numpy.__"
      ]
    },
    {
      "cell_type": "code",
      "execution_count": null,
      "id": "b8c0fbcf",
      "metadata": {
        "colab": {
          "base_uri": "https://localhost:8080/"
        },
        "id": "b8c0fbcf",
        "outputId": "0e4ba8fd-1580-43f7-f8c7-e68606993c92"
      },
      "outputs": [
        {
          "name": "stdout",
          "output_type": "stream",
          "text": [
            "Matrix norm:  9.539392014169456\n"
          ]
        }
      ],
      "source": [
        "import numpy as np\n",
        "\n",
        "A = np.array([[1, 2], [3, 4], [5, 6]])\n",
        "\n",
        "matrix_norm = np.linalg.norm(A)\n",
        "\n",
        "print(\"Matrix norm: \", matrix_norm)\n"
      ]
    },
    {
      "cell_type": "code",
      "execution_count": null,
      "id": "9a77e7f2",
      "metadata": {
        "colab": {
          "base_uri": "https://localhost:8080/"
        },
        "id": "9a77e7f2",
        "outputId": "9d985b18-b41d-47a0-a8aa-d7fb281cdc35"
      },
      "outputs": [
        {
          "name": "stdout",
          "output_type": "stream",
          "text": [
            "Original matrix:\n",
            " [[1 2 3]\n",
            " [4 5 6]\n",
            " [7 8 9]]\n",
            "Normalized matrix:\n",
            " [[0.05923489 0.11846978 0.17770466]\n",
            " [0.23693955 0.29617444 0.35540933]\n",
            " [0.41464421 0.4738791  0.53311399]]\n"
          ]
        }
      ],
      "source": [
        "# define the matrix\n",
        "A = np.array([[1, 2, 3], [4, 5, 6], [7, 8, 9]])\n",
        "\n",
        "# calculate the norm of the matrix\n",
        "norm_A = np.linalg.norm(A)\n",
        "\n",
        "# normalize the matrix\n",
        "A_norm = A / norm_A\n",
        "\n",
        "print(\"Original matrix:\\n\", A)\n",
        "print(\"Normalized matrix:\\n\", A_norm)\n"
      ]
    },
    {
      "cell_type": "markdown",
      "id": "41976741",
      "metadata": {
        "id": "41976741"
      },
      "source": [
        "\n",
        "# <div class=\"alert alert-block alert-info\"> <span  style= \"font-family: Times New Roman\">Probability    </span> </div>"
      ]
    },
    {
      "cell_type": "markdown",
      "source": [
        "Probability is the branch of mathematics that deals with the study of random events and the likelihood of their occurrence. In data science, probability is a fundamental concept that is used extensively in many areas. Here are some reasons why probability is important for data science:\n",
        "\n",
        "- **Modeling uncertainty**: Data science deals with uncertain events and probability helps to model and quantify that uncertainty. Probability helps to understand the randomness in the data and provide a framework for making predictions.\n",
        "\n",
        "- **Statistical inference**: Probability is the foundation of statistical inference, which is the process of drawing conclusions about a population based on a sample of data. Probability distributions are used to model the variation in the data and make inferences about the population.\n",
        "\n",
        "- **Machine learning**: Machine learning algorithms use probability to make predictions and classify data. Probability models, such as Bayesian networks and Hidden Markov Models, are used to represent uncertainty in the data and make predictions.\n",
        "\n",
        "- **Decision-making**: Probability is used in decision-making to evaluate the risks and benefits of different options. In data science, probability is used to make decisions based on data and to evaluate the effectiveness of different strategies.\n",
        "\n",
        "- **Data cleaning**: Probability is used in data cleaning to identify outliers and anomalies in the data. Probability models, such as Gaussian distributions, are used to identify data points that are unlikely to occur by chance."
      ],
      "metadata": {
        "id": "EJQFLMQDST04"
      },
      "id": "EJQFLMQDST04"
    },
    {
      "cell_type": "markdown",
      "id": "6dee0d97",
      "metadata": {
        "id": "6dee0d97"
      },
      "source": [
        "<div class='warning' style='padding:0.1em; background-color:#E9D8FD; color:#69337A'>\n",
        "<span>\n",
        "<p style='margin-left:1em;'>\n",
        "1. What is the probability of drawing two cards (from the same deck of cards) that have the same suite?<br>\n",
        "</p>\n",
        "</span>\n",
        "</div>"
      ]
    },
    {
      "cell_type": "markdown",
      "id": "ed36d7d4",
      "metadata": {
        "id": "ed36d7d4"
      },
      "source": [
        "### Solution: \n",
        "This is an example of a dependent event. The probability that two events will occur in the case of dependent event can be defined as:\n",
        "\n",
        "$ P(A\\cap B)=P(A)*P(B|A) $ <br>\n",
        "$ P(A∩B)=P(A)∗P(B∣A) $ <br>\n",
        "which means that the probability of event A and event B to both occur is the same as the probability of event A to occur times the probability of event B to occur given the result of event A. <br>\n",
        "\n",
        "In our case, there are four suites in a deck of cards, and each suite has 13 cards. <br>\n",
        "\n",
        "In the first draw, our probability to get a card with a specific suite would be 13/52. In the second draw, our probability of getting a card with the same suite as the first one wouldn’t be 13/52 anymore, but 12/51. <br>\n",
        "Hence: <br>\n",
        "\n",
        "$ P(two\\,cards\\,same\\,suite) = 4*\\frac{13}{52}*\\frac{12}{51}=\\frac{4}{17} $ <br>\n"
      ]
    },
    {
      "cell_type": "markdown",
      "id": "dfaea9c4",
      "metadata": {
        "id": "dfaea9c4"
      },
      "source": [
        "<div class='warning' style='padding:0.1em; background-color:#E9D8FD; color:#69337A'>\n",
        "<span>\n",
        "<p style='margin-left:1em;'>\n",
        "2. What is the probability of choosing 2 queens out of a deck of cards?<br>\n",
        "</p>\n",
        "</span>\n",
        "</div>"
      ]
    },
    {
      "cell_type": "markdown",
      "id": "536660fe",
      "metadata": {
        "id": "536660fe"
      },
      "source": [
        "### Solutions: \n",
        "This is also an example of a dependent event. In the first draw, our probability of getting a queen is 4/52. If we do get a queen in the first draw, then our probability to get another queen in the second draw would be 3/51. Hence:\n",
        "\n",
        "$ P(2\\,queens) = P(X_1=queen)\\cap P(X_2=queen) $<br>\n",
        "$P(2\\,queens) = \\frac{1}{13}*\\frac{1}{17}$ <br>\n",
        "$P(2\\,queens) = \\frac{1}{221} $<br>\n"
      ]
    },
    {
      "cell_type": "markdown",
      "id": "eb1b299e",
      "metadata": {
        "id": "eb1b299e"
      },
      "source": [
        "<div class='warning' style='padding:0.1em; background-color:#E9D8FD; color:#69337A'>\n",
        "<span>\n",
        "<p style='margin-left:1em;'>\n",
        "3. Let’s say you have 2 dice. What is the probability of getting at least one 4?<br>\n",
        "</p>\n",
        "</span>\n",
        "</div>"
      ]
    },
    {
      "cell_type": "markdown",
      "id": "61703b21",
      "metadata": {
        "id": "61703b21"
      },
      "source": [
        "### Solutions:\n",
        "Let’s say that: <br>\n",
        "\n",
        "A = getting a 4 in the first die <br>\n",
        "B = getting a 4 in the second die <br>\n",
        "\n",
        "The probability of independent events A and B both to occur can be defined as: <br>\n",
        "\n",
        "$ P(A\\cap B)=P(A)*P(B) $ <br>\n",
        "$ P(A∩B)=P(A)∗P(B)$ <br>\n",
        "And the probability of getting at least one 4 can be computed with the probability of union of two events: <br>\n",
        "\n",
        "$ P(A\\cup B)=P(A)+P(B)-P(A\\cap B)$ <br>\n",
        "$ P(A∪B)=P(A)+P(B)−P(A∩B)$ <br>\n",
        "We know that the probability of us getting any specific outcome from throwing a die is ⅙. Thus, <br>\n",
        "\n",
        "$P(A\\cup B)=\\frac{1}{6}+\\frac{1}{6}-(\\frac{1}{6}*\\frac{1}{6})=\\frac{11}{36}$ <br>\n"
      ]
    },
    {
      "cell_type": "markdown",
      "id": "2b0281f6",
      "metadata": {
        "id": "2b0281f6"
      },
      "source": [
        "<div class='warning' style='padding:0.1em; background-color:#E9D8FD; color:#69337A'>\n",
        "<span>\n",
        "<p style='margin-left:1em;'>\n",
        "4. Three ants are sitting at the three corners of an equilateral triangle. Each ant randomly picks a direction and starts to move along the edge of the triangle. What is the probability that none of the ants collide?”<br>\n",
        "</p>\n",
        "</span>\n",
        "</div>"
      ]
    },
    {
      "cell_type": "markdown",
      "id": "793c74f0",
      "metadata": {
        "id": "793c74f0"
      },
      "source": [
        "### Solution:\n",
        "this is the case of an independent event. Each ant can randomly pick the direction, either to the left or to the right. The decision of one ant to go to the left wouldn’t affect the decision of the other two ants whether they want to go to the left or right. <br>\n",
        "\n",
        "Since the decision is random, then the probability of an ant to pick a certain direction is 0.5. The three ants wouldn’t collide if all of them go to the left or all of them go to the right. <br>\n",
        "\n",
        "Hence: <br>\n",
        "\n",
        "$ P(none\\,of\\,the\\,ants\\,collide)=(\\frac{1}{2})^3+(\\frac{1}{2})^3=\\frac{1}{4} $<br>\n"
      ]
    },
    {
      "cell_type": "markdown",
      "id": "ebd75571",
      "metadata": {
        "id": "ebd75571"
      },
      "source": [
        "<div class='warning' style='padding:0.1em; background-color:#E9D8FD; color:#69337A'>\n",
        "<span>\n",
        "<p style='margin-left:1em;'>\n",
        "5. Consider a tetrahedral die and roll it twice. What is the probability that the number on the first roll is strictly higher than the number on the second roll? <br>\n",
        "\n",
        "Note: A tetrahedral die has only four sides (1, 2, 3 and 4). <br>\n",
        "</p>\n",
        "</span>\n",
        "</div>"
      ]
    },
    {
      "cell_type": "markdown",
      "id": "38d1f4a1",
      "metadata": {
        "id": "38d1f4a1"
      },
      "source": [
        "### Solution: \n",
        "(1,1) (2,1) (3,1) (4,1) \n",
        "(1,2) (2,2) (3,2) (4,2) \n",
        "(1,3) (2,3) (3,3) (4,3)\n",
        "(1,4) (2,4) (3,4) (4,4) <br>\n",
        "There are 6 out of 16 possibilities where the first roll is strictly higher than the second roll.\n",
        "\n",
        "Answer: 3/8"
      ]
    },
    {
      "cell_type": "markdown",
      "id": "a710eb6f",
      "metadata": {
        "id": "a710eb6f"
      },
      "source": [
        "\n",
        "<div class='warning' style='padding:0.1em; background-color:#E9D8FD; color:#69337A'>\n",
        "<span>\n",
        "<p style='margin-left:1em;'>\n",
        "6. A fair six-sided die is rolled 6 times. What is the probability of getting all outcomes as unique? <br>\n",
        "</p>\n",
        "</span>\n",
        "</div>"
      ]
    },
    {
      "cell_type": "markdown",
      "id": "0095d498",
      "metadata": {
        "id": "0095d498"
      },
      "source": [
        "### Solution:\n",
        "For all the outcomes to be unique, we have 6 choices for the first turn, 5 for the second turn, 4 for the third turn and so on\n",
        "\n",
        "Therefore the probability if getting all unique outcomes will be equal to 0.01543\n",
        "\n",
        "Answer: 0.01543"
      ]
    },
    {
      "cell_type": "markdown",
      "id": "62b3372f",
      "metadata": {
        "id": "62b3372f"
      },
      "source": [
        "<div class='warning' style='padding:0.1em; background-color:#E9D8FD; color:#69337A'>\n",
        "<span>\n",
        "<p style='margin-left:1em;'>\n",
        "7. We have two coins, A and B. For each toss of coin A, the probability of getting head is 1/2 and for each toss of coin B, the probability of getting Heads is 1/3. All tosses of the same coin are independent. We select a coin at random and toss it till we get a head. The probability of selecting coin A is ¼ and coin B is 3/4. What is the expected number of tosses to get the first heads?<br>\n",
        "</p>\n",
        "</span>\n",
        "</div>"
      ]
    },
    {
      "cell_type": "markdown",
      "id": "d83bb227",
      "metadata": {
        "id": "d83bb227"
      },
      "source": [
        "### Solution:\n",
        "If coin A is selected then the number of times the coin would be tossed for a guaranteed Heads is 2, similarly, for coin B it is 3. Thus the number of times would be\n",
        "\n",
        "Tosses = 2 * (1/4)[probability of selecting coin A] + 3*(3/4)[probability of selecting coin B]\n",
        "\n",
        "             = 2.75\n",
        "             \n",
        "          Answer: 2.75\n",
        "\n",
        " "
      ]
    },
    {
      "cell_type": "markdown",
      "id": "2d8f49d2",
      "metadata": {
        "id": "2d8f49d2"
      },
      "source": [
        "<div class='warning' style='padding:0.1em; background-color:#E9D8FD; color:#69337A'>\n",
        "<span>\n",
        "<p style='margin-left:1em;'>\n",
        "8. Suppose a life insurance company sells a \\$240000 one year term life insurance policy to a 25-year old female for $210. The probability that the female survives the year is .999592. Find the expected value of this policy for the insurance company.<br>\n",
        "</p>\n",
        "</span>\n",
        "</div>"
      ]
    },
    {
      "cell_type": "markdown",
      "id": "Ro9_6B_ziVzf",
      "metadata": {
        "id": "Ro9_6B_ziVzf"
      },
      "source": []
    },
    {
      "cell_type": "markdown",
      "id": "295a068f",
      "metadata": {
        "id": "295a068f"
      },
      "source": [
        "### Solution:\n",
        "P(company loses the money ) = 0.99592\n",
        "\n",
        "P(company does not lose the money ) = 0.000408\n",
        "\n",
        "The amount of money company loses if it loses = 240,000 – 210 = 239790\n",
        "\n",
        "While the money it gains is $210\n",
        "\n",
        "Expected money the company will have to give = 239790*0.000408 = 97.8\n",
        "\n",
        "Answer: 97.8"
      ]
    },
    {
      "cell_type": "markdown",
      "id": "004df261",
      "metadata": {
        "id": "004df261"
      },
      "source": [
        "<div class='warning' style='padding:0.1em; background-color:#E9D8FD; color:#69337A'>\n",
        "<span>\n",
        "<p style='margin-left:1em;'>\n",
        "9.Some test scores follow a normal distribution with a mean of 18 and a standard deviation of 6. What proportion of test takers have scored between 18 and 24?<br>\n",
        "</p>\n",
        "</span>\n",
        "</div>"
      ]
    },
    {
      "cell_type": "markdown",
      "id": "36d417ad",
      "metadata": {
        "id": "36d417ad"
      },
      "source": [
        "### Solution:\n",
        "\n",
        "So here we would need to calculate the Z scores for value being 18 and 24. We can easily doing that by putting sample mean as 18 and population mean as 18 with σ = 6 and calculating Z. Similarly we can calculate Z for sample mean as 24.\n",
        "\n",
        "Z= (X-μ)/σ\n",
        "\n",
        "Therefore for 26 as X,\n",
        "\n",
        "Z = (18-18)/6  = 0 , looking at the Z table we find 50% people have scores below 18.\n",
        "\n",
        "For 24 as X\n",
        "\n",
        "Z = (24-18)/6  = 1, looking at the Z table we find 84% people have scores below 24.\n",
        "\n",
        "Therefore around 34% people have scores between 18 and 24."
      ]
    },
    {
      "cell_type": "markdown",
      "id": "b595e877",
      "metadata": {
        "id": "b595e877"
      },
      "source": [
        "<div class='warning' style='padding:0.1em; background-color:#E9D8FD; color:#69337A'>\n",
        "<span>\n",
        "<p style='margin-left:1em;'>\n",
        "10.Suppose you were interviewed for a technical role. 50% of the people who sat for the first interview received the call for second interview. 95% of the people who got a call for second interview felt good about their first interview. 75% of people who did not receive a second call, also felt good about their first interview. If you felt good after your first interview, what is the probability that you will receive a second interview call?<br>\n",
        "</p>\n",
        "</span>\n",
        "</div>"
      ]
    },
    {
      "cell_type": "markdown",
      "id": "15766ce9",
      "metadata": {
        "id": "15766ce9"
      },
      "source": [
        "### Solution:\n",
        "Answer: 75%\n",
        "\n",
        "Solve it using Bayes theorem "
      ]
    },
    {
      "cell_type": "markdown",
      "id": "rScRIk2e5xKq",
      "metadata": {
        "id": "rScRIk2e5xKq"
      },
      "source": [
        "**Health Insurance**\n",
        "\n",
        "Health insurance companies often use probability to determine how likely it is that certain individuals will spend a certain amount on healthcare each year.\n",
        "\n",
        "For example, a company might use factors like age, existing medical conditions, current health status, etc. to determine that there’s a 80% probability that a certain individual will spend $8,000 or more on healthcare in a given year.\n",
        "\n",
        "Individuals who are likely to spend more on healthcare will be charged higher premiums because the insurance company knows that they’ll be more expensive to insure."
      ]
    },
    {
      "cell_type": "code",
      "execution_count": null,
      "id": "ApL14ui35ycl",
      "metadata": {
        "colab": {
          "base_uri": "https://localhost:8080/"
        },
        "id": "ApL14ui35ycl",
        "outputId": "588fb42a-0466-4d14-be02-6fc5a27fd512"
      },
      "outputs": [
        {
          "name": "stdout",
          "output_type": "stream",
          "text": [
            "There is an 80% probability that the healthcare cost will be 9683.24 or more.\n"
          ]
        }
      ],
      "source": [
        "import scipy.stats as stats\n",
        "\n",
        "# Define the variables\n",
        "mu = 8000  # mean\n",
        "sigma = 2000  # standard deviation\n",
        "\n",
        "# Calculate the z-score for the given probability\n",
        "p = 0.80\n",
        "z = stats.norm.ppf(p)\n",
        "\n",
        "# Calculate the healthcare cost using the inverse transform method\n",
        "x = mu + z * sigma\n",
        "\n",
        "print(f\"There is an 80% probability that the healthcare cost will be {x:.2f} or more.\")\n"
      ]
    },
    {
      "cell_type": "code",
      "execution_count": null,
      "id": "TAscrHXg3oAb",
      "metadata": {
        "id": "TAscrHXg3oAb"
      },
      "outputs": [],
      "source": [
        "# There is an 80% probability that the healthcare cost will be 10045.38 or more.\n"
      ]
    },
    {
      "cell_type": "markdown",
      "id": "sj0nSdR73yLp",
      "metadata": {
        "id": "sj0nSdR73yLp"
      },
      "source": [
        "This means that there is an 80% probability that the healthcare cost for this individual will be $10,045.38 or more, given their age, existing medical conditions, and current health status.\n"
      ]
    },
    {
      "cell_type": "markdown",
      "source": [
        "### **Happy Learning 🙂**"
      ],
      "metadata": {
        "id": "cB5_2HeiUWgd"
      },
      "id": "cB5_2HeiUWgd"
    }
  ],
  "metadata": {
    "colab": {
      "provenance": []
    },
    "kernelspec": {
      "display_name": "Python 3 (ipykernel)",
      "language": "python",
      "name": "python3"
    },
    "language_info": {
      "codemirror_mode": {
        "name": "ipython",
        "version": 3
      },
      "file_extension": ".py",
      "mimetype": "text/x-python",
      "name": "python",
      "nbconvert_exporter": "python",
      "pygments_lexer": "ipython3",
      "version": "3.9.12"
    }
  },
  "nbformat": 4,
  "nbformat_minor": 5
}