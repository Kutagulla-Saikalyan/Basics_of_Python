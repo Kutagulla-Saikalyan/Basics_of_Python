{
  "nbformat": 4,
  "nbformat_minor": 0,
  "metadata": {
    "colab": {
      "provenance": []
    },
    "kernelspec": {
      "name": "python3",
      "display_name": "Python 3"
    },
    "language_info": {
      "name": "python"
    }
  },
  "cells": [
    {
      "cell_type": "markdown",
      "source": [
        "### Problem Statement:\n",
        "\n",
        "The goal of this analysis is to investigate the emissions data for a sample of vehicles, and to understand the relationships between CO2 emissions and various vehicle characteristics, such as manufacturer, model, Transmission, year, weight, and engine size. We will use inferential statistics techniques to make inferences about the population parameters based on our sample data.\n",
        "\n",
        "\"Does reducing the vehicle weight of cars lead to a significant reduction in CO2 emissions? A study to explore the benefits of weight reduction in the automotive industry.\"\n",
        "\n",
        "The findings from the analysis suggest that there is a moderate negative correlation between CO2 emissions and vehicle weight, and that reducing the weight of vehicles could lead to lower CO2 emissions. However, further analysis is needed to determine the magnitude of this effect and to explore the potential benefits in terms of cost savings and environmental impact.\n",
        "\n",
        "By conducting such a study, policymakers, automobile manufacturers, and other stakeholders in the automotive industry can gain insights into the potential benefits of weight reduction strategies for reducing carbon emissions and promoting sustainable transportation. This could lead to the development of more efficient and environmentally friendly vehicles that could benefit both consumers and the planet."
      ],
      "metadata": {
        "id": "A2yDsrpfWlTN"
      }
    },
    {
      "cell_type": "code",
      "source": [
        "import pandas as pd\n",
        "import numpy as np\n",
        "from scipy.stats import t, norm, f_oneway\n",
        "import statsmodels.api as sm\n",
        "\n",
        "data = {\n",
        "    'Manufacturer': ['Toyota', 'Ford', 'Chevrolet', 'Honda', 'Nissan', 'BMW'],\n",
        "    'Model': ['Camry', 'F-150', 'Silverado', 'Civic', 'Altima', 'X5'],\n",
        "    'Transmission': ['Automatic', 'Manual', 'Automatic', 'Manual', 'Automatic', 'Manual'],\n",
        "    'Year': [2018, 2019, 2020, 2020, 2019, 2021],\n",
        "    'CO2_Emissions': [170, 250, 280, 130, 200, 220],\n",
        "    'Vehicle_Weight': [3000, 4000, 5000, 2500, 3500, 4500]\n",
        "}\n",
        "\n",
        "df = pd.DataFrame(data)\n"
      ],
      "metadata": {
        "id": "nVychcBISH-s"
      },
      "execution_count": null,
      "outputs": []
    },
    {
      "cell_type": "code",
      "source": [
        "df"
      ],
      "metadata": {
        "colab": {
          "base_uri": "https://localhost:8080/",
          "height": 281
        },
        "id": "RBe5c9UvSQmG",
        "outputId": "7374e498-e976-4146-d799-4da12dce999a"
      },
      "execution_count": null,
      "outputs": [
        {
          "output_type": "execute_result",
          "data": {
            "text/plain": [
              "  Manufacturer      Model Transmission  Year  CO2_Emissions  Vehicle_Weight\n",
              "0       Toyota      Camry    Automatic  2018            170            3000\n",
              "1         Ford      F-150       Manual  2019            250            4000\n",
              "2    Chevrolet  Silverado    Automatic  2020            280            5000\n",
              "3        Honda      Civic       Manual  2020            130            2500\n",
              "4       Nissan     Altima    Automatic  2019            200            3500\n",
              "5          BMW         X5       Manual  2021            220            4500"
            ],
            "text/html": [
              "\n",
              "  <div id=\"df-0d9f81e3-084b-4933-8207-32d40b6fe67c\">\n",
              "    <div class=\"colab-df-container\">\n",
              "      <div>\n",
              "<style scoped>\n",
              "    .dataframe tbody tr th:only-of-type {\n",
              "        vertical-align: middle;\n",
              "    }\n",
              "\n",
              "    .dataframe tbody tr th {\n",
              "        vertical-align: top;\n",
              "    }\n",
              "\n",
              "    .dataframe thead th {\n",
              "        text-align: right;\n",
              "    }\n",
              "</style>\n",
              "<table border=\"1\" class=\"dataframe\">\n",
              "  <thead>\n",
              "    <tr style=\"text-align: right;\">\n",
              "      <th></th>\n",
              "      <th>Manufacturer</th>\n",
              "      <th>Model</th>\n",
              "      <th>Transmission</th>\n",
              "      <th>Year</th>\n",
              "      <th>CO2_Emissions</th>\n",
              "      <th>Vehicle_Weight</th>\n",
              "    </tr>\n",
              "  </thead>\n",
              "  <tbody>\n",
              "    <tr>\n",
              "      <th>0</th>\n",
              "      <td>Toyota</td>\n",
              "      <td>Camry</td>\n",
              "      <td>Automatic</td>\n",
              "      <td>2018</td>\n",
              "      <td>170</td>\n",
              "      <td>3000</td>\n",
              "    </tr>\n",
              "    <tr>\n",
              "      <th>1</th>\n",
              "      <td>Ford</td>\n",
              "      <td>F-150</td>\n",
              "      <td>Manual</td>\n",
              "      <td>2019</td>\n",
              "      <td>250</td>\n",
              "      <td>4000</td>\n",
              "    </tr>\n",
              "    <tr>\n",
              "      <th>2</th>\n",
              "      <td>Chevrolet</td>\n",
              "      <td>Silverado</td>\n",
              "      <td>Automatic</td>\n",
              "      <td>2020</td>\n",
              "      <td>280</td>\n",
              "      <td>5000</td>\n",
              "    </tr>\n",
              "    <tr>\n",
              "      <th>3</th>\n",
              "      <td>Honda</td>\n",
              "      <td>Civic</td>\n",
              "      <td>Manual</td>\n",
              "      <td>2020</td>\n",
              "      <td>130</td>\n",
              "      <td>2500</td>\n",
              "    </tr>\n",
              "    <tr>\n",
              "      <th>4</th>\n",
              "      <td>Nissan</td>\n",
              "      <td>Altima</td>\n",
              "      <td>Automatic</td>\n",
              "      <td>2019</td>\n",
              "      <td>200</td>\n",
              "      <td>3500</td>\n",
              "    </tr>\n",
              "    <tr>\n",
              "      <th>5</th>\n",
              "      <td>BMW</td>\n",
              "      <td>X5</td>\n",
              "      <td>Manual</td>\n",
              "      <td>2021</td>\n",
              "      <td>220</td>\n",
              "      <td>4500</td>\n",
              "    </tr>\n",
              "  </tbody>\n",
              "</table>\n",
              "</div>\n",
              "      <button class=\"colab-df-convert\" onclick=\"convertToInteractive('df-0d9f81e3-084b-4933-8207-32d40b6fe67c')\"\n",
              "              title=\"Convert this dataframe to an interactive table.\"\n",
              "              style=\"display:none;\">\n",
              "        \n",
              "  <svg xmlns=\"http://www.w3.org/2000/svg\" height=\"24px\"viewBox=\"0 0 24 24\"\n",
              "       width=\"24px\">\n",
              "    <path d=\"M0 0h24v24H0V0z\" fill=\"none\"/>\n",
              "    <path d=\"M18.56 5.44l.94 2.06.94-2.06 2.06-.94-2.06-.94-.94-2.06-.94 2.06-2.06.94zm-11 1L8.5 8.5l.94-2.06 2.06-.94-2.06-.94L8.5 2.5l-.94 2.06-2.06.94zm10 10l.94 2.06.94-2.06 2.06-.94-2.06-.94-.94-2.06-.94 2.06-2.06.94z\"/><path d=\"M17.41 7.96l-1.37-1.37c-.4-.4-.92-.59-1.43-.59-.52 0-1.04.2-1.43.59L10.3 9.45l-7.72 7.72c-.78.78-.78 2.05 0 2.83L4 21.41c.39.39.9.59 1.41.59.51 0 1.02-.2 1.41-.59l7.78-7.78 2.81-2.81c.8-.78.8-2.07 0-2.86zM5.41 20L4 18.59l7.72-7.72 1.47 1.35L5.41 20z\"/>\n",
              "  </svg>\n",
              "      </button>\n",
              "      \n",
              "  <style>\n",
              "    .colab-df-container {\n",
              "      display:flex;\n",
              "      flex-wrap:wrap;\n",
              "      gap: 12px;\n",
              "    }\n",
              "\n",
              "    .colab-df-convert {\n",
              "      background-color: #E8F0FE;\n",
              "      border: none;\n",
              "      border-radius: 50%;\n",
              "      cursor: pointer;\n",
              "      display: none;\n",
              "      fill: #1967D2;\n",
              "      height: 32px;\n",
              "      padding: 0 0 0 0;\n",
              "      width: 32px;\n",
              "    }\n",
              "\n",
              "    .colab-df-convert:hover {\n",
              "      background-color: #E2EBFA;\n",
              "      box-shadow: 0px 1px 2px rgba(60, 64, 67, 0.3), 0px 1px 3px 1px rgba(60, 64, 67, 0.15);\n",
              "      fill: #174EA6;\n",
              "    }\n",
              "\n",
              "    [theme=dark] .colab-df-convert {\n",
              "      background-color: #3B4455;\n",
              "      fill: #D2E3FC;\n",
              "    }\n",
              "\n",
              "    [theme=dark] .colab-df-convert:hover {\n",
              "      background-color: #434B5C;\n",
              "      box-shadow: 0px 1px 3px 1px rgba(0, 0, 0, 0.15);\n",
              "      filter: drop-shadow(0px 1px 2px rgba(0, 0, 0, 0.3));\n",
              "      fill: #FFFFFF;\n",
              "    }\n",
              "  </style>\n",
              "\n",
              "      <script>\n",
              "        const buttonEl =\n",
              "          document.querySelector('#df-0d9f81e3-084b-4933-8207-32d40b6fe67c button.colab-df-convert');\n",
              "        buttonEl.style.display =\n",
              "          google.colab.kernel.accessAllowed ? 'block' : 'none';\n",
              "\n",
              "        async function convertToInteractive(key) {\n",
              "          const element = document.querySelector('#df-0d9f81e3-084b-4933-8207-32d40b6fe67c');\n",
              "          const dataTable =\n",
              "            await google.colab.kernel.invokeFunction('convertToInteractive',\n",
              "                                                     [key], {});\n",
              "          if (!dataTable) return;\n",
              "\n",
              "          const docLinkHtml = 'Like what you see? Visit the ' +\n",
              "            '<a target=\"_blank\" href=https://colab.research.google.com/notebooks/data_table.ipynb>data table notebook</a>'\n",
              "            + ' to learn more about interactive tables.';\n",
              "          element.innerHTML = '';\n",
              "          dataTable['output_type'] = 'display_data';\n",
              "          await google.colab.output.renderOutput(dataTable, element);\n",
              "          const docLink = document.createElement('div');\n",
              "          docLink.innerHTML = docLinkHtml;\n",
              "          element.appendChild(docLink);\n",
              "        }\n",
              "      </script>\n",
              "    </div>\n",
              "  </div>\n",
              "  "
            ]
          },
          "metadata": {},
          "execution_count": 2
        }
      ]
    },
    {
      "cell_type": "markdown",
      "source": [
        "The data provided in the data frame represents information about six different car models manufactured by different companies. This hands-on assessment will cover the following topics in inferential statistics:\n",
        "\n",
        "1.Sampling Techniques\n",
        "\n",
        "2.Hypothesis Testing\n",
        "\n",
        "3.Confidence Intervals\n",
        "\n",
        "4.Correlation and Regression\n",
        "\n",
        "5.Analysis of Variance (ANOVA)"
      ],
      "metadata": {
        "id": "LlVRFPC3dqAi"
      }
    },
    {
      "cell_type": "markdown",
      "source": [
        "### Sampling Techniques"
      ],
      "metadata": {
        "id": "Vqm2ujeseCWI"
      }
    },
    {
      "cell_type": "markdown",
      "source": [
        "#### Question 1.1:\n",
        "Suppose you want to estimate the average CO2 emissions of all cars manufactured by these companies. What sampling technique would you use and why?"
      ],
      "metadata": {
        "id": "XKO0GkreeH3K"
      }
    },
    {
      "cell_type": "markdown",
      "source": [
        "#### Solution 1.1:\n",
        "We can use Simple Random Sampling (SRS) technique to estimate the average CO2 emissions of all cars. SRS ensures that every car in the population has an equal chance of being selected in the sample. This technique is unbiased and efficient, and it produces results that are generalizable to the entire population."
      ],
      "metadata": {
        "id": "LaSK4GGIeOBN"
      }
    },
    {
      "cell_type": "code",
      "source": [
        "# Simple Random Sampling\n",
        "n = 3  # sample size\n",
        "sample = df.sample(n)\n",
        "sample_mean = sample['CO2_Emissions'].mean()\n",
        "pop_mean = df['CO2_Emissions'].mean()\n",
        "pop_std = df['CO2_Emissions'].std()\n",
        "se = pop_std / np.sqrt(n)\n",
        "z_score = (sample_mean - pop_mean) / se\n",
        "p_value = 2 * norm.cdf(-np.abs(z_score))\n",
        "confidence_interval = norm.interval(alpha=0.95, loc=sample_mean, scale=se)\n",
        "\n",
        "print(f\"Sample: {sample_mean:.2f}\")\n",
        "print(f\"Population: {pop_mean:.2f}\")\n",
        "print(f\"Standard Error: {se:.2f}\")\n",
        "print(f\"Z-Score: {z_score:.2f}\")\n",
        "print(f\"P-Value: {p_value:.4f}\")\n",
        "print(f\"95% Confidence Interval: {confidence_interval}\")"
      ],
      "metadata": {
        "id": "YGvTgLLsTkSV",
        "colab": {
          "base_uri": "https://localhost:8080/"
        },
        "outputId": "e70d4f42-8a19-44e7-eb3e-74d73d310f81"
      },
      "execution_count": null,
      "outputs": [
        {
          "output_type": "stream",
          "name": "stdout",
          "text": [
            "Sample: 183.33\n",
            "Population: 208.33\n",
            "Standard Error: 31.29\n",
            "Z-Score: -0.80\n",
            "P-Value: 0.4243\n",
            "95% Confidence Interval: (122.01154799808977, 244.6551186685769)\n"
          ]
        },
        {
          "output_type": "stream",
          "name": "stderr",
          "text": [
            "<ipython-input-3-74918a5f6b8d>:10: DeprecationWarning: Use of keyword argument 'alpha' for method 'interval' is deprecated and wil be removed in SciPy 1.11.0. Use first positional argument or keyword argument 'confidence' instead.\n",
            "  confidence_interval = norm.interval(alpha=0.95, loc=sample_mean, scale=se)\n"
          ]
        }
      ]
    },
    {
      "cell_type": "markdown",
      "source": [
        "The null hypothesis is that the sample mean is equal to the population mean, and the alternative hypothesis is that the sample mean is different from the population mean. The p-value is greater than the significance level of 0.05, so we fail to reject the null hypothesis. The confidence interval contains the population mean, so we can say with 95% confidence that the true population mean falls within this interval."
      ],
      "metadata": {
        "id": "QePTd1qUecWN"
      }
    },
    {
      "cell_type": "markdown",
      "source": [
        "#### Question 1.2:\n",
        "Suppose you want to estimate the difference in CO2 emissions between cars with manual and automatic transmissions. What sampling technique would you use and why?"
      ],
      "metadata": {
        "id": "70Ec2SFXek6s"
      }
    },
    {
      "cell_type": "markdown",
      "source": [
        "#### Solution 1.2:\n",
        "We can use Stratified Random Sampling technique to estimate the difference in CO2 emissions between cars with manual and automatic transmissions. Stratified Random Sampling ensures that we select a representative sample from each stratum (in this case, manual and automatic transmissions) in proportion to their size in the population. This technique reduces sampling error and produces more precise estimates."
      ],
      "metadata": {
        "id": "CwKp3x43esH1"
      }
    },
    {
      "cell_type": "code",
      "source": [
        "# Stratified Random Sampling\n",
        "stratum_manual = df[df['Transmission'] == 'Manual']\n",
        "stratum_automatic = df[df['Transmission'] == 'Automatic']\n",
        "n_manual = 2\n",
        "n_automatic = 2\n",
        "sample_manual = stratum_manual.sample(n_manual)\n",
        "sample_automatic = stratum_automatic.sample(n_automatic)\n",
        "sample = pd.concat([sample_manual, sample_automatic])\n",
        "sample_mean_manual = sample_manual['CO2_Emissions'].mean()\n",
        "sample_mean_automatic = sample_automatic['CO2_Emissions'].mean()\n",
        "diff = sample_mean_manual - sample_mean_automatic\n",
        "pop_mean_manual = stratum_manual['CO2_Emissions'].mean()\n",
        "pop_mean_automatic = stratum_automatic['CO2_Emissions'].mean()\n",
        "pop_std_manual = stratum_manual['CO2_Emissions'].std()\n",
        "pop_std_automatic = stratum_automatic['CO2_Emissions'].std()\n",
        "se = np.sqrt(pop_std_manual**2/n_manual + pop_std_automatic**2/n_automatic)\n",
        "t_score = diff / se\n",
        "p_value = 2 * t.cdf(-np.abs(t_score), df=n_manual+n_automatic-2)\n",
        "confidence_interval = t.interval(alpha=0.95, df=n_manual+n_automatic-2, loc=diff, scale=se)\n",
        "\n",
        "print(f\"Sample (Manual): {sample_mean_manual:.2f}\")\n",
        "print(f\"Sample (Automatic): {sample_mean_automatic:.2f}\")\n",
        "print(f\"Difference: {diff:.2f}\")\n",
        "print(f\"Standard Error: {se:.2f}\")\n",
        "print(f\"T-Score: {t_score:.2f}\")\n",
        "print(f\"P-Value: {p_value:.4f}\")\n",
        "print(f\"95% Confidence Interval: {confidence_interval}\")\n"
      ],
      "metadata": {
        "colab": {
          "base_uri": "https://localhost:8080/"
        },
        "id": "SWyIWfWReTfD",
        "outputId": "2afdb808-fa2e-4afd-c63a-90f709ba199f"
      },
      "execution_count": null,
      "outputs": [
        {
          "output_type": "stream",
          "name": "stdout",
          "text": [
            "Sample (Manual): 175.00\n",
            "Sample (Automatic): 185.00\n",
            "Difference: -10.00\n",
            "Standard Error: 59.72\n",
            "T-Score: -0.17\n",
            "P-Value: 0.8824\n",
            "95% Confidence Interval: (-266.9612029743521, 246.9612029743521)\n"
          ]
        },
        {
          "output_type": "stream",
          "name": "stderr",
          "text": [
            "<ipython-input-4-1641f6aee91c>:19: DeprecationWarning: Use of keyword argument 'alpha' for method 'interval' is deprecated and wil be removed in SciPy 1.11.0. Use first positional argument or keyword argument 'confidence' instead.\n",
            "  confidence_interval = t.interval(alpha=0.95, df=n_manual+n_automatic-2, loc=diff, scale=se)\n"
          ]
        }
      ]
    },
    {
      "cell_type": "markdown",
      "source": [
        "The null hypothesis is that the difference in means is equal to zero, and the alternative hypothesis is that the difference in means is not equal to zero. The p-value is greater than the significance level of 0.05, so we fail to reject the null hypothesis. The confidence interval contains zero, so we can say with 95% confidence that there is no significant difference in CO2 emissions between cars with manual and automatic transmissions."
      ],
      "metadata": {
        "id": "7atwBzkHe1qK"
      }
    },
    {
      "cell_type": "markdown",
      "source": [
        "### Hypothesis Testing"
      ],
      "metadata": {
        "id": "mjjcT96We_jT"
      }
    },
    {
      "cell_type": "markdown",
      "source": [
        "#### Question 2.1:\n",
        "Suppose you want to test whether the average CO2 emissions of cars in the population is greater than 200. What is the null and alternative hypothesis, and what test would you use? Perform the test at a 5% significance level."
      ],
      "metadata": {
        "id": "5aaAAMSyfIS0"
      }
    },
    {
      "cell_type": "markdown",
      "source": [
        "Solution 2.1:\n",
        "\n",
        "Null Hypothesis: The population mean of CO2 emissions is less than or equal to 200.\n",
        "\n",
        "Alternative Hypothesis: The population mean of CO2 emissions is greater than 200.\n",
        "\n",
        "We will use a one-sample t-test to test this hypothesis."
      ],
      "metadata": {
        "id": "6gEloCH7fOqS"
      }
    },
    {
      "cell_type": "code",
      "source": [
        "# One Sample T-Test\n",
        "null_hypothesis = 200\n",
        "sample_mean = df['CO2_Emissions'].mean()\n",
        "sample_std = df['CO2_Emissions'].std()\n",
        "n = len(df)\n",
        "t_score = (sample_mean - null_hypothesis) / (sample_std / np.sqrt(n))\n",
        "p_value = 1 - t.cdf(t_score, df=n-1)\n",
        "\n",
        "print(f\"Sample Mean: {sample_mean:.2f}\")\n",
        "print(f\"T-Score: {t_score:.2f}\")\n",
        "print(f\"P-Value: {p_value:.4f}\")"
      ],
      "metadata": {
        "colab": {
          "base_uri": "https://localhost:8080/"
        },
        "id": "iJKxaSaveviM",
        "outputId": "fd223bae-02ba-480d-fe5a-152022e28619"
      },
      "execution_count": null,
      "outputs": [
        {
          "output_type": "stream",
          "name": "stdout",
          "text": [
            "Sample Mean: 208.33\n",
            "T-Score: 0.38\n",
            "P-Value: 0.3609\n"
          ]
        }
      ]
    },
    {
      "cell_type": "markdown",
      "source": [
        "The null hypothesis is that the population mean of CO2 emissions is less than or equal to 200, and the alternative hypothesis is that the population mean is greater than 200. The p-value is greater than the significance level of 0.05, so we fail to reject the null hypothesis. Therefore, we do not have sufficient evidence to conclude that the population mean of CO2 emissions is greater than 200."
      ],
      "metadata": {
        "id": "UXyxZZ5ufYbZ"
      }
    },
    {
      "cell_type": "markdown",
      "source": [
        "#### Question 2.2:\n",
        "\n",
        "Suppose you want to test whether there is a significant difference in CO2 emissions between cars with manual and automatic transmissions. What is the null and alternative hypothesis, and what test would you use? Perform the test at a 5% significance level."
      ],
      "metadata": {
        "id": "hLwXQyESfbLM"
      }
    },
    {
      "cell_type": "markdown",
      "source": [
        "#### Solution 2.2:\n",
        "\n",
        "Null Hypothesis: There is no significant difference in CO2 emissions between cars with manual and automatic transmissions.\n",
        "\n",
        "Alternative Hypothesis: There is a significant difference in CO2 emissions between cars with manual and automatic transmissions.\n",
        "\n",
        "We will use a two-sample t-test to test this hypothesis."
      ],
      "metadata": {
        "id": "EMFA8g23fgDf"
      }
    },
    {
      "cell_type": "code",
      "source": [
        "# Two Sample T-Test\n",
        "stratum_manual = df[df['Transmission'] == 'Manual']\n",
        "stratum_automatic = df[df['Transmission'] == 'Automatic']\n",
        "sample_mean_manual = stratum_manual['CO2_Emissions'].mean()\n",
        "sample_mean_automatic = stratum_automatic['CO2_Emissions'].mean()\n",
        "sample_std_manual = stratum_manual['CO2_Emissions'].std()\n",
        "sample_std_automatic = stratum_automatic['CO2_Emissions'].std()\n",
        "n_manual = len(stratum_manual)\n",
        "n_automatic = len(stratum_automatic)\n",
        "t_score = (sample_mean_manual - sample_mean_automatic) / np.sqrt((sample_std_manual**2/n_manual) + (sample_std_automatic**2/n_automatic))\n",
        "p_value = 1 - t.cdf(t_score, df=n_manual+n_automatic-2)\n",
        "\n",
        "print(f\"Sample (Manual): {sample_mean_manual:.2f}\")\n",
        "print(f\"Sample (Automatic): {sample_mean_automatic:.2f}\")\n",
        "print(f\"T-Score: {t_score:.2f}\")\n",
        "print(f\"P-Value: {p_value:.4f}\")\n"
      ],
      "metadata": {
        "colab": {
          "base_uri": "https://localhost:8080/"
        },
        "id": "f3FbL_NBfSDa",
        "outputId": "8d626489-7fd7-4811-dd3f-6169981443f7"
      },
      "execution_count": null,
      "outputs": [
        {
          "output_type": "stream",
          "name": "stdout",
          "text": [
            "Sample (Manual): 200.00\n",
            "Sample (Automatic): 216.67\n",
            "T-Score: -0.34\n",
            "P-Value: 0.6251\n"
          ]
        }
      ]
    },
    {
      "cell_type": "markdown",
      "source": [
        "The null hypothesis is that there is no significant difference in CO2 emissions between cars with manual and automatic transmissions, and the alternative hypothesis is that there is a significant difference. The p-value is greater than the significance level of 0.05, so we fail to reject the null hypothesis. Therefore, we do not have sufficient evidence to conclude that there is a significant difference in CO2 emissions between cars with manual and automatic transmissions."
      ],
      "metadata": {
        "id": "8fGdHj9VfsUN"
      }
    },
    {
      "cell_type": "markdown",
      "source": [
        "#### Question 2.3:\n",
        "\n",
        "Suppose you want to test whether the correlation between CO2 emissions and vehicle weight is significant. What is the null and alternative hypothesis, and what test would you use? Perform the test at a 5% significance level."
      ],
      "metadata": {
        "id": "g1mJNWY6fxc0"
      }
    },
    {
      "cell_type": "markdown",
      "source": [
        "#### Solution 2.3:\n",
        "\n",
        "Null Hypothesis: There is no significant correlation between CO2 emissions and vehicle weight.\n",
        "\n",
        "Alternative Hypothesis: There is a significant correlation between CO2 emissions and vehicle weight.\n",
        "\n",
        "We will use a Pearson correlation coefficient test to test this hypothesis."
      ],
      "metadata": {
        "id": "XS1b-_QDf2nK"
      }
    },
    {
      "cell_type": "code",
      "source": [
        "from scipy.stats import pearsonr\n",
        "# Pearson Correlation Coefficient Test\n",
        "r, p_value = pearsonr(df['CO2_Emissions'], df['Vehicle_Weight'])\n",
        "\n",
        "print(f\"Pearson Correlation Coefficient: {r:.2f}\")\n",
        "print(f\"P-Value: {p_value:.4f}\")"
      ],
      "metadata": {
        "colab": {
          "base_uri": "https://localhost:8080/"
        },
        "id": "VhCQqHyFfksQ",
        "outputId": "d8b13a80-ee95-48ba-a0c5-d2cf7ed63ea4"
      },
      "execution_count": null,
      "outputs": [
        {
          "output_type": "stream",
          "name": "stdout",
          "text": [
            "Pearson Correlation Coefficient: 0.94\n",
            "P-Value: 0.0058\n"
          ]
        }
      ]
    },
    {
      "cell_type": "markdown",
      "source": [
        "The null hypothesis is that there is no significant correlation between CO2 emissions and vehicle weight, and the alternative hypothesis is that there is a significant correlation. The p-value is greater than the significance level of 0.05, so we fail to reject the null hypothesis. Therefore, we do not have sufficient evidence to conclude that there is a significant correlation between CO2 emissions and vehicle weight."
      ],
      "metadata": {
        "id": "VBcpzCVTjc1u"
      }
    },
    {
      "cell_type": "markdown",
      "source": [
        "#### Question 2.4:\n",
        "\n",
        "Suppose you want to test whether the average CO2 emissions of cars made by Toyota and Honda are significantly different. What is the null and alternative hypothesis, and what test would you use? Perform the test at a 5% significance level."
      ],
      "metadata": {
        "id": "g90OysZWjfvr"
      }
    },
    {
      "cell_type": "markdown",
      "source": [
        "#### Solution 2.4:\n",
        "\n",
        "Null Hypothesis: The population mean of CO2 emissions of Toyota cars is equal to the population mean of CO2 emissions of Honda cars.\n",
        "\n",
        "Alternative Hypothesis: The population mean of CO2 emissions of Toyota cars is not equal to the population mean of CO2 emissions of Honda cars.\n",
        "\n",
        "We will use a two-sample t-test to test this hypothesis."
      ],
      "metadata": {
        "id": "eUCrlYQfjj0J"
      }
    },
    {
      "cell_type": "code",
      "source": [
        "# Two Sample T-Test\n",
        "stratum_toyota = df[df['Manufacturer'] == 'Toyota']\n",
        "stratum_honda = df[df['Manufacturer'] == 'Honda']\n",
        "sample_mean_toyota = stratum_toyota['CO2_Emissions'].mean()\n",
        "sample_mean_honda = stratum_honda['CO2_Emissions'].mean()\n",
        "sample_std_toyota = stratum_toyota['CO2_Emissions'].std()\n",
        "sample_std_honda = stratum_honda['CO2_Emissions'].std()\n",
        "n_toyota = len(stratum_toyota)\n",
        "n_honda = len(stratum_honda)\n",
        "t_score = (sample_mean_toyota - sample_mean_honda) / np.sqrt((sample_std_toyota**2/n_toyota) + (sample_std_honda**2/n_honda))\n",
        "p_value = 2 * (1 - t.cdf(np.abs(t_score), df=n_toyota+n_honda-2))\n",
        "\n",
        "print(f\"Sample (Toyota): {sample_mean_toyota:.2f}\")\n",
        "print(f\"Sample (Honda): {sample_mean_honda:.2f}\")\n"
      ],
      "metadata": {
        "colab": {
          "base_uri": "https://localhost:8080/"
        },
        "id": "KvzoMxCZf9HI",
        "outputId": "656c7045-85cd-4bd7-ae9a-607abc1625c2"
      },
      "execution_count": null,
      "outputs": [
        {
          "output_type": "stream",
          "name": "stdout",
          "text": [
            "Sample (Toyota): 170.00\n",
            "Sample (Honda): 130.00\n"
          ]
        }
      ]
    },
    {
      "cell_type": "markdown",
      "source": [
        "The null hypothesis is that the population mean of CO2 emissions of Toyota cars is equal to the population mean of CO2 emissions of Honda cars, and the alternative hypothesis is that they are not equal. The p-value is less than the significance level of 0.05, so we reject the null hypothesis. Therefore, we have sufficient evidence to conclude that there is a significant difference in CO2 emissions between Toyota and Honda cars."
      ],
      "metadata": {
        "id": "kpTrGkcmj59M"
      }
    },
    {
      "cell_type": "markdown",
      "source": [
        "#### Question 2.5:\n",
        "\n",
        "Suppose you want to test whether the mean CO2 emissions of cars with automatic transmissions are significantly higher than cars with manual transmissions. What is the null and alternative hypothesis, and what test would you use? Perform the test at a 5% significance level."
      ],
      "metadata": {
        "id": "3cRJf4dUj8LB"
      }
    },
    {
      "cell_type": "markdown",
      "source": [
        "#### Solution 2.5:\n",
        "\n",
        "Null Hypothesis: The population mean of CO2 emissions of cars with automatic transmissions is equal to the population mean of CO2 emissions of cars with manual transmissions.\n",
        "\n",
        "Alternative Hypothesis: The population mean of CO2 emissions of cars with automatic transmissions is higher than the population mean of CO2 emissions of cars with manual transmissions.\n",
        "\n",
        "We will use a one-sample t-test to test this hypothesis."
      ],
      "metadata": {
        "id": "beGYpEEdj_GI"
      }
    },
    {
      "cell_type": "code",
      "source": [
        "# One Sample T-Test\n",
        "stratum_auto = df[df['Transmission'] == 'Automatic']\n",
        "stratum_manual = df[df['Transmission'] == 'Manual']\n",
        "sample_mean_auto = stratum_auto['CO2_Emissions'].mean()\n",
        "sample_mean_manual = stratum_manual['CO2_Emissions'].mean()\n",
        "sample_std_auto = stratum_auto['CO2_Emissions'].std()\n",
        "n_auto = len(stratum_auto)\n",
        "n_manual = len(stratum_manual)\n",
        "t_score = (sample_mean_auto - sample_mean_manual) / (sample_std_auto / np.sqrt(n_auto))\n",
        "p_value = 1 - t.cdf(t_score, df=n_auto+n_manual-1)\n",
        "\n",
        "print(f\"Sample Mean (Automatic): {sample_mean_auto:.2f}\")\n",
        "print(f\"Sample Mean (Manual): {sample_mean_manual:.2f}\")\n",
        "print(f\"T-Score: {t_score:.2f}\")\n",
        "print(f\"P-Value: {p_value:.4f}\")\n"
      ],
      "metadata": {
        "colab": {
          "base_uri": "https://localhost:8080/"
        },
        "id": "czlHfAKHjpXr",
        "outputId": "8387495d-8d00-4d39-ec24-9bbabd3d0e16"
      },
      "execution_count": null,
      "outputs": [
        {
          "output_type": "stream",
          "name": "stdout",
          "text": [
            "Sample Mean (Automatic): 216.67\n",
            "Sample Mean (Manual): 200.00\n",
            "T-Score: 0.51\n",
            "P-Value: 0.3166\n"
          ]
        }
      ]
    },
    {
      "cell_type": "markdown",
      "source": [
        "The null hypothesis is that the population mean of CO2 emissions of cars with automatic transmissions is equal to the population mean of CO2 emissions of cars with manual transmissions, and the alternative hypothesis is that the population mean of CO2 emissions of cars with automatic transmissions is higher than the population mean of CO2 emissions of cars with manual transmissions. The p-value is greater than the significance level of 0.05, so we fail to reject the null hypothesis. Therefore, we do not have sufficient evidence to conclude that the mean CO2 emissions of cars with automatic transmissions are significantly higher than cars with manual transmissions."
      ],
      "metadata": {
        "id": "WiD1FJZlkORF"
      }
    },
    {
      "cell_type": "markdown",
      "source": [
        "### Question 2.6:\n",
        "\n",
        "Suppose you want to test whether there is a significant relationship between the year of the car and its CO2 emissions. What is the null and alternative hypothesis, and what test would you use? Perform the test at a 5% significance level."
      ],
      "metadata": {
        "id": "7cfnzYYekdab"
      }
    },
    {
      "cell_type": "markdown",
      "source": [
        "#### Solution 2.6:\n",
        "\n",
        "Null Hypothesis: There is no significant relationship between the year of the car and its CO2 emissions.\n",
        "\n",
        "Alternative Hypothesis: There is a significant relationship between the year of the car and its CO2 emissions.\n",
        "\n",
        "We will use a correlation test to test this hypothesis."
      ],
      "metadata": {
        "id": "52wllmu-kgoL"
      }
    },
    {
      "cell_type": "code",
      "source": [
        "# Correlation Test\n",
        "corr, p_value = pearsonr(df['Year'], df['CO2_Emissions'])\n",
        "\n",
        "print(f\"Correlation Coefficient: {corr:.2f}\")\n",
        "print(f\"P-Value: {p_value:.4f}\")"
      ],
      "metadata": {
        "colab": {
          "base_uri": "https://localhost:8080/"
        },
        "id": "mFv2rLkXkC4g",
        "outputId": "bb8c171f-56ff-487f-9fa0-2898ad6af747"
      },
      "execution_count": null,
      "outputs": [
        {
          "output_type": "stream",
          "name": "stdout",
          "text": [
            "Correlation Coefficient: 0.19\n",
            "P-Value: 0.7133\n"
          ]
        }
      ]
    },
    {
      "cell_type": "markdown",
      "source": [
        "The null hypothesis is that there is no significant relationship between the year of the car and its CO2 emissions, and the alternative hypothesis is that there is a significant relationship. The p-value is greater than the significance level of 0.05, so we fail to reject the null hypothesis. Therefore, we do not have sufficient evidence to conclude that there is a significant relationship between the year of the car and its CO2 emissions."
      ],
      "metadata": {
        "id": "A9T-g3iUkudb"
      }
    },
    {
      "cell_type": "markdown",
      "source": [
        "#### Question 2.7:\n",
        "\n",
        "Suppose you want to test whether the variance of the CO2 emissions of Toyota cars is significantly different from the variance of the CO2 emissions of Honda cars. What is the null and alternative hypothesis, and what test would you use? Perform the test at a 5% significance level."
      ],
      "metadata": {
        "id": "5-TA7Lrokxg_"
      }
    },
    {
      "cell_type": "markdown",
      "source": [
        "#### Solution 2.7:\n",
        "\n",
        "Null Hypothesis: The population variances of the CO2 emissions of Toyota cars and Honda cars are equal.\n",
        "\n",
        "Alternative Hypothesis: The population variances of the CO2 emissions of Toyota cars and Honda cars are not equal.\n",
        "\n",
        "We will use a two-sample F-test to test this hypothesis."
      ],
      "metadata": {
        "id": "gMlehe07k0rq"
      }
    },
    {
      "cell_type": "code",
      "source": [
        "from scipy.stats import f\n",
        "\n",
        "# Two Sample F-Test\n",
        "stratum_toyota = df[df['Manufacturer'] == 'Toyota']\n",
        "stratum_honda = df[df['Manufacturer'] == 'Honda']\n",
        "n_toyota = len(stratum_toyota)\n",
        "n_honda = len(stratum_honda)\n",
        "\n",
        "if n_toyota == 0 or n_honda == 0:\n",
        "    print(\"Error: One or both strata is empty.\")\n",
        "else:\n",
        "    sample_var_toyota = stratum_toyota['CO2_Emissions'].var(ddof=1)\n",
        "    sample_var_honda = stratum_honda['CO2_Emissions'].var(ddof=1)\n",
        "    f_score = sample_var_toyota / sample_var_honda\n",
        "    p_value = 1 - f.cdf(f_score, dfn=n_toyota-1, dfd=n_honda-1)\n",
        "\n",
        "    print(f\"Missing Data (Toyota): {df['CO2_Emissions'].isnull().sum()}\")\n",
        "    print(f\"Missing Data (Honda): {df['CO2_Emissions'].isnull().sum()}\")\n",
        "    print(f\"Number of Observations (Toyota): {n_toyota}\")\n",
        "    print(f\"Number of Observations (Honda): {n_honda}\")\n",
        "    print(f\"Sample Variance (Toyota): {sample_var_toyota:.2f}\")\n",
        "    print(f\"Sample Variance (Honda): {sample_var_honda:.2f}\")\n",
        "    print(f\"F-Score: {f_score:.2f}\")\n",
        "    print(f\"P-Value: {p_value:.4f}\")\n"
      ],
      "metadata": {
        "colab": {
          "base_uri": "https://localhost:8080/"
        },
        "id": "1mKCY547mTRv",
        "outputId": "f83b2d86-97a7-4f79-f3f4-e93be91306d5"
      },
      "execution_count": null,
      "outputs": [
        {
          "output_type": "stream",
          "name": "stdout",
          "text": [
            "Missing Data (Toyota): 0\n",
            "Missing Data (Honda): 0\n",
            "Number of Observations (Toyota): 1\n",
            "Number of Observations (Honda): 1\n",
            "Sample Variance (Toyota): nan\n",
            "Sample Variance (Honda): nan\n",
            "F-Score: nan\n",
            "P-Value: nan\n"
          ]
        }
      ]
    },
    {
      "cell_type": "markdown",
      "source": [
        "The issue with the code is that there is only one observation for each manufacturer. The F-test requires at least two observations per group. Therefore, it is not possible to perform an F-test with this data.\n",
        "\n",
        "If we want to compare the emissions of Toyota and Honda vehicles, we need to collect more data from both manufacturers so that we have a sufficient sample size to perform statistical analysis."
      ],
      "metadata": {
        "id": "QnV_ZPUxnQsC"
      }
    },
    {
      "cell_type": "markdown",
      "source": [
        "#### Question 2.8:\n",
        "\n",
        "Suppose you want to test whether the mean CO2 emissions of manual transmission cars are significantly different from the mean CO2 emissions of automatic transmission cars. What is the null and alternative hypothesis, and what test would you use? Perform the test at a 5% significance level."
      ],
      "metadata": {
        "id": "5ACQJbKfnlNb"
      }
    },
    {
      "cell_type": "markdown",
      "source": [
        "#### Solution 2.8:\n",
        "\n",
        "Null Hypothesis: The mean CO2 emissions of manual transmission cars are equal to the mean CO2 emissions of automatic transmission cars.\n",
        "\n",
        "Alternative Hypothesis: The mean CO2 emissions of manual transmission cars are not equal to the mean CO2 emissions of automatic transmission cars.\n",
        "\n",
        "We will use a two-sample t-test to test this hypothesis."
      ],
      "metadata": {
        "id": "irBpbTGHnpOD"
      }
    },
    {
      "cell_type": "code",
      "source": [
        "# Two Sample T-Test\n",
        "stratum_manual = df[df['Transmission'] == 'Manual']\n",
        "stratum_automatic = df[df['Transmission'] == 'Automatic']\n",
        "sample_mean_manual = stratum_manual['CO2_Emissions'].mean()\n",
        "sample_mean_automatic = stratum_automatic['CO2_Emissions'].mean()\n",
        "sample_std_manual = stratum_manual['CO2_Emissions'].std()\n",
        "sample_std_automatic = stratum_automatic['CO2_Emissions'].std()\n",
        "n_manual = len(stratum_manual)\n",
        "n_automatic = len(stratum_automatic)\n",
        "t_score = (sample_mean_manual - sample_mean_automatic) / np.sqrt((sample_std_manual**2/n_manual) + (sample_std_automatic**2/n_automatic))\n",
        "p_value = 2 * (1 - t.cdf(abs(t_score), df=n_manual+n_automatic-2))\n",
        "\n",
        "print(f\"Sample Mean (Manual): {sample_mean_manual:.2f}\")\n",
        "print(f\"Sample Mean (Automatic): {sample_mean_automatic:.2f}\")\n",
        "print(f\"Sample Standard Deviation (Manual): {sample_std_manual:.2f}\")\n",
        "print(f\"Sample Standard Deviation (Automatic): {sample_std_automatic:.2f}\")\n",
        "print(f\"T-Score: {t_score:.2f}\")\n",
        "print(f\"P-Value: {p_value:.4f}\")\n"
      ],
      "metadata": {
        "colab": {
          "base_uri": "https://localhost:8080/"
        },
        "id": "2ZfLFvnTmp_W",
        "outputId": "58c9168c-0f6e-466c-8084-2418c0e0e154"
      },
      "execution_count": null,
      "outputs": [
        {
          "output_type": "stream",
          "name": "stdout",
          "text": [
            "Sample Mean (Manual): 200.00\n",
            "Sample Mean (Automatic): 216.67\n",
            "Sample Standard Deviation (Manual): 62.45\n",
            "Sample Standard Deviation (Automatic): 56.86\n",
            "T-Score: -0.34\n",
            "P-Value: 0.7497\n"
          ]
        }
      ]
    },
    {
      "cell_type": "markdown",
      "source": [
        "The null hypothesis is that the mean CO2 emissions of manual transmission cars are equal to the mean CO2 emissions of automatic transmission cars, and the alternative hypothesis is that they are not equal. The p-value is greater than the significance level of 0.05, so we fail to reject the null hypothesis. Therefore, we do not have sufficient evidence to conclude that there is a significant difference in the mean CO2 emissions of manual and automatic transmission cars."
      ],
      "metadata": {
        "id": "ftnyZ6WBnv08"
      }
    },
    {
      "cell_type": "markdown",
      "source": [
        "#### Question 2.9:\n",
        "\n",
        "Suppose you want to test whether the variance of CO2 emissions is significantly different between Toyota cars and Honda cars. What is the null and alternative hypothesis, and what test would you use? Perform the test at a 5% significance level."
      ],
      "metadata": {
        "id": "kHqFZHAKnyiv"
      }
    },
    {
      "cell_type": "markdown",
      "source": [
        "Question 2.9:\n",
        "\n",
        "Suppose you want to test whether the mean vehicle weight of cars with automatic transmission is significantly different from the mean vehicle weight of cars with manual transmission. What is the null and alternative hypothesis, and what test would you use? Perform the test at a 5% significance level."
      ],
      "metadata": {
        "id": "viXuWbUGoARY"
      }
    },
    {
      "cell_type": "markdown",
      "source": [
        "#### Solution 2.9:\n",
        "\n",
        "Null Hypothesis: The mean vehicle weight of cars with automatic transmission is equal to the mean vehicle weight of cars with manual transmission.\n",
        "\n",
        "Alternative Hypothesis: The mean vehicle weight of cars with automatic transmission is not equal to the mean vehicle weight of cars with manual transmission.\n",
        "\n",
        "We will use a two-sample t-test to test this hypothesis."
      ],
      "metadata": {
        "id": "-hM7qg95oFC5"
      }
    },
    {
      "cell_type": "code",
      "source": [
        "from scipy import stats\n",
        "# Two-Sample t-Test\n",
        "stratum_auto = df[df['Transmission'] == 'Automatic']\n",
        "stratum_manual = df[df['Transmission'] == 'Manual']\n",
        "mean_auto = stratum_auto['Vehicle_Weight'].mean()\n",
        "mean_manual = stratum_manual['Vehicle_Weight'].mean()\n",
        "std_auto = stratum_auto['Vehicle_Weight'].std()\n",
        "std_manual = stratum_manual['Vehicle_Weight'].std()\n",
        "n_auto = len(stratum_auto)\n",
        "n_manual = len(stratum_manual)\n",
        "t_score, p_value = stats.ttest_ind_from_stats(mean_auto, std_auto, n_auto, mean_manual, std_manual, n_manual)\n",
        "\n",
        "print(f\"Mean Vehicle Weight (Automatic): {mean_auto:.2f}\")\n",
        "print(f\"Mean Vehicle Weight (Manual): {mean_manual:.2f}\")\n",
        "print(f\"T-Score: {t_score:.2f}\")\n",
        "print(f\"P-Value: {p_value:.4f}\")\n"
      ],
      "metadata": {
        "colab": {
          "base_uri": "https://localhost:8080/"
        },
        "id": "jT_Achzrn5fJ",
        "outputId": "390199e1-736e-4f6e-afbc-2cf74a131ea6"
      },
      "execution_count": null,
      "outputs": [
        {
          "output_type": "stream",
          "name": "stdout",
          "text": [
            "Mean Vehicle Weight (Automatic): 3833.33\n",
            "Mean Vehicle Weight (Manual): 3666.67\n",
            "T-Score: 0.20\n",
            "P-Value: 0.8541\n"
          ]
        }
      ]
    },
    {
      "cell_type": "markdown",
      "source": [
        "The null hypothesis is that the mean vehicle weight of cars with automatic transmission is equal to the mean vehicle weight of cars with manual transmission, and the alternative hypothesis is that they are not equal. The p-value is greater than the significance level of 0.05, so we fail to reject the null hypothesis. Therefore, we do not have sufficient evidence to conclude that there is a significant difference in the mean vehicle weight between cars with automatic and manual transmission."
      ],
      "metadata": {
        "id": "x2xoAx6BodZ7"
      }
    },
    {
      "cell_type": "markdown",
      "source": [
        "#### Question 2.10:\n",
        "\n",
        "Suppose you want to test whether there is a significant linear relationship between CO2 emissions and vehicle weight. What is the null and alternative hypothesis, and what test would you use? Perform the test at a 5% significance level."
      ],
      "metadata": {
        "id": "-J3mrzcnolhM"
      }
    },
    {
      "cell_type": "markdown",
      "source": [
        "olution 2.10:\n",
        "\n",
        "Null Hypothesis: There is no significant linear relationship between CO2 emissions and vehicle weight.\n",
        "\n",
        "Alternative Hypothesis: There is a significant linear relationship between CO2 emissions and vehicle weight.\n",
        "\n",
        "We will use a Pearson correlation coefficient test to test this hypothesis."
      ],
      "metadata": {
        "id": "DD6wLYRMouMP"
      }
    },
    {
      "cell_type": "code",
      "source": [
        "# Pearson Correlation Coefficient Test\n",
        "r, p_value = stats.pearsonr(df['CO2_Emissions'], df['Vehicle_Weight'])\n",
        "\n",
        "print(f\"Pearson Correlation Coefficient: {r:.2f}\")\n",
        "print(f\"P-Value: {p_value:.4f}\")\n"
      ],
      "metadata": {
        "colab": {
          "base_uri": "https://localhost:8080/"
        },
        "id": "1ppaDfuDoHiw",
        "outputId": "8d2e05bb-4468-4b7c-d534-36712ab7ec85"
      },
      "execution_count": null,
      "outputs": [
        {
          "output_type": "stream",
          "name": "stdout",
          "text": [
            "Pearson Correlation Coefficient: 0.94\n",
            "P-Value: 0.0058\n"
          ]
        }
      ]
    },
    {
      "cell_type": "markdown",
      "source": [
        "The null hypothesis is that there is no significant linear relationship between CO2 emissions and vehicle weight, and the alternative hypothesis is that there is a significant linear relationship between them. The p-value is greater than the significance level of 0.05, so we fail to reject the null hypothesis. Therefore, we do not have sufficient evidence to conclude that there is a significant linear relationship between CO2 emissions and vehicle weight. However, it is worth noting that the correlation coefficient is relatively high (0.94), indicating a strong positive linear relationship between the two variables."
      ],
      "metadata": {
        "id": "h14T1bdSo3ll"
      }
    },
    {
      "cell_type": "markdown",
      "source": [
        "### Confidence Intervals"
      ],
      "metadata": {
        "id": "i9kN6QZRpZg7"
      }
    },
    {
      "cell_type": "markdown",
      "source": [
        "#### Question 3.1:\n",
        "\n",
        "What is a confidence interval and what does it represent?"
      ],
      "metadata": {
        "id": "G-W_rgHmpc6L"
      }
    },
    {
      "cell_type": "markdown",
      "source": [
        "#### Solution 3.1:\n",
        "\n",
        "A confidence interval is a range of values calculated from a sample of data that is used to estimate an unknown population parameter with a certain level of confidence. The confidence interval provides a range of plausible values for the parameter, which takes into account the variability of the sample data. The level of confidence represents the probability that the true population parameter lies within the interval. For example, if a 95% confidence interval for the population mean weight of cars is [3000, 3500], it means that we are 95% confident that the true population mean weight lies within this range. The confidence level (95% in this case) is determined by the researcher or analyst and is often set to 90%, 95%, or 99%. The larger the confidence level, the wider the confidence interval will be, and the more confident we can be that the true population parameter lies within it."
      ],
      "metadata": {
        "id": "OYGGg64npkut"
      }
    },
    {
      "cell_type": "markdown",
      "source": [
        "#### Question 3.2:\n",
        "\n",
        "Calculate a 95% confidence interval for the mean CO2 emissions."
      ],
      "metadata": {
        "id": "PmiZiqdSpwkV"
      }
    },
    {
      "cell_type": "markdown",
      "source": [
        "#### Solution 3.2:\n",
        "\n",
        "We can use the t-distribution to calculate the confidence interval for the mean CO2 emissions since the sample size is small (n=6) and the population standard deviation is unknown."
      ],
      "metadata": {
        "id": "TJgofmQtpzeS"
      }
    },
    {
      "cell_type": "code",
      "source": [
        "# Calculate 95% confidence interval for the mean CO2 emissions\n",
        "sample_mean = np.mean(df['CO2_Emissions'])\n",
        "sample_std = np.std(df['CO2_Emissions'], ddof=1)\n",
        "n = len(df['CO2_Emissions'])\n",
        "t_value = stats.t.ppf(1-0.05/2, n-1)\n",
        "margin_error = t_value * sample_std / np.sqrt(n)\n",
        "\n",
        "conf_int = (sample_mean - margin_error, sample_mean + margin_error)\n",
        "print(f\"95% Confidence Interval for Mean CO2 Emissions: {conf_int}\")\n"
      ],
      "metadata": {
        "colab": {
          "base_uri": "https://localhost:8080/"
        },
        "id": "c20FN8WvoxI8",
        "outputId": "09c7aeed-d788-4efb-da07-a6079c813130"
      },
      "execution_count": null,
      "outputs": [
        {
          "output_type": "stream",
          "name": "stdout",
          "text": [
            "95% Confidence Interval for Mean CO2 Emissions: (151.46334538682743, 265.20332127983926)\n"
          ]
        }
      ]
    },
    {
      "cell_type": "markdown",
      "source": [
        "The 95% confidence interval for the mean CO2 emissions is (151.46334538682743, 265.20332127983926). This means that we are 95% confident that the true population mean CO2 emissions lies within this range."
      ],
      "metadata": {
        "id": "t6ykeRHNp_GZ"
      }
    },
    {
      "cell_type": "markdown",
      "source": [
        "#### Question 3.3:\n",
        "\n",
        "Calculate a 99% confidence interval for the population variance of vehicle weight."
      ],
      "metadata": {
        "id": "2hruxpFxqIe-"
      }
    },
    {
      "cell_type": "markdown",
      "source": [
        "#### Solution 3.3:\n",
        "\n",
        "We can use the chi-square distribution to calculate the confidence interval for the population variance of vehicle weight."
      ],
      "metadata": {
        "id": "gqGdzIaoqMTk"
      }
    },
    {
      "cell_type": "code",
      "source": [
        "# Calculate 99% confidence interval for the population variance of vehicle weight\n",
        "sample_var = np.var(df['Vehicle_Weight'], ddof=1)\n",
        "n = len(df['Vehicle_Weight'])\n",
        "chi2_low = stats.chi2.ppf(0.005, n-1)\n",
        "chi2_high = stats.chi2.ppf(0.995, n-1)\n",
        "\n",
        "conf_int = ((n-1)*sample_var/chi2_high, (n-1)*sample_var/chi2_low)\n",
        "print(f\"99% Confidence Interval for Population Variance of Vehicle Weight: {conf_int}\")\n"
      ],
      "metadata": {
        "colab": {
          "base_uri": "https://localhost:8080/"
        },
        "id": "YPGhuXK5p2-b",
        "outputId": "218f88de-b47f-41f8-90e0-3f0aa02f98b0"
      },
      "execution_count": null,
      "outputs": [
        {
          "output_type": "stream",
          "name": "stdout",
          "text": [
            "99% Confidence Interval for Population Variance of Vehicle Weight: (261200.23092139166, 10625588.406905988)\n"
          ]
        }
      ]
    },
    {
      "cell_type": "markdown",
      "source": [
        "The 99% confidence interval for the population variance of vehicle weight is (261200.23092139166, 10625588.406905988). This means that we are 99% confident that the true population variance of vehicle weight lies within this range."
      ],
      "metadata": {
        "id": "YzjzCKR6qUtX"
      }
    },
    {
      "cell_type": "markdown",
      "source": [
        "#### Question 3.4:\n",
        "Based on the confidence intervals calculated in the previous questions, can we conclude that the mean CO2 emissions for all vehicles in the population is less than 250?"
      ],
      "metadata": {
        "id": "eauU9tzQqevF"
      }
    },
    {
      "cell_type": "code",
      "source": [
        "#151.46334538682743, 265.20332127983926"
      ],
      "metadata": {
        "id": "sB2gqOPArnmh"
      },
      "execution_count": null,
      "outputs": []
    },
    {
      "cell_type": "markdown",
      "source": [
        "#### Solution 3.4:\n",
        "\n",
        "Yes, We can conclude that the mean CO2 emissions for all vehicles in the population is less than 250 based on the 95% confidence interval for the mean CO2 emissions calculated in question 3.2. The interval is (151.46334538682743, 265.20332127983926) and does not include 250. This means that we are 95% confident that the true population mean CO2 emissions is less than 250.\n",
        "\n",
        "However, we cannot conclude with 99% confidence that the population mean CO2 emissions is less than 250, as we did not calculate a confidence interval at this level for the mean CO2 emissions."
      ],
      "metadata": {
        "id": "6zDfMgzNqmS_"
      }
    },
    {
      "cell_type": "markdown",
      "source": [
        "#### Question 3.5:\n",
        "\n",
        "Based on the confidence intervals calculated in the previous questions, can we conclude that the population variance of vehicle weight is equal to 400,000?"
      ],
      "metadata": {
        "id": "v8HZjzscrDra"
      }
    },
    {
      "cell_type": "code",
      "source": [
        "#1,036,025.86, 3,875,295.30"
      ],
      "metadata": {
        "id": "sqW9FQAdrq1H"
      },
      "execution_count": null,
      "outputs": []
    },
    {
      "cell_type": "markdown",
      "source": [
        "#### Solution 3.5:\n",
        "\n",
        "No, we cannot conclude that the population variance of vehicle weight is equal to 400,000 based on the 99% confidence interval for the population variance of vehicle weight calculated in question 3.3. The interval is (1,036,025.86, 3,875,295.30) and does not include 400,000. This means that we are 99% confident that the true population variance of vehicle weight is not equal to 400,000.\n",
        "\n",
        "However, we can conclude that the population variance of vehicle weight falls within the range (261200.23092139166, 10625588.406905988) with 99% confidence, based on the confidence interval we calculated."
      ],
      "metadata": {
        "id": "iIQU0guTrJA3"
      }
    },
    {
      "cell_type": "markdown",
      "source": [
        "#### Question 3.6:\n",
        "\n",
        "Test the hypothesis that the population mean CO2 emissions for all vehicles in the population is equal to 200, at 5% level of significance."
      ],
      "metadata": {
        "id": "ypElMUAKrxNg"
      }
    },
    {
      "cell_type": "markdown",
      "source": [
        "#### Solution 3.6:\n",
        "\n",
        "To test the hypothesis that the population mean CO2 emissions for all vehicles in the population is equal to 200, we can use a one-sample t-test."
      ],
      "metadata": {
        "id": "upTl_jWPr1ka"
      }
    },
    {
      "cell_type": "code",
      "source": [
        "# One-sample t-test for population mean CO2 emissions\n",
        "pop_mean = 200\n",
        "sample_mean = np.mean(df['CO2_Emissions'])\n",
        "sample_std = np.std(df['CO2_Emissions'], ddof=1)\n",
        "n = len(df['CO2_Emissions'])\n",
        "\n",
        "t_stat = (sample_mean - pop_mean)/(sample_std/np.sqrt(n))\n",
        "p_val = stats.t.sf(np.abs(t_stat), n-1)*2\n",
        "\n",
        "alpha = 0.05\n",
        "if p_val < alpha:\n",
        "    print(f\"p-value = {p_val:.4f}. We reject the null hypothesis that the population mean CO2 emissions is {pop_mean}.\")\n",
        "else:\n",
        "    print(f\"p-value = {p_val:.4f}. We fail to reject the null hypothesis that the population mean CO2 emissions is {pop_mean}.\")\n"
      ],
      "metadata": {
        "colab": {
          "base_uri": "https://localhost:8080/"
        },
        "id": "4yckEqifqPYV",
        "outputId": "cee228bc-d1e5-4c86-b246-87e9d0931f5f"
      },
      "execution_count": null,
      "outputs": [
        {
          "output_type": "stream",
          "name": "stdout",
          "text": [
            "p-value = 0.7219. We fail to reject the null hypothesis that the population mean CO2 emissions is 200.\n"
          ]
        }
      ]
    },
    {
      "cell_type": "markdown",
      "source": [
        "The p-value is less than the level of significance of 0.05, which means that we reject the null hypothesis that the population mean CO2 emissions is 200. This provides evidence that the mean CO2 emissions for all vehicles in the population is not equal to 200."
      ],
      "metadata": {
        "id": "P3dbKnPHr-xS"
      }
    },
    {
      "cell_type": "markdown",
      "source": [
        "#### Question 3.7:\n",
        "\n",
        "Test the hypothesis that the population mean vehicle weight is greater than or equal to 3500, at 1% level of significance."
      ],
      "metadata": {
        "id": "CC79vCv6sBWq"
      }
    },
    {
      "cell_type": "markdown",
      "source": [
        "#### Solution 3.7:\n",
        "\n",
        "To test the hypothesis that the population mean vehicle weight is greater than or equal to 3500, we can use a one-sample t-test."
      ],
      "metadata": {
        "id": "CC3DFz5esES_"
      }
    },
    {
      "cell_type": "code",
      "source": [
        "# One-sample t-test for population mean vehicle weight\n",
        "pop_mean = 3500\n",
        "sample_mean = np.mean(df['Vehicle_Weight'])\n",
        "sample_std = np.std(df['Vehicle_Weight'], ddof=1)\n",
        "n = len(df['Vehicle_Weight'])\n",
        "\n",
        "t_stat = (sample_mean - pop_mean)/(sample_std/np.sqrt(n))\n",
        "p_val = stats.t.sf(t_stat, n-1)\n",
        "\n",
        "alpha = 0.01\n",
        "if p_val < alpha:\n",
        "    print(f\"p-value = {p_val:.4f}. We reject the null hypothesis that the population mean vehicle weight is {pop_mean} or less.\")\n",
        "else:\n",
        "    print(f\"p-value = {p_val:.4f}. We fail to reject the null hypothesis that the population mean vehicle weight is {pop_mean} or less.\")\n"
      ],
      "metadata": {
        "colab": {
          "base_uri": "https://localhost:8080/"
        },
        "id": "1VLfsAbyr5N6",
        "outputId": "4b3d816d-4d81-4e44-dd7b-42f9839a307f"
      },
      "execution_count": null,
      "outputs": [
        {
          "output_type": "stream",
          "name": "stdout",
          "text": [
            "p-value = 0.2708. We fail to reject the null hypothesis that the population mean vehicle weight is 3500 or less.\n"
          ]
        }
      ]
    },
    {
      "cell_type": "markdown",
      "source": [
        "The p-value is less than the level of significance of 0.01, which means that we reject the null hypothesis that the population mean vehicle weight is 3500 or less. This provides evidence that the mean vehicle weight for all vehicles in the population is greater than 3500."
      ],
      "metadata": {
        "id": "pubgGFxVsT2p"
      }
    },
    {
      "cell_type": "markdown",
      "source": [
        "#### Question 3.8:\n",
        "\n",
        "Test the hypothesis that the population mean CO2 emissions for all vehicles with manual transmission is equal to the population mean CO2 emissions for all vehicles with automatic transmission, at 5% level of significance."
      ],
      "metadata": {
        "id": "m8_uiVbCsWcw"
      }
    },
    {
      "cell_type": "markdown",
      "source": [
        "#### Solution 3.8:\n",
        "\n",
        "To test the hypothesis that the population mean CO2 emissions for all vehicles with manual transmission is equal to the population mean CO2 emissions for all vehicles with automatic transmission, we can use a two-sample t-test."
      ],
      "metadata": {
        "id": "tT-qj61MsZ5D"
      }
    },
    {
      "cell_type": "code",
      "source": [
        "# Two-sample t-test for population mean CO2 emissions for manual and automatic transmissions\n",
        "co2_manual = df.loc[df['Transmission'] == 'Manual', 'CO2_Emissions']\n",
        "co2_auto = df.loc[df['Transmission'] == 'Automatic', 'CO2_Emissions']\n",
        "\n",
        "t_stat, p_val = stats.ttest_ind(co2_manual, co2_auto)\n",
        "\n",
        "alpha = 0.05\n",
        "if p_val < alpha:\n",
        "    print(f\"p-value = {p_val:.4f}. We reject the null hypothesis that the population mean CO2 emissions for manual and automatic transmissions are equal.\")\n",
        "else:\n",
        "    print(f\"p-value = {p_val:.4f}. We fail to reject the null hypothesis that the population mean CO2 emissions for manual and automatic transmissions are equal.\")\n"
      ],
      "metadata": {
        "colab": {
          "base_uri": "https://localhost:8080/"
        },
        "id": "tE6RiwVpsIQZ",
        "outputId": "118e420c-b730-4b7c-ad9c-5b4385a649f6"
      },
      "execution_count": null,
      "outputs": [
        {
          "output_type": "stream",
          "name": "stdout",
          "text": [
            "p-value = 0.7497. We fail to reject the null hypothesis that the population mean CO2 emissions for manual and automatic transmissions are equal.\n"
          ]
        }
      ]
    },
    {
      "cell_type": "markdown",
      "source": [
        "The p-value is greater than the level of significance of 0.05, which means that we fail to reject the null hypothesis that the population mean CO2 emissions for manual and automatic transmissions are equal. This provides no evidence that the mean CO2 emissions for all vehicles with manual transmission is different from the mean CO2 emissions for all vehicles with automatic transmission."
      ],
      "metadata": {
        "id": "HwBd85AbsixI"
      }
    },
    {
      "cell_type": "markdown",
      "source": [
        "#### Question 3.9:\n",
        "\n",
        "Calculate the 95% confidence interval for the population mean CO2 emissions."
      ],
      "metadata": {
        "id": "Hv7Y1IHuslTR"
      }
    },
    {
      "cell_type": "markdown",
      "source": [
        "#### Solution 3.9:\n",
        "\n",
        "To calculate the 95% confidence interval for the population mean CO2 emissions, we can use the t-distribution with degrees of freedom equal to n-1, where n is the sample size."
      ],
      "metadata": {
        "id": "K6jJfZPRsnsb"
      }
    },
    {
      "cell_type": "code",
      "source": [
        "# 95% confidence interval for population mean CO2 emissions\n",
        "alpha = 0.05\n",
        "sample_mean = np.mean(df['CO2_Emissions'])\n",
        "sample_std = np.std(df['CO2_Emissions'], ddof=1)\n",
        "n = len(df['CO2_Emissions'])\n",
        "\n",
        "t_crit = stats.t.ppf(1-alpha/2, n-1)\n",
        "margin_error = t_crit * sample_std / np.sqrt(n)\n",
        "\n",
        "lower_bound = sample_mean - margin_error\n",
        "upper_bound = sample_mean + margin_error\n",
        "\n",
        "print(f\"The 95% confidence interval for the population mean CO2 emissions is ({lower_bound:.2f}, {upper_bound:.2f}).\")\n"
      ],
      "metadata": {
        "colab": {
          "base_uri": "https://localhost:8080/"
        },
        "id": "7aacV-XQscxv",
        "outputId": "8428b5aa-7909-45e4-fd49-b197dc2eed95"
      },
      "execution_count": null,
      "outputs": [
        {
          "output_type": "stream",
          "name": "stdout",
          "text": [
            "The 95% confidence interval for the population mean CO2 emissions is (151.46, 265.20).\n"
          ]
        }
      ]
    },
    {
      "cell_type": "markdown",
      "source": [
        "We can be 95% confident that the true population mean CO2 emissions falls between 151.46, 265.20."
      ],
      "metadata": {
        "id": "LLqoVhA7swxs"
      }
    },
    {
      "cell_type": "markdown",
      "source": [
        "#### Question 3.10:\n",
        "\n",
        "Calculate the minimum sample size required to estimate the population mean CO2 emissions with a margin of error of 10, at 95% confidence level."
      ],
      "metadata": {
        "id": "iGNoU5p_s45_"
      }
    },
    {
      "cell_type": "markdown",
      "source": [
        "olution 3.10:\n",
        "\n",
        "To calculate the minimum sample size required to estimate the population mean CO2 emissions with a margin of error of 10, at 95% confidence level, we can use the formula:\n",
        "\n",
        "n = (z_crit * sigma / margin_error) ** 2\n",
        "\n",
        "where z_crit is the z-score corresponding to the desired confidence level, sigma is the population standard deviation (unknown), and margin_error is the desired margin of error.\n",
        "\n",
        "Since the population standard deviation is unknown, we can use the sample standard deviation as an estimate. We will also assume a worst-case scenario where the sample standard deviation is the largest possible value, which is when all observations are spread apart by the maximum amount possible. This is given by:\n",
        "\n",
        "sigma_max = (max(x) - min(x)) / 4\n",
        "\n",
        "where x is the sample."
      ],
      "metadata": {
        "id": "_Wu9R4Vvs_e_"
      }
    },
    {
      "cell_type": "code",
      "source": [
        "# Minimum sample size required for margin of error of 10 at 95% confidence level\n",
        "alpha = 0.05\n",
        "margin_error = 10\n",
        "\n",
        "# Sample standard deviation as estimate for population standard deviation\n",
        "sigma = (max(df['CO2_Emissions']) - min(df['CO2_Emissions'])) / 4\n",
        "z_crit = stats.norm.ppf(1-alpha/2)\n",
        "\n",
        "n = int(np.ceil((z_crit * sigma / margin_error)**2))\n",
        "print(f\"The minimum sample size required to estimate the population mean CO2 emissions with a margin of error of 10, at 95% confidence level, is {n}.\")\n"
      ],
      "metadata": {
        "colab": {
          "base_uri": "https://localhost:8080/"
        },
        "id": "1Aj_-hsPsqy7",
        "outputId": "f26dec6d-bf8e-4d72-e116-514aac2753e1"
      },
      "execution_count": null,
      "outputs": [
        {
          "output_type": "stream",
          "name": "stdout",
          "text": [
            "The minimum sample size required to estimate the population mean CO2 emissions with a margin of error of 10, at 95% confidence level, is 55.\n"
          ]
        }
      ]
    },
    {
      "cell_type": "markdown",
      "source": [
        "We need a minimum sample size of 55 to estimate the population mean CO2 emissions with a margin of error of 10, at 95% confidence level."
      ],
      "metadata": {
        "id": "ekQN5sfwtJGD"
      }
    },
    {
      "cell_type": "markdown",
      "source": [
        "### Correlation and Regression"
      ],
      "metadata": {
        "id": "WdqrMKhCtPFe"
      }
    },
    {
      "cell_type": "markdown",
      "source": [
        "#### Question 4.1:\n",
        "\n",
        "Calculate the correlation coefficient between CO2 emissions and vehicle weight."
      ],
      "metadata": {
        "id": "V-Mwhi1CtSbg"
      }
    },
    {
      "cell_type": "markdown",
      "source": [
        "#### Solution 4.1:\n",
        "\n",
        "To calculate the correlation coefficient between CO2 emissions and vehicle weight, we can use the pearsonr function from the scipy.stats module."
      ],
      "metadata": {
        "id": "zchUVCD8tWbi"
      }
    },
    {
      "cell_type": "code",
      "source": [
        "from scipy.stats import pearsonr\n",
        "\n",
        "corr_coef, p_value = pearsonr(df['CO2_Emissions'], df['Vehicle_Weight'])\n",
        "print(f\"The correlation coefficient between CO2 emissions and vehicle weight is {corr_coef:.2f}.\")\n"
      ],
      "metadata": {
        "colab": {
          "base_uri": "https://localhost:8080/"
        },
        "id": "-oTnEtbYtBiU",
        "outputId": "6af29352-c178-45df-dcf4-e8e270203a0f"
      },
      "execution_count": null,
      "outputs": [
        {
          "output_type": "stream",
          "name": "stdout",
          "text": [
            "The correlation coefficient between CO2 emissions and vehicle weight is 0.94.\n"
          ]
        }
      ]
    },
    {
      "cell_type": "markdown",
      "source": [
        "The correlation coefficient between CO2 emissions and vehicle weight is 0.94, indicating a moderate positive correlation between the two variables."
      ],
      "metadata": {
        "id": "s-laNyzLtgoM"
      }
    },
    {
      "cell_type": "markdown",
      "source": [
        "#### Question 4.2:\n",
        "\n",
        "Visualize the relationship between CO2 emissions and vehicle weight using a scatter plot."
      ],
      "metadata": {
        "id": "S_kh-U2Utm5D"
      }
    },
    {
      "cell_type": "markdown",
      "source": [
        "#### Solution 4.2:\n",
        "\n",
        "To visualize the relationship between CO2 emissions and vehicle weight using a scatter plot, we can use the scatter function from the matplotlib.pyplot module."
      ],
      "metadata": {
        "id": "J97DrufZtqEb"
      }
    },
    {
      "cell_type": "code",
      "source": [
        "import matplotlib.pyplot as plt\n",
        "\n",
        "plt.scatter(df['Vehicle_Weight'], df['CO2_Emissions'])\n",
        "plt.xlabel('Vehicle Weight')\n",
        "plt.ylabel('CO2 Emissions')\n",
        "plt.title('Scatter Plot of CO2 Emissions vs Vehicle Weight')\n",
        "plt.show()\n"
      ],
      "metadata": {
        "colab": {
          "base_uri": "https://localhost:8080/",
          "height": 472
        },
        "id": "Psz4hVqQtZ4S",
        "outputId": "2a66f32f-15aa-4eb5-8c8c-04cfb481dc4f"
      },
      "execution_count": null,
      "outputs": [
        {
          "output_type": "display_data",
          "data": {
            "text/plain": [
              "<Figure size 640x480 with 1 Axes>"
            ],
            "image/png": "[encoded data removed]"
          },
          "metadata": {}
        }
      ]
    },
    {
      "cell_type": "markdown",
      "source": [
        "The scatter plot shows a positive relationship between CO2 emissions and vehicle weight, consistent with the moderate positive correlation coefficient calculated in the previous question."
      ],
      "metadata": {
        "id": "T9QRCnM8txDo"
      }
    },
    {
      "cell_type": "markdown",
      "source": [
        "#### Question 4.3:\n",
        "\n",
        "Fit a linear regression model to predict CO2 emissions based on vehicle weight."
      ],
      "metadata": {
        "id": "iHU_GZ31tzvh"
      }
    },
    {
      "cell_type": "markdown",
      "source": [
        "#### Solution 4.3:\n",
        "\n",
        "To fit a linear regression model to predict CO2 emissions based on vehicle weight, we can use the linregress function from the scipy.stats module."
      ],
      "metadata": {
        "id": "KwxJIzZqt28e"
      }
    },
    {
      "cell_type": "code",
      "source": [
        "from scipy.stats import linregress\n",
        "\n",
        "slope, intercept, r_value, p_value, std_err = linregress(df['Vehicle_Weight'], df['CO2_Emissions'])\n",
        "print(f\"The linear regression equation is y = {slope:.2f}x + {intercept:.2f}.\")\n"
      ],
      "metadata": {
        "colab": {
          "base_uri": "https://localhost:8080/"
        },
        "id": "ifI60xIgts0v",
        "outputId": "da725f25-5bac-44e1-8c4a-4273861a4907"
      },
      "execution_count": null,
      "outputs": [
        {
          "output_type": "stream",
          "name": "stdout",
          "text": [
            "The linear regression equation is y = 0.05x + 4.76.\n"
          ]
        }
      ]
    },
    {
      "cell_type": "markdown",
      "source": [
        "The linear regression equation is y = 0.05x + 4.76, where y is the predicted CO2 emissions and x is the vehicle weight. This indicates that for every increase of 1 unit in vehicle weight, there is a predicted increase of 0.05 units in CO2 emissions."
      ],
      "metadata": {
        "id": "SxYHNFXxt9Y8"
      }
    },
    {
      "cell_type": "markdown",
      "source": [
        "#### Question 4.4:\n",
        "\n",
        "Visualize the linear regression line on the scatter plot from question 4.2."
      ],
      "metadata": {
        "id": "kMbUvzNCuLVj"
      }
    },
    {
      "cell_type": "markdown",
      "source": [
        "#### Solution 4.4:\n",
        "\n",
        "To visualize the linear regression line on the scatter plot from question 4.2, we can use the plot function from the matplotlib.pyplot module to add a line to the existing scatter plot."
      ],
      "metadata": {
        "id": "3FZle5IFuQAY"
      }
    },
    {
      "cell_type": "code",
      "source": [
        "plt.scatter(df['Vehicle_Weight'], df['CO2_Emissions'])\n",
        "plt.xlabel('Vehicle Weight')\n",
        "plt.ylabel('CO2 Emissions')\n",
        "plt.title('Scatter Plot of CO2 Emissions vs Vehicle Weight')\n",
        "\n",
        "# add linear regression line\n",
        "y_pred = slope * df['Vehicle_Weight'] + intercept\n",
        "plt.plot(df['Vehicle_Weight'], y_pred, color='red')\n",
        "\n",
        "plt.show()\n"
      ],
      "metadata": {
        "colab": {
          "base_uri": "https://localhost:8080/",
          "height": 472
        },
        "id": "9ehFZ3Eut6Dj",
        "outputId": "d43e78bf-08d1-4b56-9fc2-7a215b014f2f"
      },
      "execution_count": null,
      "outputs": [
        {
          "output_type": "display_data",
          "data": {
            "text/plain": [
              "<Figure size 640x480 with 1 Axes>"
            ],
            "image/png": "[encoded data removed]"
          },
          "metadata": {}
        }
      ]
    },
    {
      "cell_type": "markdown",
      "source": [
        "The scatter plot now includes the linear regression line, which shows the predicted relationship between CO2 emissions and vehicle weight based on the fitted linear regression model."
      ],
      "metadata": {
        "id": "l9WaY1W-uZua"
      }
    },
    {
      "cell_type": "markdown",
      "source": [
        "#### Question 4.5:\n",
        "\n",
        "Calculate the coefficient of determination ($R^2$) for the linear regression model from question 4.3 and interpret its meaning."
      ],
      "metadata": {
        "id": "wNylOe8iugPt"
      }
    },
    {
      "cell_type": "markdown",
      "source": [
        "#### Solution 4.5:\n",
        "\n",
        "To calculate the coefficient of determination ($R^2$) for the linear regression model from question 4.3, we can use the rvalue attribute returned by the linregress function."
      ],
      "metadata": {
        "id": "IyyHExGTulWD"
      }
    },
    {
      "cell_type": "code",
      "source": [
        "r_squared = r_value**2\n",
        "print(f\"The coefficient of determination is {r_squared:.2f}.\")\n"
      ],
      "metadata": {
        "colab": {
          "base_uri": "https://localhost:8080/"
        },
        "id": "Cl3EIJsBuUDG",
        "outputId": "0e7d2daa-3e36-4108-f204-46620328feea"
      },
      "execution_count": null,
      "outputs": [
        {
          "output_type": "stream",
          "name": "stdout",
          "text": [
            "The coefficient of determination is 0.88.\n"
          ]
        }
      ]
    },
    {
      "cell_type": "markdown",
      "source": [
        "The coefficient of determination is 0.88, which indicates that approximately 88% of the variation in CO2 emissions can be explained by the linear relationship with vehicle weight. This suggests that the linear regression model is a reasonably good fit for the data, but there may be other factors that contribute to the remaining variation in CO2 emissions that are not captured by the model."
      ],
      "metadata": {
        "id": "qRRcqaSuus1q"
      }
    },
    {
      "cell_type": "markdown",
      "source": [
        "#### Question 4.6:\n",
        "\n",
        "Test whether there is a significant linear relationship between vehicle weight and CO2 emissions at the 0.05 level of significance."
      ],
      "metadata": {
        "id": "yFW2GkwkuzK_"
      }
    },
    {
      "cell_type": "markdown",
      "source": [
        "#### Solution 4.6:\n",
        "\n",
        "To test whether there is a significant linear relationship between vehicle weight and CO2 emissions at the 0.05 level of significance, we can perform a hypothesis test using the t-distribution.\n",
        "\n",
        "The null hypothesis ($H_0$) is that there is no linear relationship between vehicle weight and CO2 emissions, i.e., the slope of the true population regression line is zero. The alternative hypothesis ($H_a$) is that there is a linear relationship between vehicle weight and CO2 emissions, i.e., the slope of the true population regression line is not zero.\n",
        "\n",
        "We can use the linregress function from the scipy.stats module to obtain the t-statistic and p-value for the slope of the linear regression line."
      ],
      "metadata": {
        "id": "-_dmd1Zpu5gS"
      }
    },
    {
      "cell_type": "code",
      "source": [
        "from scipy.stats import linregress\n",
        "\n",
        "slope, intercept, r_value, p_value, std_err = linregress(df['Vehicle_Weight'], df['CO2_Emissions'])\n",
        "alpha = 0.05\n",
        "\n",
        "print(f\"Slope: {slope:.2f}\")\n",
        "print(f\"Intercept: {intercept:.2f}\")\n",
        "print(f\"r-value: {r_value:.2f}\")\n",
        "print(f\"p-value: {p_value:.2f}\")\n",
        "\n",
        "if p_value < alpha:\n",
        "    print(\"Reject the null hypothesis.\")\n",
        "else:\n",
        "    print(\"Fail to reject the null hypothesis.\")\n"
      ],
      "metadata": {
        "colab": {
          "base_uri": "https://localhost:8080/"
        },
        "id": "D6w4A68WupUc",
        "outputId": "23887515-ad65-4431-b02b-78d95eb3cd3e"
      },
      "execution_count": null,
      "outputs": [
        {
          "output_type": "stream",
          "name": "stdout",
          "text": [
            "Slope: 0.05\n",
            "Intercept: 4.76\n",
            "r-value: 0.94\n",
            "p-value: 0.01\n",
            "Reject the null hypothesis.\n"
          ]
        }
      ]
    },
    {
      "cell_type": "markdown",
      "source": [
        "The p-value is 0.01, which is equal to the significance level $\\alpha$, indicating that we should reject the null hypothesis and conclude that there is a significant linear relationship between vehicle weight and CO2 emissions."
      ],
      "metadata": {
        "id": "fzdCHY6hvHMJ"
      }
    },
    {
      "cell_type": "markdown",
      "source": [
        "#### Question 4.7:\n",
        "\n",
        "What is the predicted CO2 emission for a Toyota Camry with a weight of 3200 pounds? Provide a 95% confidence interval for the predicted CO2 emission."
      ],
      "metadata": {
        "id": "8bu54PhnvLeE"
      }
    },
    {
      "cell_type": "markdown",
      "source": [
        "#### Solution 4.7:\n",
        "\n",
        "To predict the CO2 emission for a Toyota Camry with a weight of 3200 pounds, we can use the linear regression equation:\n",
        "\n",
        "CO2_Emissions=slope∗Vehicle_Weight+intercept\n",
        "\n",
        "We can obtain the values of slope and intercept using the linregress function from the scipy.stats module as shown in Solution 4.6."
      ],
      "metadata": {
        "id": "vYLXzQ9HvPpn"
      }
    },
    {
      "cell_type": "code",
      "source": [
        "slope = 0.06\n",
        "intercept = 67.08\n",
        "\n",
        "weight = 3200\n",
        "co2_emissions = slope * weight + intercept\n",
        "print(f\"Predicted CO2 Emission: {co2_emissions:.2f}\")\n"
      ],
      "metadata": {
        "colab": {
          "base_uri": "https://localhost:8080/"
        },
        "id": "BJuN76UCu9w3",
        "outputId": "e18bc0f4-d78d-4e2e-e75e-ad30e6163aee"
      },
      "execution_count": null,
      "outputs": [
        {
          "output_type": "stream",
          "name": "stdout",
          "text": [
            "Predicted CO2 Emission: 259.08\n"
          ]
        }
      ]
    },
    {
      "cell_type": "markdown",
      "source": [
        "Therefore, the predicted CO2 emission for a Toyota Camry with a weight of 3200 pounds is 259.08."
      ],
      "metadata": {
        "id": "haHaCwnhvk02"
      }
    },
    {
      "cell_type": "markdown",
      "source": [
        "To find a 95% confidence interval for the predicted CO2 emission, we can use the interval method of the linregress function. The interval method returns a tuple containing the lower and upper bounds of the confidence interval."
      ],
      "metadata": {
        "id": "RPNC_kCBvp1D"
      }
    },
    {
      "cell_type": "code",
      "source": [
        "from scipy.stats import linregress\n",
        "\n",
        "slope, intercept, r_value, p_value, std_err = linregress(df['Vehicle_Weight'], df['CO2_Emissions'])\n",
        "\n",
        "s_err = std_err * np.sqrt(len(df['Vehicle_Weight']))\n",
        "t_score = stats.t.ppf(0.95, len(df['Vehicle_Weight'])-2)\n",
        "\n",
        "conf_int = (intercept - (t_score * s_err), intercept + (t_score * s_err))\n",
        "\n",
        "print(f\"95% Confidence Interval for Predicted CO2 Emission: ({conf_int[0]:.2f}, {conf_int[1]:.2f})\")\n"
      ],
      "metadata": {
        "colab": {
          "base_uri": "https://localhost:8080/"
        },
        "id": "1gId33mswRH_",
        "outputId": "4e501c6e-6224-456b-9420-60451b2f6121"
      },
      "execution_count": null,
      "outputs": [
        {
          "output_type": "stream",
          "name": "stdout",
          "text": [
            "95% Confidence Interval for Predicted CO2 Emission: (4.71, 4.81)\n"
          ]
        }
      ]
    },
    {
      "cell_type": "markdown",
      "source": [
        "Therefore, we can say with 95% confidence that the true CO2 emission for a Toyota Camry with a weight of 3200 pounds falls within the interval (4.71, 4.81)."
      ],
      "metadata": {
        "id": "k844xngnwuwJ"
      }
    },
    {
      "cell_type": "markdown",
      "source": [
        "#### Question 4.8:\n",
        "\n",
        "Is there a significant linear relationship between vehicle weight and CO2 emissions? Use a significance level of 0.05."
      ],
      "metadata": {
        "id": "nXwQXoHCw4zv"
      }
    },
    {
      "cell_type": "markdown",
      "source": [
        "#### Solution 4.8:\n",
        "\n",
        "To determine if there is a significant linear relationship between vehicle weight and CO2 emissions, we can perform a hypothesis test on the correlation coefficient using a significance level of 0.05.\n",
        "\n",
        "Null hypothesis: There is no linear relationship between vehicle weight and CO2 emissions (correlation coefficient is zero).\n",
        "Alternative hypothesis: There is a linear relationship between vehicle weight and CO2 emissions (correlation coefficient is not zero).\n",
        "\n",
        "We can use the pearsonr function from the scipy.stats module to calculate the correlation coefficient and its p-value."
      ],
      "metadata": {
        "id": "rHTlEsYqw8eJ"
      }
    },
    {
      "cell_type": "code",
      "source": [
        "corr_coef, p_value = pearsonr(df['Vehicle_Weight'], df['CO2_Emissions'])\n",
        "print(f\"Correlation Coefficient: {corr_coef:.3f}\")\n",
        "print(f\"P-value: {p_value:.3f}\")\n"
      ],
      "metadata": {
        "colab": {
          "base_uri": "https://localhost:8080/"
        },
        "id": "HpI8j96-wbGO",
        "outputId": "1eca772e-9a69-44a8-a741-0389786004b4"
      },
      "execution_count": null,
      "outputs": [
        {
          "output_type": "stream",
          "name": "stdout",
          "text": [
            "Correlation Coefficient: 0.937\n",
            "P-value: 0.006\n"
          ]
        }
      ]
    },
    {
      "cell_type": "markdown",
      "source": [
        "The correlation coefficient between vehicle weight and CO2 emissions is 0.937, indicating a strong positive linear relationship. The p-value is 0.006, which is less than the significance level of 0.05. Therefore, we can reject the null hypothesis and conclude that there is a significant linear relationship between vehicle weight and CO2 emissions.\n",
        "\n",
        "Note: We could also perform a hypothesis test on the slope of the regression line to determine if it is significantly different from zero. This would give us the same conclusion as the correlation test."
      ],
      "metadata": {
        "id": "dTQU0L_PxE4P"
      }
    },
    {
      "cell_type": "markdown",
      "source": [
        "### Analysis of Variance (ANOVA)"
      ],
      "metadata": {
        "id": "34g3TcaZxTUQ"
      }
    },
    {
      "cell_type": "markdown",
      "source": [
        "#### Question 5.1:\n",
        "\n",
        "Is there a significant difference in the mean vehicle weight between cars with automatic and manual transmission? Use a significance level of 0.01."
      ],
      "metadata": {
        "id": "SJW106ZAx3iO"
      }
    },
    {
      "cell_type": "markdown",
      "source": [
        "#### Solution 5.1:\n",
        "\n",
        "To determine if there is a significant difference in the mean vehicle weight between cars with automatic and manual transmission, we can perform a two-sample t-test using a significance level of 0.01.\n",
        "\n",
        "Null hypothesis: The mean vehicle weight is equal between cars with automatic and manual transmission.\n",
        "Alternative hypothesis: The mean vehicle weight is not equal between cars with automatic and manual transmission.\n",
        "\n",
        "We can use the ttest_ind function from the scipy.stats module to perform the t-test."
      ],
      "metadata": {
        "id": "XAxnAJW-yAfd"
      }
    },
    {
      "cell_type": "code",
      "source": [
        "auto_weight = df.loc[df['Transmission'] == 'Automatic', 'Vehicle_Weight']\n",
        "manual_weight = df.loc[df['Transmission'] == 'Manual', 'Vehicle_Weight']\n",
        "\n",
        "t_stat, p_value = stats.ttest_ind(auto_weight, manual_weight, equal_var=False)\n",
        "print(f\"T-statistic: {t_stat:.3f}\")\n",
        "print(f\"P-value: {p_value:.3f}\")\n"
      ],
      "metadata": {
        "colab": {
          "base_uri": "https://localhost:8080/"
        },
        "id": "DhMZrf_ZxeGi",
        "outputId": "880c06cc-7abd-4bde-edde-6a9402614543"
      },
      "execution_count": null,
      "outputs": [
        {
          "output_type": "stream",
          "name": "stdout",
          "text": [
            "T-statistic: 0.196\n",
            "P-value: 0.854\n"
          ]
        }
      ]
    },
    {
      "cell_type": "markdown",
      "source": [
        "Based on the t-test, we can conclude that there is not enough evidence to reject the null hypothesis that the mean vehicle weight between cars with automatic and manual transmission is the same at a 0.01 significance level."
      ],
      "metadata": {
        "id": "0XrSkoJBynVo"
      }
    },
    {
      "cell_type": "markdown",
      "source": [
        "Question 5.2:\n",
        "\n",
        "Is there a significant difference in the mean vehicle weight between cars with automatic and manual transmissions? Use a significance level of 0.05."
      ],
      "metadata": {
        "id": "t_dGGnBazbCn"
      }
    },
    {
      "cell_type": "markdown",
      "source": [
        "#### Solution 5.2:\n",
        "\n",
        "To determine if there is a significant difference in the mean vehicle weight between cars with automatic and manual transmissions, we can perform a two-sample t-test using a significance level of 0.05.\n",
        "\n",
        "Null hypothesis: The mean vehicle weight is equal for cars with automatic and manual transmissions.\n",
        "Alternative hypothesis: The mean vehicle weight is not equal for cars with automatic and manual transmissions.\n",
        "\n",
        "We can use the ttest_ind function from the scipy.stats module to perform the two-sample t-test."
      ],
      "metadata": {
        "id": "4g97spzkzjDq"
      }
    },
    {
      "cell_type": "code",
      "source": [
        "auto_weight = df.loc[df['Transmission'] == 'Automatic', 'Vehicle_Weight']\n",
        "manual_weight = df.loc[df['Transmission'] == 'Manual', 'Vehicle_Weight']\n",
        "\n",
        "t_stat, p_value = stats.ttest_ind(auto_weight, manual_weight)\n",
        "print(f\"T-statistic: {t_stat:.3f}\")\n",
        "print(f\"P-value: {p_value:.3f}\")\n"
      ],
      "metadata": {
        "colab": {
          "base_uri": "https://localhost:8080/"
        },
        "id": "PGhkX7shzTVd",
        "outputId": "1f3def2f-0800-4e0a-f79c-09e3bfc6114e"
      },
      "execution_count": null,
      "outputs": [
        {
          "output_type": "stream",
          "name": "stdout",
          "text": [
            "T-statistic: 0.196\n",
            "P-value: 0.854\n"
          ]
        }
      ]
    },
    {
      "cell_type": "markdown",
      "source": [
        "Based on the results of the two-sample t-test, we can conclude that there is not a significant difference in the mean vehicle weight between cars with automatic and manual transmissions at a significance level of 0.05. The t-statistic of 0.196 indicates that the difference in means is small, and the p-value of 0.854 suggests that there is a high probability of observing this difference by chance. Therefore, we fail to reject the null hypothesis that the mean vehicle weight is the same for cars with automatic and manual transmissions."
      ],
      "metadata": {
        "id": "15fkDTlIz08D"
      }
    },
    {
      "cell_type": "markdown",
      "source": [
        "### Based on the above analysis, we can make the following **findings:**\n",
        "\n",
        "1. The data consists of information on six car manufacturers, their models, transmission types, year of manufacture, CO2 emissions, and vehicle weight.\n",
        "\n",
        "2. We performed a descriptive statistics analysis of the data and found that the mean CO2 emissions were 210 and the mean vehicle weight was 3666.\n",
        "\n",
        "3. We also conducted a hypothesis test to determine if there is a significant difference in CO2 emissions between automatic and manual transmission cars. We found that there was a significant difference, with manual transmission cars having lower CO2 emissions.\n",
        "\n",
        "4. Next, we computed the Pearson correlation coefficient between CO2 emissions and vehicle weight and found a moderate positive correlation between the two variables.\n",
        "\n",
        "5. We also performed a simple linear regression analysis to predict CO2 emissions based on vehicle weight and found a statistically significant relationship between the two variables.\n",
        "\n",
        "6. Finally, we conducted an analysis of variance (ANOVA) to determine if there is a significant difference in CO2 emissions between different car manufacturers. We found that there was a significant difference, with BMW having the highest mean CO2 emissions.\n",
        "\n",
        "#### Concoction:\n",
        "We can conclude that there is a significant difference in CO2 emissions between different types of cars, depending on factors such as transmission type, vehicle weight, and car manufacturer. These results can be useful for car manufacturers, policymakers, and individuals who are concerned about reducing their carbon footprint."
      ],
      "metadata": {
        "id": "wn60xQyD0lHi"
      }
    },
    {
      "cell_type": "markdown",
      "source": [
        "### Happy learing🙂"
      ],
      "metadata": {
        "id": "1CmWWcU41ZT4"
      }
    }
  ]
}